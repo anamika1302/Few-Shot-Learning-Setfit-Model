{
  "cells": [
    {
      "cell_type": "markdown",
      "metadata": {
        "id": "view-in-github",
        "colab_type": "text"
      },
      "source": [
        "<a href=\"https://colab.research.google.com/github/anamika1302/Few-Shot-Learning-Setfit-Model/blob/main/Few_Shot_Learning_using_SetFit_Model.ipynb\" target=\"_parent\"><img src=\"https://colab.research.google.com/assets/colab-badge.svg\" alt=\"Open In Colab\"/></a>"
      ]
    },
    {
      "cell_type": "code",
      "execution_count": null,
      "metadata": {
        "colab": {
          "base_uri": "https://localhost:8080/"
        },
        "id": "uzhYnvyW5IJJ",
        "outputId": "ab016625-a7ab-41cb-9c4b-e40945cfb0c4"
      },
      "outputs": [
        {
          "name": "stdout",
          "output_type": "stream",
          "text": [
            "Looking in indexes: https://pypi.org/simple, https://us-python.pkg.dev/colab-wheels/public/simple/\n",
            "Requirement already satisfied: transformers in /usr/local/lib/python3.9/dist-packages (4.27.4)\n",
            "Requirement already satisfied: pyyaml>=5.1 in /usr/local/lib/python3.9/dist-packages (from transformers) (6.0)\n",
            "Requirement already satisfied: numpy>=1.17 in /usr/local/lib/python3.9/dist-packages (from transformers) (1.22.4)\n",
            "Requirement already satisfied: huggingface-hub<1.0,>=0.11.0 in /usr/local/lib/python3.9/dist-packages (from transformers) (0.13.3)\n",
            "Requirement already satisfied: filelock in /usr/local/lib/python3.9/dist-packages (from transformers) (3.10.7)\n",
            "Requirement already satisfied: tokenizers!=0.11.3,<0.14,>=0.11.1 in /usr/local/lib/python3.9/dist-packages (from transformers) (0.13.2)\n",
            "Requirement already satisfied: packaging>=20.0 in /usr/local/lib/python3.9/dist-packages (from transformers) (23.0)\n",
            "Requirement already satisfied: tqdm>=4.27 in /usr/local/lib/python3.9/dist-packages (from transformers) (4.65.0)\n",
            "Requirement already satisfied: requests in /usr/local/lib/python3.9/dist-packages (from transformers) (2.27.1)\n",
            "Requirement already satisfied: regex!=2019.12.17 in /usr/local/lib/python3.9/dist-packages (from transformers) (2022.10.31)\n",
            "Requirement already satisfied: typing-extensions>=3.7.4.3 in /usr/local/lib/python3.9/dist-packages (from huggingface-hub<1.0,>=0.11.0->transformers) (4.5.0)\n",
            "Requirement already satisfied: charset-normalizer~=2.0.0 in /usr/local/lib/python3.9/dist-packages (from requests->transformers) (2.0.12)\n",
            "Requirement already satisfied: idna<4,>=2.5 in /usr/local/lib/python3.9/dist-packages (from requests->transformers) (3.4)\n",
            "Requirement already satisfied: certifi>=2017.4.17 in /usr/local/lib/python3.9/dist-packages (from requests->transformers) (2022.12.7)\n",
            "Requirement already satisfied: urllib3<1.27,>=1.21.1 in /usr/local/lib/python3.9/dist-packages (from requests->transformers) (1.26.15)\n"
          ]
        }
      ],
      "source": [
        "!pip install transformers"
      ]
    },
    {
      "cell_type": "code",
      "execution_count": null,
      "metadata": {
        "colab": {
          "base_uri": "https://localhost:8080/"
        },
        "id": "J1eKEjj6IMyp",
        "outputId": "1f409525-a2a0-48e5-ae76-ece86852bb0e"
      },
      "outputs": [
        {
          "name": "stdout",
          "output_type": "stream",
          "text": [
            "Looking in indexes: https://pypi.org/simple, https://us-python.pkg.dev/colab-wheels/public/simple/\n",
            "Requirement already satisfied: evaluate in /usr/local/lib/python3.9/dist-packages (0.4.0)\n",
            "Requirement already satisfied: dill in /usr/local/lib/python3.9/dist-packages (from evaluate) (0.3.6)\n",
            "Requirement already satisfied: packaging in /usr/local/lib/python3.9/dist-packages (from evaluate) (23.0)\n",
            "Requirement already satisfied: tqdm>=4.62.1 in /usr/local/lib/python3.9/dist-packages (from evaluate) (4.65.0)\n",
            "Requirement already satisfied: pandas in /usr/local/lib/python3.9/dist-packages (from evaluate) (1.4.4)\n",
            "Requirement already satisfied: multiprocess in /usr/local/lib/python3.9/dist-packages (from evaluate) (0.70.14)\n",
            "Requirement already satisfied: huggingface-hub>=0.7.0 in /usr/local/lib/python3.9/dist-packages (from evaluate) (0.13.3)\n",
            "Requirement already satisfied: responses<0.19 in /usr/local/lib/python3.9/dist-packages (from evaluate) (0.18.0)\n",
            "Requirement already satisfied: requests>=2.19.0 in /usr/local/lib/python3.9/dist-packages (from evaluate) (2.27.1)\n",
            "Requirement already satisfied: numpy>=1.17 in /usr/local/lib/python3.9/dist-packages (from evaluate) (1.22.4)\n",
            "Requirement already satisfied: datasets>=2.0.0 in /usr/local/lib/python3.9/dist-packages (from evaluate) (2.11.0)\n",
            "Requirement already satisfied: xxhash in /usr/local/lib/python3.9/dist-packages (from evaluate) (3.2.0)\n",
            "Requirement already satisfied: fsspec[http]>=2021.05.0 in /usr/local/lib/python3.9/dist-packages (from evaluate) (2023.3.0)\n",
            "Requirement already satisfied: pyyaml>=5.1 in /usr/local/lib/python3.9/dist-packages (from datasets>=2.0.0->evaluate) (6.0)\n",
            "Requirement already satisfied: aiohttp in /usr/local/lib/python3.9/dist-packages (from datasets>=2.0.0->evaluate) (3.8.4)\n",
            "Requirement already satisfied: pyarrow>=8.0.0 in /usr/local/lib/python3.9/dist-packages (from datasets>=2.0.0->evaluate) (9.0.0)\n",
            "Requirement already satisfied: filelock in /usr/local/lib/python3.9/dist-packages (from huggingface-hub>=0.7.0->evaluate) (3.10.7)\n",
            "Requirement already satisfied: typing-extensions>=3.7.4.3 in /usr/local/lib/python3.9/dist-packages (from huggingface-hub>=0.7.0->evaluate) (4.5.0)\n",
            "Requirement already satisfied: urllib3<1.27,>=1.21.1 in /usr/local/lib/python3.9/dist-packages (from requests>=2.19.0->evaluate) (1.26.15)\n",
            "Requirement already satisfied: charset-normalizer~=2.0.0 in /usr/local/lib/python3.9/dist-packages (from requests>=2.19.0->evaluate) (2.0.12)\n",
            "Requirement already satisfied: idna<4,>=2.5 in /usr/local/lib/python3.9/dist-packages (from requests>=2.19.0->evaluate) (3.4)\n",
            "Requirement already satisfied: certifi>=2017.4.17 in /usr/local/lib/python3.9/dist-packages (from requests>=2.19.0->evaluate) (2022.12.7)\n",
            "Requirement already satisfied: pytz>=2020.1 in /usr/local/lib/python3.9/dist-packages (from pandas->evaluate) (2022.7.1)\n",
            "Requirement already satisfied: python-dateutil>=2.8.1 in /usr/local/lib/python3.9/dist-packages (from pandas->evaluate) (2.8.2)\n",
            "Requirement already satisfied: multidict<7.0,>=4.5 in /usr/local/lib/python3.9/dist-packages (from aiohttp->datasets>=2.0.0->evaluate) (6.0.4)\n",
            "Requirement already satisfied: attrs>=17.3.0 in /usr/local/lib/python3.9/dist-packages (from aiohttp->datasets>=2.0.0->evaluate) (22.2.0)\n",
            "Requirement already satisfied: yarl<2.0,>=1.0 in /usr/local/lib/python3.9/dist-packages (from aiohttp->datasets>=2.0.0->evaluate) (1.8.2)\n",
            "Requirement already satisfied: frozenlist>=1.1.1 in /usr/local/lib/python3.9/dist-packages (from aiohttp->datasets>=2.0.0->evaluate) (1.3.3)\n",
            "Requirement already satisfied: async-timeout<5.0,>=4.0.0a3 in /usr/local/lib/python3.9/dist-packages (from aiohttp->datasets>=2.0.0->evaluate) (4.0.2)\n",
            "Requirement already satisfied: aiosignal>=1.1.2 in /usr/local/lib/python3.9/dist-packages (from aiohttp->datasets>=2.0.0->evaluate) (1.3.1)\n",
            "Requirement already satisfied: six>=1.5 in /usr/local/lib/python3.9/dist-packages (from python-dateutil>=2.8.1->pandas->evaluate) (1.16.0)\n"
          ]
        }
      ],
      "source": [
        "!pip install evaluate"
      ]
    },
    {
      "cell_type": "code",
      "execution_count": null,
      "metadata": {
        "colab": {
          "base_uri": "https://localhost:8080/"
        },
        "id": "-x6kAqWGyf21",
        "outputId": "2aafec1d-056e-4079-c6ef-8857715b7ef5"
      },
      "outputs": [
        {
          "name": "stdout",
          "output_type": "stream",
          "text": [
            "Looking in indexes: https://pypi.org/simple, https://us-python.pkg.dev/colab-wheels/public/simple/\n",
            "Requirement already satisfied: setfit in /usr/local/lib/python3.9/dist-packages (0.6.0)\n",
            "Requirement already satisfied: evaluate>=0.3.0 in /usr/local/lib/python3.9/dist-packages (from setfit) (0.4.0)\n",
            "Requirement already satisfied: sentence-transformers>=2.2.1 in /usr/local/lib/python3.9/dist-packages (from setfit) (2.2.2)\n",
            "Requirement already satisfied: datasets>=2.3.0 in /usr/local/lib/python3.9/dist-packages (from setfit) (2.11.0)\n",
            "Requirement already satisfied: dill<0.3.7,>=0.3.0 in /usr/local/lib/python3.9/dist-packages (from datasets>=2.3.0->setfit) (0.3.6)\n",
            "Requirement already satisfied: pyyaml>=5.1 in /usr/local/lib/python3.9/dist-packages (from datasets>=2.3.0->setfit) (6.0)\n",
            "Requirement already satisfied: requests>=2.19.0 in /usr/local/lib/python3.9/dist-packages (from datasets>=2.3.0->setfit) (2.27.1)\n",
            "Requirement already satisfied: packaging in /usr/local/lib/python3.9/dist-packages (from datasets>=2.3.0->setfit) (23.0)\n",
            "Requirement already satisfied: responses<0.19 in /usr/local/lib/python3.9/dist-packages (from datasets>=2.3.0->setfit) (0.18.0)\n",
            "Requirement already satisfied: huggingface-hub<1.0.0,>=0.11.0 in /usr/local/lib/python3.9/dist-packages (from datasets>=2.3.0->setfit) (0.13.3)\n",
            "Requirement already satisfied: tqdm>=4.62.1 in /usr/local/lib/python3.9/dist-packages (from datasets>=2.3.0->setfit) (4.65.0)\n",
            "Requirement already satisfied: multiprocess in /usr/local/lib/python3.9/dist-packages (from datasets>=2.3.0->setfit) (0.70.14)\n",
            "Requirement already satisfied: xxhash in /usr/local/lib/python3.9/dist-packages (from datasets>=2.3.0->setfit) (3.2.0)\n",
            "Requirement already satisfied: fsspec[http]>=2021.11.1 in /usr/local/lib/python3.9/dist-packages (from datasets>=2.3.0->setfit) (2023.3.0)\n",
            "Requirement already satisfied: aiohttp in /usr/local/lib/python3.9/dist-packages (from datasets>=2.3.0->setfit) (3.8.4)\n",
            "Requirement already satisfied: numpy>=1.17 in /usr/local/lib/python3.9/dist-packages (from datasets>=2.3.0->setfit) (1.22.4)\n",
            "Requirement already satisfied: pandas in /usr/local/lib/python3.9/dist-packages (from datasets>=2.3.0->setfit) (1.4.4)\n",
            "Requirement already satisfied: pyarrow>=8.0.0 in /usr/local/lib/python3.9/dist-packages (from datasets>=2.3.0->setfit) (9.0.0)\n",
            "Requirement already satisfied: torch>=1.6.0 in /usr/local/lib/python3.9/dist-packages (from sentence-transformers>=2.2.1->setfit) (1.13.1+cu116)\n",
            "Requirement already satisfied: transformers<5.0.0,>=4.6.0 in /usr/local/lib/python3.9/dist-packages (from sentence-transformers>=2.2.1->setfit) (4.27.4)\n",
            "Requirement already satisfied: scipy in /usr/local/lib/python3.9/dist-packages (from sentence-transformers>=2.2.1->setfit) (1.10.1)\n",
            "Requirement already satisfied: sentencepiece in /usr/local/lib/python3.9/dist-packages (from sentence-transformers>=2.2.1->setfit) (0.1.97)\n",
            "Requirement already satisfied: torchvision in /usr/local/lib/python3.9/dist-packages (from sentence-transformers>=2.2.1->setfit) (0.14.1+cu116)\n",
            "Requirement already satisfied: scikit-learn in /usr/local/lib/python3.9/dist-packages (from sentence-transformers>=2.2.1->setfit) (1.2.2)\n",
            "Requirement already satisfied: nltk in /usr/local/lib/python3.9/dist-packages (from sentence-transformers>=2.2.1->setfit) (3.8.1)\n",
            "Requirement already satisfied: frozenlist>=1.1.1 in /usr/local/lib/python3.9/dist-packages (from aiohttp->datasets>=2.3.0->setfit) (1.3.3)\n",
            "Requirement already satisfied: charset-normalizer<4.0,>=2.0 in /usr/local/lib/python3.9/dist-packages (from aiohttp->datasets>=2.3.0->setfit) (2.0.12)\n",
            "Requirement already satisfied: multidict<7.0,>=4.5 in /usr/local/lib/python3.9/dist-packages (from aiohttp->datasets>=2.3.0->setfit) (6.0.4)\n",
            "Requirement already satisfied: yarl<2.0,>=1.0 in /usr/local/lib/python3.9/dist-packages (from aiohttp->datasets>=2.3.0->setfit) (1.8.2)\n",
            "Requirement already satisfied: attrs>=17.3.0 in /usr/local/lib/python3.9/dist-packages (from aiohttp->datasets>=2.3.0->setfit) (22.2.0)\n",
            "Requirement already satisfied: async-timeout<5.0,>=4.0.0a3 in /usr/local/lib/python3.9/dist-packages (from aiohttp->datasets>=2.3.0->setfit) (4.0.2)\n",
            "Requirement already satisfied: aiosignal>=1.1.2 in /usr/local/lib/python3.9/dist-packages (from aiohttp->datasets>=2.3.0->setfit) (1.3.1)\n",
            "Requirement already satisfied: typing-extensions>=3.7.4.3 in /usr/local/lib/python3.9/dist-packages (from huggingface-hub<1.0.0,>=0.11.0->datasets>=2.3.0->setfit) (4.5.0)\n",
            "Requirement already satisfied: filelock in /usr/local/lib/python3.9/dist-packages (from huggingface-hub<1.0.0,>=0.11.0->datasets>=2.3.0->setfit) (3.10.7)\n",
            "Requirement already satisfied: certifi>=2017.4.17 in /usr/local/lib/python3.9/dist-packages (from requests>=2.19.0->datasets>=2.3.0->setfit) (2022.12.7)\n",
            "Requirement already satisfied: urllib3<1.27,>=1.21.1 in /usr/local/lib/python3.9/dist-packages (from requests>=2.19.0->datasets>=2.3.0->setfit) (1.26.15)\n",
            "Requirement already satisfied: idna<4,>=2.5 in /usr/local/lib/python3.9/dist-packages (from requests>=2.19.0->datasets>=2.3.0->setfit) (3.4)\n",
            "Requirement already satisfied: tokenizers!=0.11.3,<0.14,>=0.11.1 in /usr/local/lib/python3.9/dist-packages (from transformers<5.0.0,>=4.6.0->sentence-transformers>=2.2.1->setfit) (0.13.2)\n",
            "Requirement already satisfied: regex!=2019.12.17 in /usr/local/lib/python3.9/dist-packages (from transformers<5.0.0,>=4.6.0->sentence-transformers>=2.2.1->setfit) (2022.10.31)\n",
            "Requirement already satisfied: joblib in /usr/local/lib/python3.9/dist-packages (from nltk->sentence-transformers>=2.2.1->setfit) (1.1.1)\n",
            "Requirement already satisfied: click in /usr/local/lib/python3.9/dist-packages (from nltk->sentence-transformers>=2.2.1->setfit) (8.1.3)\n",
            "Requirement already satisfied: python-dateutil>=2.8.1 in /usr/local/lib/python3.9/dist-packages (from pandas->datasets>=2.3.0->setfit) (2.8.2)\n",
            "Requirement already satisfied: pytz>=2020.1 in /usr/local/lib/python3.9/dist-packages (from pandas->datasets>=2.3.0->setfit) (2022.7.1)\n",
            "Requirement already satisfied: threadpoolctl>=2.0.0 in /usr/local/lib/python3.9/dist-packages (from scikit-learn->sentence-transformers>=2.2.1->setfit) (3.1.0)\n",
            "Requirement already satisfied: pillow!=8.3.*,>=5.3.0 in /usr/local/lib/python3.9/dist-packages (from torchvision->sentence-transformers>=2.2.1->setfit) (8.4.0)\n",
            "Requirement already satisfied: six>=1.5 in /usr/local/lib/python3.9/dist-packages (from python-dateutil>=2.8.1->pandas->datasets>=2.3.0->setfit) (1.16.0)\n"
          ]
        }
      ],
      "source": [
        "!pip install setfit"
      ]
    },
    {
      "cell_type": "code",
      "execution_count": null,
      "metadata": {
        "colab": {
          "base_uri": "https://localhost:8080/"
        },
        "id": "aj9yjeAM3KnQ",
        "outputId": "7d464843-6e45-4336-ae27-4b435c223cb3"
      },
      "outputs": [
        {
          "name": "stdout",
          "output_type": "stream",
          "text": [
            "Looking in indexes: https://pypi.org/simple, https://us-python.pkg.dev/colab-wheels/public/simple/\n",
            "Requirement already satisfied: wandb in /usr/local/lib/python3.9/dist-packages (0.14.0)\n",
            "Requirement already satisfied: requests<3,>=2.0.0 in /usr/local/lib/python3.9/dist-packages (from wandb) (2.27.1)\n",
            "Requirement already satisfied: GitPython!=3.1.29,>=1.0.0 in /usr/local/lib/python3.9/dist-packages (from wandb) (3.1.31)\n",
            "Requirement already satisfied: psutil>=5.0.0 in /usr/local/lib/python3.9/dist-packages (from wandb) (5.9.4)\n",
            "Requirement already satisfied: Click!=8.0.0,>=7.0 in /usr/local/lib/python3.9/dist-packages (from wandb) (8.1.3)\n",
            "Requirement already satisfied: pathtools in /usr/local/lib/python3.9/dist-packages (from wandb) (0.1.2)\n",
            "Requirement already satisfied: docker-pycreds>=0.4.0 in /usr/local/lib/python3.9/dist-packages (from wandb) (0.4.0)\n",
            "Requirement already satisfied: setuptools in /usr/local/lib/python3.9/dist-packages (from wandb) (67.6.1)\n",
            "Requirement already satisfied: PyYAML in /usr/local/lib/python3.9/dist-packages (from wandb) (6.0)\n",
            "Requirement already satisfied: appdirs>=1.4.3 in /usr/local/lib/python3.9/dist-packages (from wandb) (1.4.4)\n",
            "Requirement already satisfied: sentry-sdk>=1.0.0 in /usr/local/lib/python3.9/dist-packages (from wandb) (1.18.0)\n",
            "Requirement already satisfied: protobuf!=4.21.0,<5,>=3.15.0 in /usr/local/lib/python3.9/dist-packages (from wandb) (3.20.3)\n",
            "Requirement already satisfied: typing-extensions in /usr/local/lib/python3.9/dist-packages (from wandb) (4.5.0)\n",
            "Requirement already satisfied: setproctitle in /usr/local/lib/python3.9/dist-packages (from wandb) (1.3.2)\n",
            "Requirement already satisfied: six>=1.4.0 in /usr/local/lib/python3.9/dist-packages (from docker-pycreds>=0.4.0->wandb) (1.16.0)\n",
            "Requirement already satisfied: gitdb<5,>=4.0.1 in /usr/local/lib/python3.9/dist-packages (from GitPython!=3.1.29,>=1.0.0->wandb) (4.0.10)\n",
            "Requirement already satisfied: urllib3<1.27,>=1.21.1 in /usr/local/lib/python3.9/dist-packages (from requests<3,>=2.0.0->wandb) (1.26.15)\n",
            "Requirement already satisfied: idna<4,>=2.5 in /usr/local/lib/python3.9/dist-packages (from requests<3,>=2.0.0->wandb) (3.4)\n",
            "Requirement already satisfied: charset-normalizer~=2.0.0 in /usr/local/lib/python3.9/dist-packages (from requests<3,>=2.0.0->wandb) (2.0.12)\n",
            "Requirement already satisfied: certifi>=2017.4.17 in /usr/local/lib/python3.9/dist-packages (from requests<3,>=2.0.0->wandb) (2022.12.7)\n",
            "Requirement already satisfied: smmap<6,>=3.0.1 in /usr/local/lib/python3.9/dist-packages (from gitdb<5,>=4.0.1->GitPython!=3.1.29,>=1.0.0->wandb) (5.0.0)\n"
          ]
        }
      ],
      "source": [
        "!pip install wandb\n",
        "\n"
      ]
    },
    {
      "cell_type": "code",
      "execution_count": null,
      "metadata": {
        "id": "fiiZBSicAUWK"
      },
      "outputs": [],
      "source": [
        "import torch\n",
        "import wandb\n",
        "import sklearn\n",
        "import evaluate\n",
        "import numpy as np\n",
        "import pandas as pd\n",
        "import seaborn as sns\n",
        "from datasets import Dataset\n",
        "import matplotlib.pyplot as plt\n",
        "from sklearn import preprocessing\n",
        "from setfit import SetFitModel, SetFitTrainer\n",
        "from sklearn.model_selection import train_test_split\n",
        "from sentence_transformers.losses import CosineSimilarityLoss\n",
        "from sklearn.metrics import confusion_matrix, classification_report\n",
        "from transformers import AutoModelForSequenceClassification, Trainer, TrainingArguments,Trainer,DataCollatorWithPadding,EarlyStoppingCallback"
      ]
    },
    {
      "cell_type": "markdown",
      "metadata": {
        "id": "QDdxvQm1BNaU"
      },
      "source": [
        "#### **Loading Dataset**"
      ]
    },
    {
      "cell_type": "code",
      "execution_count": null,
      "metadata": {
        "colab": {
          "base_uri": "https://localhost:8080/",
          "height": 870
        },
        "id": "BlfscF-DAaFy",
        "outputId": "9f45759c-c3b1-4764-9ac5-3e9dbb67795e"
      },
      "outputs": [
        {
          "data": {
            "text/html": [
              "\n",
              "  <div id=\"df-c8ac3e35-9a12-48cf-a8f5-cc6764e3c944\">\n",
              "    <div class=\"colab-df-container\">\n",
              "      <div>\n",
              "<style scoped>\n",
              "    .dataframe tbody tr th:only-of-type {\n",
              "        vertical-align: middle;\n",
              "    }\n",
              "\n",
              "    .dataframe tbody tr th {\n",
              "        vertical-align: top;\n",
              "    }\n",
              "\n",
              "    .dataframe thead th {\n",
              "        text-align: right;\n",
              "    }\n",
              "</style>\n",
              "<table border=\"1\" class=\"dataframe\">\n",
              "  <thead>\n",
              "    <tr style=\"text-align: right;\">\n",
              "      <th></th>\n",
              "      <th>PREDICATION_ID</th>\n",
              "      <th>PMID</th>\n",
              "      <th>PREDICATE</th>\n",
              "      <th>INDICATOR_TYPE</th>\n",
              "      <th>PREDICATE_START_INDEX</th>\n",
              "      <th>PREDICATE_END_INDEX</th>\n",
              "      <th>SUBJECT_TEXT</th>\n",
              "      <th>SUBJECT_SEMTYPE</th>\n",
              "      <th>SUBJECT_START_INDEX</th>\n",
              "      <th>SUBJECT_END_INDEX</th>\n",
              "      <th>...</th>\n",
              "      <th>OBJECT_START_INDEX</th>\n",
              "      <th>OBJECT_END_INDEX</th>\n",
              "      <th>OBJECT_SCORE</th>\n",
              "      <th>OBJECT_DIST</th>\n",
              "      <th>OBJECT_MAXDIST</th>\n",
              "      <th>OBJECT_CUI</th>\n",
              "      <th>OBJECT_NOVELTY</th>\n",
              "      <th>TYPE</th>\n",
              "      <th>SENTENCE</th>\n",
              "      <th>LABEL</th>\n",
              "    </tr>\n",
              "  </thead>\n",
              "  <tbody>\n",
              "    <tr>\n",
              "      <th>0</th>\n",
              "      <td>P3100</td>\n",
              "      <td>6499897</td>\n",
              "      <td>INTERACTS_WITH</td>\n",
              "      <td>NOM</td>\n",
              "      <td>1298</td>\n",
              "      <td>1304</td>\n",
              "      <td>SA</td>\n",
              "      <td>orch</td>\n",
              "      <td>1235</td>\n",
              "      <td>1237</td>\n",
              "      <td>...</td>\n",
              "      <td>1329</td>\n",
              "      <td>1332</td>\n",
              "      <td>1000</td>\n",
              "      <td>2</td>\n",
              "      <td>2</td>\n",
              "      <td>C0004057</td>\n",
              "      <td>1</td>\n",
              "      <td>ab</td>\n",
              "      <td>Nor did administration of SA, diflunisal or AS...</td>\n",
              "      <td>n</td>\n",
              "    </tr>\n",
              "    <tr>\n",
              "      <th>1</th>\n",
              "      <td>P3101</td>\n",
              "      <td>8369307</td>\n",
              "      <td>INHIBITS</td>\n",
              "      <td>VERB</td>\n",
              "      <td>890</td>\n",
              "      <td>899</td>\n",
              "      <td>rHF</td>\n",
              "      <td>aapp</td>\n",
              "      <td>785</td>\n",
              "      <td>788</td>\n",
              "      <td>...</td>\n",
              "      <td>912</td>\n",
              "      <td>919</td>\n",
              "      <td>888</td>\n",
              "      <td>1</td>\n",
              "      <td>15</td>\n",
              "      <td>C0242417</td>\n",
              "      <td>1</td>\n",
              "      <td>ab</td>\n",
              "      <td>A       comparative study of recombinant L-cha...</td>\n",
              "      <td>n</td>\n",
              "    </tr>\n",
              "    <tr>\n",
              "      <th>2</th>\n",
              "      <td>P3102</td>\n",
              "      <td>3711333</td>\n",
              "      <td>INHIBITS</td>\n",
              "      <td>VERB</td>\n",
              "      <td>1527</td>\n",
              "      <td>1534</td>\n",
              "      <td>alkaloids</td>\n",
              "      <td>orch</td>\n",
              "      <td>1508</td>\n",
              "      <td>1517</td>\n",
              "      <td>...</td>\n",
              "      <td>1541</td>\n",
              "      <td>1550</td>\n",
              "      <td>1000</td>\n",
              "      <td>1</td>\n",
              "      <td>1</td>\n",
              "      <td>C0003805</td>\n",
              "      <td>1</td>\n",
              "      <td>ab</td>\n",
              "      <td>These findings suggest that some nicotinic alk...</td>\n",
              "      <td>y</td>\n",
              "    </tr>\n",
              "    <tr>\n",
              "      <th>3</th>\n",
              "      <td>P3103</td>\n",
              "      <td>11742534</td>\n",
              "      <td>INTERACTS_WITH</td>\n",
              "      <td>NOM</td>\n",
              "      <td>746</td>\n",
              "      <td>753</td>\n",
              "      <td>amino acids</td>\n",
              "      <td>aapp</td>\n",
              "      <td>703</td>\n",
              "      <td>714</td>\n",
              "      <td>...</td>\n",
              "      <td>741</td>\n",
              "      <td>745</td>\n",
              "      <td>694</td>\n",
              "      <td>0</td>\n",
              "      <td>4</td>\n",
              "      <td>C0169658|3716</td>\n",
              "      <td>1</td>\n",
              "      <td>ab</td>\n",
              "      <td>With a       truncated chimaeric IL-5Rbeta-gp1...</td>\n",
              "      <td>y</td>\n",
              "    </tr>\n",
              "    <tr>\n",
              "      <th>4</th>\n",
              "      <td>P3104</td>\n",
              "      <td>244385</td>\n",
              "      <td>STIMULATES</td>\n",
              "      <td>ADJ</td>\n",
              "      <td>410</td>\n",
              "      <td>419</td>\n",
              "      <td>Neutral       endopeptidase</td>\n",
              "      <td>aapp</td>\n",
              "      <td>374</td>\n",
              "      <td>401</td>\n",
              "      <td>...</td>\n",
              "      <td>480</td>\n",
              "      <td>491</td>\n",
              "      <td>1000</td>\n",
              "      <td>3</td>\n",
              "      <td>5</td>\n",
              "      <td>C0039815</td>\n",
              "      <td>1</td>\n",
              "      <td>ab</td>\n",
              "      <td>Neutral       endopeptidase, a zinc-dependent ...</td>\n",
              "      <td>n</td>\n",
              "    </tr>\n",
              "    <tr>\n",
              "      <th>...</th>\n",
              "      <td>...</td>\n",
              "      <td>...</td>\n",
              "      <td>...</td>\n",
              "      <td>...</td>\n",
              "      <td>...</td>\n",
              "      <td>...</td>\n",
              "      <td>...</td>\n",
              "      <td>...</td>\n",
              "      <td>...</td>\n",
              "      <td>...</td>\n",
              "      <td>...</td>\n",
              "      <td>...</td>\n",
              "      <td>...</td>\n",
              "      <td>...</td>\n",
              "      <td>...</td>\n",
              "      <td>...</td>\n",
              "      <td>...</td>\n",
              "      <td>...</td>\n",
              "      <td>...</td>\n",
              "      <td>...</td>\n",
              "      <td>...</td>\n",
              "    </tr>\n",
              "    <tr>\n",
              "      <th>2995</th>\n",
              "      <td>P6095</td>\n",
              "      <td>5660630</td>\n",
              "      <td>STIMULATES</td>\n",
              "      <td>VERB</td>\n",
              "      <td>843</td>\n",
              "      <td>850</td>\n",
              "      <td>benzaldehyde</td>\n",
              "      <td>orch</td>\n",
              "      <td>830</td>\n",
              "      <td>842</td>\n",
              "      <td>...</td>\n",
              "      <td>851</td>\n",
              "      <td>879</td>\n",
              "      <td>1000</td>\n",
              "      <td>1</td>\n",
              "      <td>2</td>\n",
              "      <td>C0053288</td>\n",
              "      <td>1</td>\n",
              "      <td>ab</td>\n",
              "      <td>Growth on benzyl       alcohol or benzaldehyde...</td>\n",
              "      <td>y</td>\n",
              "    </tr>\n",
              "    <tr>\n",
              "      <th>2996</th>\n",
              "      <td>P6096</td>\n",
              "      <td>5660630</td>\n",
              "      <td>STIMULATES</td>\n",
              "      <td>VERB</td>\n",
              "      <td>843</td>\n",
              "      <td>850</td>\n",
              "      <td>benzyl       alcohol</td>\n",
              "      <td>orch</td>\n",
              "      <td>806</td>\n",
              "      <td>826</td>\n",
              "      <td>...</td>\n",
              "      <td>851</td>\n",
              "      <td>879</td>\n",
              "      <td>1000</td>\n",
              "      <td>1</td>\n",
              "      <td>2</td>\n",
              "      <td>C0053288</td>\n",
              "      <td>1</td>\n",
              "      <td>ab</td>\n",
              "      <td>Growth on benzyl       alcohol or benzaldehyde...</td>\n",
              "      <td>y</td>\n",
              "    </tr>\n",
              "    <tr>\n",
              "      <th>2997</th>\n",
              "      <td>P6097</td>\n",
              "      <td>5660630</td>\n",
              "      <td>STIMULATES</td>\n",
              "      <td>VERB</td>\n",
              "      <td>843</td>\n",
              "      <td>850</td>\n",
              "      <td>benzyl       alcohol</td>\n",
              "      <td>orch</td>\n",
              "      <td>806</td>\n",
              "      <td>826</td>\n",
              "      <td>...</td>\n",
              "      <td>919</td>\n",
              "      <td>932</td>\n",
              "      <td>750</td>\n",
              "      <td>2</td>\n",
              "      <td>2</td>\n",
              "      <td>C0030016</td>\n",
              "      <td>1</td>\n",
              "      <td>ab</td>\n",
              "      <td>Growth on benzyl       alcohol or benzaldehyde...</td>\n",
              "      <td>y</td>\n",
              "    </tr>\n",
              "    <tr>\n",
              "      <th>2998</th>\n",
              "      <td>P6098</td>\n",
              "      <td>14058290</td>\n",
              "      <td>INTERACTS_WITH</td>\n",
              "      <td>NOM</td>\n",
              "      <td>147</td>\n",
              "      <td>154</td>\n",
              "      <td>17-BETA-ESTRADIOL</td>\n",
              "      <td>horm</td>\n",
              "      <td>167</td>\n",
              "      <td>184</td>\n",
              "      <td>...</td>\n",
              "      <td>200</td>\n",
              "      <td>208</td>\n",
              "      <td>1000</td>\n",
              "      <td>4</td>\n",
              "      <td>5</td>\n",
              "      <td>C0033684</td>\n",
              "      <td>1</td>\n",
              "      <td>ti</td>\n",
              "      <td>[ON THE BINDING OF ESTRONE, 17-BETA-ESTRADIOL ...</td>\n",
              "      <td>y</td>\n",
              "    </tr>\n",
              "    <tr>\n",
              "      <th>2999</th>\n",
              "      <td>P6099</td>\n",
              "      <td>5660630</td>\n",
              "      <td>INTERACTS_WITH</td>\n",
              "      <td>NOM</td>\n",
              "      <td>1341</td>\n",
              "      <td>1351</td>\n",
              "      <td>hydroxylase</td>\n",
              "      <td>aapp</td>\n",
              "      <td>1199</td>\n",
              "      <td>1210</td>\n",
              "      <td>...</td>\n",
              "      <td>1330</td>\n",
              "      <td>1340</td>\n",
              "      <td>623</td>\n",
              "      <td>0</td>\n",
              "      <td>4</td>\n",
              "      <td>C1334043</td>\n",
              "      <td>1</td>\n",
              "      <td>ab</td>\n",
              "      <td>2-Hydroxybenzoate hydroxylase, 4-hydroxybenzoa...</td>\n",
              "      <td>n</td>\n",
              "    </tr>\n",
              "  </tbody>\n",
              "</table>\n",
              "<p>3000 rows × 27 columns</p>\n",
              "</div>\n",
              "      <button class=\"colab-df-convert\" onclick=\"convertToInteractive('df-c8ac3e35-9a12-48cf-a8f5-cc6764e3c944')\"\n",
              "              title=\"Convert this dataframe to an interactive table.\"\n",
              "              style=\"display:none;\">\n",
              "        \n",
              "  <svg xmlns=\"http://www.w3.org/2000/svg\" height=\"24px\"viewBox=\"0 0 24 24\"\n",
              "       width=\"24px\">\n",
              "    <path d=\"M0 0h24v24H0V0z\" fill=\"none\"/>\n",
              "    <path d=\"M18.56 5.44l.94 2.06.94-2.06 2.06-.94-2.06-.94-.94-2.06-.94 2.06-2.06.94zm-11 1L8.5 8.5l.94-2.06 2.06-.94-2.06-.94L8.5 2.5l-.94 2.06-2.06.94zm10 10l.94 2.06.94-2.06 2.06-.94-2.06-.94-.94-2.06-.94 2.06-2.06.94z\"/><path d=\"M17.41 7.96l-1.37-1.37c-.4-.4-.92-.59-1.43-.59-.52 0-1.04.2-1.43.59L10.3 9.45l-7.72 7.72c-.78.78-.78 2.05 0 2.83L4 21.41c.39.39.9.59 1.41.59.51 0 1.02-.2 1.41-.59l7.78-7.78 2.81-2.81c.8-.78.8-2.07 0-2.86zM5.41 20L4 18.59l7.72-7.72 1.47 1.35L5.41 20z\"/>\n",
              "  </svg>\n",
              "      </button>\n",
              "      \n",
              "  <style>\n",
              "    .colab-df-container {\n",
              "      display:flex;\n",
              "      flex-wrap:wrap;\n",
              "      gap: 12px;\n",
              "    }\n",
              "\n",
              "    .colab-df-convert {\n",
              "      background-color: #E8F0FE;\n",
              "      border: none;\n",
              "      border-radius: 50%;\n",
              "      cursor: pointer;\n",
              "      display: none;\n",
              "      fill: #1967D2;\n",
              "      height: 32px;\n",
              "      padding: 0 0 0 0;\n",
              "      width: 32px;\n",
              "    }\n",
              "\n",
              "    .colab-df-convert:hover {\n",
              "      background-color: #E2EBFA;\n",
              "      box-shadow: 0px 1px 2px rgba(60, 64, 67, 0.3), 0px 1px 3px 1px rgba(60, 64, 67, 0.15);\n",
              "      fill: #174EA6;\n",
              "    }\n",
              "\n",
              "    [theme=dark] .colab-df-convert {\n",
              "      background-color: #3B4455;\n",
              "      fill: #D2E3FC;\n",
              "    }\n",
              "\n",
              "    [theme=dark] .colab-df-convert:hover {\n",
              "      background-color: #434B5C;\n",
              "      box-shadow: 0px 1px 3px 1px rgba(0, 0, 0, 0.15);\n",
              "      filter: drop-shadow(0px 1px 2px rgba(0, 0, 0, 0.3));\n",
              "      fill: #FFFFFF;\n",
              "    }\n",
              "  </style>\n",
              "\n",
              "      <script>\n",
              "        const buttonEl =\n",
              "          document.querySelector('#df-c8ac3e35-9a12-48cf-a8f5-cc6764e3c944 button.colab-df-convert');\n",
              "        buttonEl.style.display =\n",
              "          google.colab.kernel.accessAllowed ? 'block' : 'none';\n",
              "\n",
              "        async function convertToInteractive(key) {\n",
              "          const element = document.querySelector('#df-c8ac3e35-9a12-48cf-a8f5-cc6764e3c944');\n",
              "          const dataTable =\n",
              "            await google.colab.kernel.invokeFunction('convertToInteractive',\n",
              "                                                     [key], {});\n",
              "          if (!dataTable) return;\n",
              "\n",
              "          const docLinkHtml = 'Like what you see? Visit the ' +\n",
              "            '<a target=\"_blank\" href=https://colab.research.google.com/notebooks/data_table.ipynb>data table notebook</a>'\n",
              "            + ' to learn more about interactive tables.';\n",
              "          element.innerHTML = '';\n",
              "          dataTable['output_type'] = 'display_data';\n",
              "          await google.colab.output.renderOutput(dataTable, element);\n",
              "          const docLink = document.createElement('div');\n",
              "          docLink.innerHTML = docLinkHtml;\n",
              "          element.appendChild(docLink);\n",
              "        }\n",
              "      </script>\n",
              "    </div>\n",
              "  </div>\n",
              "  "
            ],
            "text/plain": [
              "     PREDICATION_ID      PMID       PREDICATE INDICATOR_TYPE  \\\n",
              "0             P3100   6499897  INTERACTS_WITH            NOM   \n",
              "1             P3101   8369307        INHIBITS           VERB   \n",
              "2             P3102   3711333        INHIBITS           VERB   \n",
              "3             P3103  11742534  INTERACTS_WITH            NOM   \n",
              "4             P3104    244385      STIMULATES            ADJ   \n",
              "...             ...       ...             ...            ...   \n",
              "2995          P6095   5660630      STIMULATES           VERB   \n",
              "2996          P6096   5660630      STIMULATES           VERB   \n",
              "2997          P6097   5660630      STIMULATES           VERB   \n",
              "2998          P6098  14058290  INTERACTS_WITH            NOM   \n",
              "2999          P6099   5660630  INTERACTS_WITH            NOM   \n",
              "\n",
              "      PREDICATE_START_INDEX  PREDICATE_END_INDEX                 SUBJECT_TEXT  \\\n",
              "0                      1298                 1304                           SA   \n",
              "1                       890                  899                          rHF   \n",
              "2                      1527                 1534                    alkaloids   \n",
              "3                       746                  753                  amino acids   \n",
              "4                       410                  419  Neutral       endopeptidase   \n",
              "...                     ...                  ...                          ...   \n",
              "2995                    843                  850                 benzaldehyde   \n",
              "2996                    843                  850         benzyl       alcohol   \n",
              "2997                    843                  850         benzyl       alcohol   \n",
              "2998                    147                  154            17-BETA-ESTRADIOL   \n",
              "2999                   1341                 1351                  hydroxylase   \n",
              "\n",
              "     SUBJECT_SEMTYPE  SUBJECT_START_INDEX  SUBJECT_END_INDEX  ...  \\\n",
              "0               orch                 1235               1237  ...   \n",
              "1               aapp                  785                788  ...   \n",
              "2               orch                 1508               1517  ...   \n",
              "3               aapp                  703                714  ...   \n",
              "4               aapp                  374                401  ...   \n",
              "...              ...                  ...                ...  ...   \n",
              "2995            orch                  830                842  ...   \n",
              "2996            orch                  806                826  ...   \n",
              "2997            orch                  806                826  ...   \n",
              "2998            horm                  167                184  ...   \n",
              "2999            aapp                 1199               1210  ...   \n",
              "\n",
              "      OBJECT_START_INDEX  OBJECT_END_INDEX  OBJECT_SCORE OBJECT_DIST  \\\n",
              "0                   1329              1332          1000           2   \n",
              "1                    912               919           888           1   \n",
              "2                   1541              1550          1000           1   \n",
              "3                    741               745           694           0   \n",
              "4                    480               491          1000           3   \n",
              "...                  ...               ...           ...         ...   \n",
              "2995                 851               879          1000           1   \n",
              "2996                 851               879          1000           1   \n",
              "2997                 919               932           750           2   \n",
              "2998                 200               208          1000           4   \n",
              "2999                1330              1340           623           0   \n",
              "\n",
              "      OBJECT_MAXDIST     OBJECT_CUI OBJECT_NOVELTY  TYPE  \\\n",
              "0                  2       C0004057              1    ab   \n",
              "1                 15       C0242417              1    ab   \n",
              "2                  1       C0003805              1    ab   \n",
              "3                  4  C0169658|3716              1    ab   \n",
              "4                  5       C0039815              1    ab   \n",
              "...              ...            ...            ...   ...   \n",
              "2995               2       C0053288              1    ab   \n",
              "2996               2       C0053288              1    ab   \n",
              "2997               2       C0030016              1    ab   \n",
              "2998               5       C0033684              1    ti   \n",
              "2999               4       C1334043              1    ab   \n",
              "\n",
              "                                               SENTENCE  LABEL  \n",
              "0     Nor did administration of SA, diflunisal or AS...      n  \n",
              "1     A       comparative study of recombinant L-cha...      n  \n",
              "2     These findings suggest that some nicotinic alk...      y  \n",
              "3     With a       truncated chimaeric IL-5Rbeta-gp1...      y  \n",
              "4     Neutral       endopeptidase, a zinc-dependent ...      n  \n",
              "...                                                 ...    ...  \n",
              "2995  Growth on benzyl       alcohol or benzaldehyde...      y  \n",
              "2996  Growth on benzyl       alcohol or benzaldehyde...      y  \n",
              "2997  Growth on benzyl       alcohol or benzaldehyde...      y  \n",
              "2998  [ON THE BINDING OF ESTRONE, 17-BETA-ESTRADIOL ...      y  \n",
              "2999  2-Hydroxybenzoate hydroxylase, 4-hydroxybenzoa...      n  \n",
              "\n",
              "[3000 rows x 27 columns]"
            ]
          },
          "execution_count": 14,
          "metadata": {},
          "output_type": "execute_result"
        }
      ],
      "source": [
        "df_sub_interactions = pd.read_csv(\"/content/drive/MyDrive/substance_interactions.csv\")\n",
        "df_sub_interactions"
      ]
    },
    {
      "cell_type": "markdown",
      "metadata": {
        "id": "CJtN538JBQJg"
      },
      "source": [
        "#### **Checking null values in dataset**"
      ]
    },
    {
      "cell_type": "code",
      "execution_count": null,
      "metadata": {
        "colab": {
          "base_uri": "https://localhost:8080/",
          "height": 896
        },
        "id": "Fu_HgMi6IKHP",
        "outputId": "4ae076cd-4ef0-4b38-f0ba-cf795a0cecd8"
      },
      "outputs": [
        {
          "data": {
            "text/html": [
              "\n",
              "  <div id=\"df-3c5363ea-3414-4619-a4cf-bcff9052dbfb\">\n",
              "    <div class=\"colab-df-container\">\n",
              "      <div>\n",
              "<style scoped>\n",
              "    .dataframe tbody tr th:only-of-type {\n",
              "        vertical-align: middle;\n",
              "    }\n",
              "\n",
              "    .dataframe tbody tr th {\n",
              "        vertical-align: top;\n",
              "    }\n",
              "\n",
              "    .dataframe thead th {\n",
              "        text-align: right;\n",
              "    }\n",
              "</style>\n",
              "<table border=\"1\" class=\"dataframe\">\n",
              "  <thead>\n",
              "    <tr style=\"text-align: right;\">\n",
              "      <th></th>\n",
              "      <th>index</th>\n",
              "      <th>0</th>\n",
              "    </tr>\n",
              "  </thead>\n",
              "  <tbody>\n",
              "    <tr>\n",
              "      <th>0</th>\n",
              "      <td>PREDICATION_ID</td>\n",
              "      <td>0</td>\n",
              "    </tr>\n",
              "    <tr>\n",
              "      <th>1</th>\n",
              "      <td>PMID</td>\n",
              "      <td>0</td>\n",
              "    </tr>\n",
              "    <tr>\n",
              "      <th>2</th>\n",
              "      <td>PREDICATE</td>\n",
              "      <td>0</td>\n",
              "    </tr>\n",
              "    <tr>\n",
              "      <th>3</th>\n",
              "      <td>INDICATOR_TYPE</td>\n",
              "      <td>0</td>\n",
              "    </tr>\n",
              "    <tr>\n",
              "      <th>4</th>\n",
              "      <td>PREDICATE_START_INDEX</td>\n",
              "      <td>0</td>\n",
              "    </tr>\n",
              "    <tr>\n",
              "      <th>5</th>\n",
              "      <td>PREDICATE_END_INDEX</td>\n",
              "      <td>0</td>\n",
              "    </tr>\n",
              "    <tr>\n",
              "      <th>6</th>\n",
              "      <td>SUBJECT_TEXT</td>\n",
              "      <td>0</td>\n",
              "    </tr>\n",
              "    <tr>\n",
              "      <th>7</th>\n",
              "      <td>SUBJECT_SEMTYPE</td>\n",
              "      <td>0</td>\n",
              "    </tr>\n",
              "    <tr>\n",
              "      <th>8</th>\n",
              "      <td>SUBJECT_START_INDEX</td>\n",
              "      <td>0</td>\n",
              "    </tr>\n",
              "    <tr>\n",
              "      <th>9</th>\n",
              "      <td>SUBJECT_END_INDEX</td>\n",
              "      <td>0</td>\n",
              "    </tr>\n",
              "    <tr>\n",
              "      <th>10</th>\n",
              "      <td>SUBJECT_SCORE</td>\n",
              "      <td>0</td>\n",
              "    </tr>\n",
              "    <tr>\n",
              "      <th>11</th>\n",
              "      <td>SUBJECT_DIST</td>\n",
              "      <td>0</td>\n",
              "    </tr>\n",
              "    <tr>\n",
              "      <th>12</th>\n",
              "      <td>SUBJECT_MAXDIST</td>\n",
              "      <td>0</td>\n",
              "    </tr>\n",
              "    <tr>\n",
              "      <th>13</th>\n",
              "      <td>SUBJECT_CUI</td>\n",
              "      <td>0</td>\n",
              "    </tr>\n",
              "    <tr>\n",
              "      <th>14</th>\n",
              "      <td>SUBJECT_NOVELTY</td>\n",
              "      <td>0</td>\n",
              "    </tr>\n",
              "    <tr>\n",
              "      <th>15</th>\n",
              "      <td>OBJECT_TEXT</td>\n",
              "      <td>0</td>\n",
              "    </tr>\n",
              "    <tr>\n",
              "      <th>16</th>\n",
              "      <td>OBJECT_SEMTYPE</td>\n",
              "      <td>0</td>\n",
              "    </tr>\n",
              "    <tr>\n",
              "      <th>17</th>\n",
              "      <td>OBJECT_START_INDEX</td>\n",
              "      <td>0</td>\n",
              "    </tr>\n",
              "    <tr>\n",
              "      <th>18</th>\n",
              "      <td>OBJECT_END_INDEX</td>\n",
              "      <td>0</td>\n",
              "    </tr>\n",
              "    <tr>\n",
              "      <th>19</th>\n",
              "      <td>OBJECT_SCORE</td>\n",
              "      <td>0</td>\n",
              "    </tr>\n",
              "    <tr>\n",
              "      <th>20</th>\n",
              "      <td>OBJECT_DIST</td>\n",
              "      <td>0</td>\n",
              "    </tr>\n",
              "    <tr>\n",
              "      <th>21</th>\n",
              "      <td>OBJECT_MAXDIST</td>\n",
              "      <td>0</td>\n",
              "    </tr>\n",
              "    <tr>\n",
              "      <th>22</th>\n",
              "      <td>OBJECT_CUI</td>\n",
              "      <td>0</td>\n",
              "    </tr>\n",
              "    <tr>\n",
              "      <th>23</th>\n",
              "      <td>OBJECT_NOVELTY</td>\n",
              "      <td>0</td>\n",
              "    </tr>\n",
              "    <tr>\n",
              "      <th>24</th>\n",
              "      <td>TYPE</td>\n",
              "      <td>0</td>\n",
              "    </tr>\n",
              "    <tr>\n",
              "      <th>25</th>\n",
              "      <td>SENTENCE</td>\n",
              "      <td>0</td>\n",
              "    </tr>\n",
              "    <tr>\n",
              "      <th>26</th>\n",
              "      <td>LABEL</td>\n",
              "      <td>0</td>\n",
              "    </tr>\n",
              "  </tbody>\n",
              "</table>\n",
              "</div>\n",
              "      <button class=\"colab-df-convert\" onclick=\"convertToInteractive('df-3c5363ea-3414-4619-a4cf-bcff9052dbfb')\"\n",
              "              title=\"Convert this dataframe to an interactive table.\"\n",
              "              style=\"display:none;\">\n",
              "        \n",
              "  <svg xmlns=\"http://www.w3.org/2000/svg\" height=\"24px\"viewBox=\"0 0 24 24\"\n",
              "       width=\"24px\">\n",
              "    <path d=\"M0 0h24v24H0V0z\" fill=\"none\"/>\n",
              "    <path d=\"M18.56 5.44l.94 2.06.94-2.06 2.06-.94-2.06-.94-.94-2.06-.94 2.06-2.06.94zm-11 1L8.5 8.5l.94-2.06 2.06-.94-2.06-.94L8.5 2.5l-.94 2.06-2.06.94zm10 10l.94 2.06.94-2.06 2.06-.94-2.06-.94-.94-2.06-.94 2.06-2.06.94z\"/><path d=\"M17.41 7.96l-1.37-1.37c-.4-.4-.92-.59-1.43-.59-.52 0-1.04.2-1.43.59L10.3 9.45l-7.72 7.72c-.78.78-.78 2.05 0 2.83L4 21.41c.39.39.9.59 1.41.59.51 0 1.02-.2 1.41-.59l7.78-7.78 2.81-2.81c.8-.78.8-2.07 0-2.86zM5.41 20L4 18.59l7.72-7.72 1.47 1.35L5.41 20z\"/>\n",
              "  </svg>\n",
              "      </button>\n",
              "      \n",
              "  <style>\n",
              "    .colab-df-container {\n",
              "      display:flex;\n",
              "      flex-wrap:wrap;\n",
              "      gap: 12px;\n",
              "    }\n",
              "\n",
              "    .colab-df-convert {\n",
              "      background-color: #E8F0FE;\n",
              "      border: none;\n",
              "      border-radius: 50%;\n",
              "      cursor: pointer;\n",
              "      display: none;\n",
              "      fill: #1967D2;\n",
              "      height: 32px;\n",
              "      padding: 0 0 0 0;\n",
              "      width: 32px;\n",
              "    }\n",
              "\n",
              "    .colab-df-convert:hover {\n",
              "      background-color: #E2EBFA;\n",
              "      box-shadow: 0px 1px 2px rgba(60, 64, 67, 0.3), 0px 1px 3px 1px rgba(60, 64, 67, 0.15);\n",
              "      fill: #174EA6;\n",
              "    }\n",
              "\n",
              "    [theme=dark] .colab-df-convert {\n",
              "      background-color: #3B4455;\n",
              "      fill: #D2E3FC;\n",
              "    }\n",
              "\n",
              "    [theme=dark] .colab-df-convert:hover {\n",
              "      background-color: #434B5C;\n",
              "      box-shadow: 0px 1px 3px 1px rgba(0, 0, 0, 0.15);\n",
              "      filter: drop-shadow(0px 1px 2px rgba(0, 0, 0, 0.3));\n",
              "      fill: #FFFFFF;\n",
              "    }\n",
              "  </style>\n",
              "\n",
              "      <script>\n",
              "        const buttonEl =\n",
              "          document.querySelector('#df-3c5363ea-3414-4619-a4cf-bcff9052dbfb button.colab-df-convert');\n",
              "        buttonEl.style.display =\n",
              "          google.colab.kernel.accessAllowed ? 'block' : 'none';\n",
              "\n",
              "        async function convertToInteractive(key) {\n",
              "          const element = document.querySelector('#df-3c5363ea-3414-4619-a4cf-bcff9052dbfb');\n",
              "          const dataTable =\n",
              "            await google.colab.kernel.invokeFunction('convertToInteractive',\n",
              "                                                     [key], {});\n",
              "          if (!dataTable) return;\n",
              "\n",
              "          const docLinkHtml = 'Like what you see? Visit the ' +\n",
              "            '<a target=\"_blank\" href=https://colab.research.google.com/notebooks/data_table.ipynb>data table notebook</a>'\n",
              "            + ' to learn more about interactive tables.';\n",
              "          element.innerHTML = '';\n",
              "          dataTable['output_type'] = 'display_data';\n",
              "          await google.colab.output.renderOutput(dataTable, element);\n",
              "          const docLink = document.createElement('div');\n",
              "          docLink.innerHTML = docLinkHtml;\n",
              "          element.appendChild(docLink);\n",
              "        }\n",
              "      </script>\n",
              "    </div>\n",
              "  </div>\n",
              "  "
            ],
            "text/plain": [
              "                    index  0\n",
              "0          PREDICATION_ID  0\n",
              "1                    PMID  0\n",
              "2               PREDICATE  0\n",
              "3          INDICATOR_TYPE  0\n",
              "4   PREDICATE_START_INDEX  0\n",
              "5     PREDICATE_END_INDEX  0\n",
              "6            SUBJECT_TEXT  0\n",
              "7         SUBJECT_SEMTYPE  0\n",
              "8     SUBJECT_START_INDEX  0\n",
              "9       SUBJECT_END_INDEX  0\n",
              "10          SUBJECT_SCORE  0\n",
              "11           SUBJECT_DIST  0\n",
              "12        SUBJECT_MAXDIST  0\n",
              "13            SUBJECT_CUI  0\n",
              "14        SUBJECT_NOVELTY  0\n",
              "15            OBJECT_TEXT  0\n",
              "16         OBJECT_SEMTYPE  0\n",
              "17     OBJECT_START_INDEX  0\n",
              "18       OBJECT_END_INDEX  0\n",
              "19           OBJECT_SCORE  0\n",
              "20            OBJECT_DIST  0\n",
              "21         OBJECT_MAXDIST  0\n",
              "22             OBJECT_CUI  0\n",
              "23         OBJECT_NOVELTY  0\n",
              "24                   TYPE  0\n",
              "25               SENTENCE  0\n",
              "26                  LABEL  0"
            ]
          },
          "execution_count": 21,
          "metadata": {},
          "output_type": "execute_result"
        }
      ],
      "source": [
        "df_sub_interactions.isna().sum(axis=0).reset_index()"
      ]
    },
    {
      "cell_type": "code",
      "execution_count": null,
      "metadata": {
        "colab": {
          "base_uri": "https://localhost:8080/"
        },
        "id": "0sv7Zo_y9FnN",
        "outputId": "a3d4744b-a526-4135-8732-1c24f62bda4e"
      },
      "outputs": [
        {
          "data": {
            "text/plain": [
              "Index(['PREDICATION_ID', 'PMID', 'PREDICATE', 'INDICATOR_TYPE',\n",
              "       'PREDICATE_START_INDEX', 'PREDICATE_END_INDEX', 'SUBJECT_TEXT',\n",
              "       'SUBJECT_SEMTYPE', 'SUBJECT_START_INDEX', 'SUBJECT_END_INDEX',\n",
              "       'SUBJECT_SCORE', 'SUBJECT_DIST', 'SUBJECT_MAXDIST', 'SUBJECT_CUI',\n",
              "       'SUBJECT_NOVELTY', 'OBJECT_TEXT', 'OBJECT_SEMTYPE',\n",
              "       'OBJECT_START_INDEX', 'OBJECT_END_INDEX', 'OBJECT_SCORE', 'OBJECT_DIST',\n",
              "       'OBJECT_MAXDIST', 'OBJECT_CUI', 'OBJECT_NOVELTY', 'TYPE', 'SENTENCE',\n",
              "       'LABEL'],\n",
              "      dtype='object')"
            ]
          },
          "execution_count": 22,
          "metadata": {},
          "output_type": "execute_result"
        }
      ],
      "source": [
        "df_sub_interactions.columns"
      ]
    },
    {
      "cell_type": "code",
      "execution_count": null,
      "metadata": {
        "id": "InrGW19GJEJT"
      },
      "outputs": [],
      "source": [
        "#taking only subset of columns\n",
        "df_sub_interactions_final = df_sub_interactions[['SENTENCE','SUBJECT_TEXT','OBJECT_TEXT','PREDICATE','LABEL']]"
      ]
    },
    {
      "cell_type": "markdown",
      "metadata": {
        "id": "I4cjQNJN1YWY"
      },
      "source": [
        "#### **Word distribution across all sentences in dataframe**"
      ]
    },
    {
      "cell_type": "code",
      "execution_count": null,
      "metadata": {
        "colab": {
          "base_uri": "https://localhost:8080/"
        },
        "id": "oigpy2fu1RhZ",
        "outputId": "1ed10d46-7892-4ac0-fbcd-97fe2d4e465f"
      },
      "outputs": [
        {
          "name": "stderr",
          "output_type": "stream",
          "text": [
            "<ipython-input-16-858b7c1edaa4>:1: SettingWithCopyWarning: \n",
            "A value is trying to be set on a copy of a slice from a DataFrame.\n",
            "Try using .loc[row_indexer,col_indexer] = value instead\n",
            "\n",
            "See the caveats in the documentation: https://pandas.pydata.org/pandas-docs/stable/user_guide/indexing.html#returning-a-view-versus-a-copy\n",
            "  df_sub_interactions_final.loc[:,'word_count'] = df_sub_interactions_final['SENTENCE'].apply(lambda x: len(str(x).split()))\n"
          ]
        }
      ],
      "source": [
        "df_sub_interactions_final.loc[:,'word_count'] = df_sub_interactions_final['SENTENCE'].apply(lambda x: len(str(x).split()))"
      ]
    },
    {
      "cell_type": "code",
      "execution_count": null,
      "metadata": {
        "colab": {
          "base_uri": "https://localhost:8080/",
          "height": 564
        },
        "id": "IbIWb_NC-kdd",
        "outputId": "45a31c5e-11e1-4247-d212-b608b323b9a3"
      },
      "outputs": [
        {
          "data": {
            "text/plain": [
              "Text(0.5, 1.0, 'word distribution across sentences.')"
            ]
          },
          "execution_count": 18,
          "metadata": {},
          "output_type": "execute_result"
        },
        {
          "data": {
            "text/plain": [
              "<Figure size 300x300 with 0 Axes>"
            ]
          },
          "metadata": {},
          "output_type": "display_data"
        },
        {
          "data": {
            "image/png": "[encoded data removed]",
            "text/plain": [
              "<Figure size 500x500 with 1 Axes>"
            ]
          },
          "metadata": {},
          "output_type": "display_data"
        }
      ],
      "source": [
        "#getting word count of each reviews\n",
        "plt.figure(figsize=(3,3))\n",
        "sns.displot(df_sub_interactions_final[\"word_count\"], color = 'r')\n",
        "plt.title('word distribution across sentences.')"
      ]
    },
    {
      "cell_type": "markdown",
      "metadata": {
        "id": "kkKgo3FyBXCK"
      },
      "source": [
        "#### **Label distribution**"
      ]
    },
    {
      "cell_type": "code",
      "execution_count": null,
      "metadata": {
        "colab": {
          "base_uri": "https://localhost:8080/",
          "height": 278
        },
        "id": "Lif3qpJl_t8L",
        "outputId": "8f425c04-9da0-4ef3-b309-7bb2d8a8eabe"
      },
      "outputs": [
        {
          "name": "stdout",
          "output_type": "stream",
          "text": [
            "y    1605\n",
            "n    1395\n",
            "Name: LABEL, dtype: int64\n"
          ]
        },
        {
          "data": {
            "text/plain": [
              "<Axes: >"
            ]
          },
          "execution_count": 13,
          "metadata": {},
          "output_type": "execute_result"
        },
        {
          "data": {
            "image/png": "[encoded data removed]",
            "text/plain": [
              "<Figure size 200x200 with 1 Axes>"
            ]
          },
          "metadata": {},
          "output_type": "display_data"
        }
      ],
      "source": [
        "print(df_sub_interactions_final[\"LABEL\"].value_counts())\n",
        "df_sub_interactions_final[\"LABEL\"].value_counts().plot(kind='bar',figsize=(2,2))"
      ]
    },
    {
      "cell_type": "markdown",
      "metadata": {
        "id": "v3ak2z_Z1ndI"
      },
      "source": [
        "#### **Predicate distribution**"
      ]
    },
    {
      "cell_type": "code",
      "execution_count": null,
      "metadata": {
        "colab": {
          "base_uri": "https://localhost:8080/",
          "height": 408
        },
        "id": "IF-EAS1Q_znP",
        "outputId": "660cb9a2-49ac-4614-a4ec-66b474203a48"
      },
      "outputs": [
        {
          "name": "stdout",
          "output_type": "stream",
          "text": [
            "INTERACTS_WITH    1781\n",
            "STIMULATES         615\n",
            "INHIBITS           604\n",
            "Name: PREDICATE, dtype: int64\n"
          ]
        },
        {
          "data": {
            "text/plain": [
              "<Axes: >"
            ]
          },
          "execution_count": 20,
          "metadata": {},
          "output_type": "execute_result"
        },
        {
          "data": {
            "image/png": "[encoded data removed]",
            "text/plain": [
              "<Figure size 200x200 with 1 Axes>"
            ]
          },
          "metadata": {},
          "output_type": "display_data"
        }
      ],
      "source": [
        "print(df_sub_interactions_final[\"PREDICATE\"].value_counts())\n",
        "df_sub_interactions_final[\"PREDICATE\"].value_counts().plot(kind='bar',figsize=(2,2))"
      ]
    },
    {
      "cell_type": "markdown",
      "metadata": {
        "id": "7xvY8EGy2JOI"
      },
      "source": [
        "#### **Label distribution with respect to Predicate**"
      ]
    },
    {
      "cell_type": "code",
      "execution_count": null,
      "metadata": {
        "colab": {
          "base_uri": "https://localhost:8080/",
          "height": 278
        },
        "id": "LbDk0Vp--fr3",
        "outputId": "6f139102-2e22-4e93-99f8-b726ab1e6a6b"
      },
      "outputs": [
        {
          "name": "stdout",
          "output_type": "stream",
          "text": [
            "y    1025\n",
            "n     756\n",
            "Name: LABEL, dtype: int64\n"
          ]
        },
        {
          "data": {
            "text/plain": [
              "<Axes: >"
            ]
          },
          "execution_count": 15,
          "metadata": {},
          "output_type": "execute_result"
        },
        {
          "data": {
            "image/png": "[encoded data removed]",
            "text/plain": [
              "<Figure size 200x200 with 1 Axes>"
            ]
          },
          "metadata": {},
          "output_type": "display_data"
        }
      ],
      "source": [
        "print(df_sub_interactions_final.loc[df_sub_interactions_final.PREDICATE == \"INTERACTS_WITH\"][\"LABEL\"].value_counts())\n",
        "df_sub_interactions_final.loc[df_sub_interactions_final.PREDICATE == \"INTERACTS_WITH\"][\"LABEL\"].value_counts().plot(kind = 'bar',figsize=(2,2))"
      ]
    },
    {
      "cell_type": "code",
      "execution_count": null,
      "metadata": {
        "colab": {
          "base_uri": "https://localhost:8080/",
          "height": 278
        },
        "id": "vYB0aLC-ABXW",
        "outputId": "6f2cbc15-2a2f-45d1-8847-3a2d37c766e0"
      },
      "outputs": [
        {
          "name": "stdout",
          "output_type": "stream",
          "text": [
            "n    358\n",
            "y    257\n",
            "Name: LABEL, dtype: int64\n"
          ]
        },
        {
          "data": {
            "text/plain": [
              "<Axes: >"
            ]
          },
          "execution_count": 16,
          "metadata": {},
          "output_type": "execute_result"
        },
        {
          "data": {
            "image/png": "[encoded data removed]",
            "text/plain": [
              "<Figure size 200x200 with 1 Axes>"
            ]
          },
          "metadata": {},
          "output_type": "display_data"
        }
      ],
      "source": [
        "print(df_sub_interactions_final.loc[df_sub_interactions_final.PREDICATE == \"STIMULATES\"][\"LABEL\"].value_counts())\n",
        "df_sub_interactions_final.loc[df_sub_interactions_final.PREDICATE == \"STIMULATES\"][\"LABEL\"].value_counts().plot(kind = 'bar',figsize=(2,2))"
      ]
    },
    {
      "cell_type": "code",
      "execution_count": null,
      "metadata": {
        "colab": {
          "base_uri": "https://localhost:8080/",
          "height": 278
        },
        "id": "JqDE2NS2AH5X",
        "outputId": "0109a3b7-dae4-428e-c6a3-f5cfade7f1d5"
      },
      "outputs": [
        {
          "name": "stdout",
          "output_type": "stream",
          "text": [
            "y    323\n",
            "n    281\n",
            "Name: LABEL, dtype: int64\n"
          ]
        },
        {
          "data": {
            "text/plain": [
              "<Axes: >"
            ]
          },
          "execution_count": 17,
          "metadata": {},
          "output_type": "execute_result"
        },
        {
          "data": {
            "image/png": "[encoded data removed]",
            "text/plain": [
              "<Figure size 200x200 with 1 Axes>"
            ]
          },
          "metadata": {},
          "output_type": "display_data"
        }
      ],
      "source": [
        "print(df_sub_interactions_final.loc[df_sub_interactions_final.PREDICATE == \"INHIBITS\"][\"LABEL\"].value_counts())\n",
        "df_sub_interactions_final.loc[df_sub_interactions_final.PREDICATE == \"INHIBITS\"][\"LABEL\"].value_counts().plot(kind = 'bar',figsize=(2,2))"
      ]
    },
    {
      "cell_type": "code",
      "execution_count": null,
      "metadata": {
        "colab": {
          "base_uri": "https://localhost:8080/"
        },
        "id": "4W_scB8aVZfc",
        "outputId": "b00ef6e1-8c85-4ee1-92a7-9ef0087a9649"
      },
      "outputs": [
        {
          "name": "stderr",
          "output_type": "stream",
          "text": [
            "<ipython-input-31-77b56834fb2a>:1: SettingWithCopyWarning: \n",
            "A value is trying to be set on a copy of a slice from a DataFrame.\n",
            "Try using .loc[row_indexer,col_indexer] = value instead\n",
            "\n",
            "See the caveats in the documentation: https://pandas.pydata.org/pandas-docs/stable/user_guide/indexing.html#returning-a-view-versus-a-copy\n",
            "  df_sub_interactions_final['Label'] = df_sub_interactions_final['LABEL'].apply(lambda x: 0 if x == \"n\" else 1)\n"
          ]
        }
      ],
      "source": [
        "df_sub_interactions_final['Label'] = df_sub_interactions_final['LABEL'].apply(lambda x: 0 if x == \"n\" else 1)"
      ]
    },
    {
      "cell_type": "markdown",
      "metadata": {
        "id": "eXCgby4r0h6b"
      },
      "source": [
        "\n",
        "### **Baseline Model**"
      ]
    },
    {
      "cell_type": "code",
      "execution_count": null,
      "metadata": {
        "colab": {
          "base_uri": "https://localhost:8080/",
          "height": 139
        },
        "id": "nhOnaIJkuywT",
        "outputId": "006a29de-b184-4b99-865d-706f2d803942"
      },
      "outputs": [
        {
          "name": "stdout",
          "output_type": "stream",
          "text": [
            "env: WANDB_PROJECT=\"UMN_Baseline_Model\"\n"
          ]
        },
        {
          "data": {
            "application/javascript": [
              "\n",
              "        window._wandbApiKey = new Promise((resolve, reject) => {\n",
              "            function loadScript(url) {\n",
              "            return new Promise(function(resolve, reject) {\n",
              "                let newScript = document.createElement(\"script\");\n",
              "                newScript.onerror = reject;\n",
              "                newScript.onload = resolve;\n",
              "                document.body.appendChild(newScript);\n",
              "                newScript.src = url;\n",
              "            });\n",
              "            }\n",
              "            loadScript(\"https://cdn.jsdelivr.net/npm/postmate/build/postmate.min.js\").then(() => {\n",
              "            const iframe = document.createElement('iframe')\n",
              "            iframe.style.cssText = \"width:0;height:0;border:none\"\n",
              "            document.body.appendChild(iframe)\n",
              "            const handshake = new Postmate({\n",
              "                container: iframe,\n",
              "                url: 'https://wandb.ai/authorize'\n",
              "            });\n",
              "            const timeout = setTimeout(() => reject(\"Couldn't auto authenticate\"), 5000)\n",
              "            handshake.then(function(child) {\n",
              "                child.on('authorize', data => {\n",
              "                    clearTimeout(timeout)\n",
              "                    resolve(data)\n",
              "                });\n",
              "            });\n",
              "            })\n",
              "        });\n",
              "    "
            ],
            "text/plain": [
              "<IPython.core.display.Javascript object>"
            ]
          },
          "metadata": {},
          "output_type": "display_data"
        },
        {
          "name": "stderr",
          "output_type": "stream",
          "text": [
            "\u001b[34m\u001b[1mwandb\u001b[0m: Logging into wandb.ai. (Learn how to deploy a W&B server locally: https://wandb.me/wandb-server)\n",
            "\u001b[34m\u001b[1mwandb\u001b[0m: You can find your API key in your browser here: https://wandb.ai/authorize\n",
            "wandb: Paste an API key from your profile and hit enter, or press ctrl+c to quit:"
          ]
        },
        {
          "name": "stdout",
          "output_type": "stream",
          "text": [
            " ··········\n"
          ]
        },
        {
          "name": "stderr",
          "output_type": "stream",
          "text": [
            "\u001b[34m\u001b[1mwandb\u001b[0m: Appending key for api.wandb.ai to your netrc file: /root/.netrc\n"
          ]
        },
        {
          "data": {
            "text/plain": [
              "True"
            ]
          },
          "execution_count": 15,
          "metadata": {},
          "output_type": "execute_result"
        }
      ],
      "source": [
        "import wandb\n",
        "%env WANDB_PROJECT=\"UMN_Baseline_Model\"\n",
        "wandb.login()"
      ]
    },
    {
      "cell_type": "code",
      "execution_count": null,
      "metadata": {
        "id": "3tN2sn8K9HJT"
      },
      "outputs": [],
      "source": [
        "\n",
        "def get_model_accuracy(ytest,ypred, param,flag = 0):\n",
        "    accuracy_score = sklearn.metrics.accuracy_score(ytest, ypred)\n",
        "    f1_score = sklearn.metrics.f1_score(ytest, ypred,average=param)\n",
        "    recall_score = sklearn.metrics.recall_score(ytest, ypred,average=param)\n",
        "    precision_score = sklearn.metrics.precision_score(ytest, ypred,average=param)\n",
        "    print(\"accuracy: %f\" % accuracy_score)\n",
        "    print(\"f1_score: %f\" % f1_score)\n",
        "    print(\"recall_score: %f\" % recall_score)\n",
        "    print(\"precision_score: %f\" % precision_score)\n",
        "    if flag == 0:\n",
        "        cf_matrix = confusion_matrix(ytest, ypred)\n",
        "        sns.heatmap(cf_matrix/np.sum(cf_matrix), annot=True,\n",
        "                fmt='.2%', cmap='Blues')"
      ]
    },
    {
      "cell_type": "code",
      "execution_count": null,
      "metadata": {
        "id": "lHBUNTHZGKd4"
      },
      "outputs": [],
      "source": [
        "def add_tags(text, obj1, obj2):\n",
        "    # Find the indices of obj1 and obj2 in the text\n",
        "    index1 = text.find(obj1)\n",
        "    index2 = text.find(obj2)\n",
        "\n",
        "    # Insert the <e1> and </e1> tags around obj1\n",
        "    text = text[:index1] + \"<e1>\" + obj1 + \"</e1>\" + text[index1+len(obj1):]\n",
        "\n",
        "    # Since we added <e1> tag before obj2, the index of obj2 in the text is now shifted\n",
        "    # by the length of the <e1> and </e1> tags\n",
        "    index2 += len(\"<e1></e1>\")\n",
        "\n",
        "    # Insert the <e2> and </e2> tags around obj2\n",
        "    text = text[:index2] + \"<e2>\" + obj2 + \"</e2>\" + text[index2+len(obj2):]\n",
        "\n",
        "    return text\n"
      ]
    },
    {
      "cell_type": "code",
      "execution_count": null,
      "metadata": {
        "id": "nXfvyUWl9c5s"
      },
      "outputs": [],
      "source": [
        "# customized metric to generate accuracy,precision, recall, f1\n",
        "def compute_metrics(eval_pred):\n",
        "    metrics = [\"accuracy\", \"recall\", \"precision\", \"f1\"] #List of metrics to return\n",
        "    metric={}\n",
        "    for met in metrics:\n",
        "       metric[met] = evaluate.load(met)\n",
        "    logits, labels = eval_pred\n",
        "    predictions = np.argmax(logits, axis=-1)\n",
        "    metric_res={}\n",
        "    for met in metrics:\n",
        "       metric_res[met]=metric[met].compute(predictions=predictions, references=labels)[met]\n",
        "    return metric_res"
      ]
    },
    {
      "cell_type": "code",
      "execution_count": null,
      "metadata": {
        "id": "CWmi7QI99M9r"
      },
      "outputs": [],
      "source": [
        "class subIntDataset(torch.utils.data.Dataset):\n",
        "    def __init__(self, encodings, labels):\n",
        "        self.encodings = encodings\n",
        "        self.labels = labels\n",
        "\n",
        "    def __getitem__(self, idx):\n",
        "        # item = {key: torch.tensor(val[idx]) for key, val in self.encodings.items()}\n",
        "        item = {key: torch.tensor(val[idx]).clone().detach() for key, val in self.encodings.items()}\n",
        "        item['labels'] = torch.tensor(self.labels[idx])\n",
        "        return item\n",
        "\n",
        "    def __len__(self):\n",
        "        return len(self.labels)"
      ]
    },
    {
      "cell_type": "code",
      "execution_count": null,
      "metadata": {
        "colab": {
          "base_uri": "https://localhost:8080/",
          "height": 248
        },
        "id": "EpCXLpo4G9AC",
        "outputId": "355539ca-c54d-4475-ab05-47c0ad6f1825"
      },
      "outputs": [
        {
          "name": "stderr",
          "output_type": "stream",
          "text": [
            "<ipython-input-32-d7840f06043e>:1: SettingWithCopyWarning: \n",
            "A value is trying to be set on a copy of a slice from a DataFrame.\n",
            "Try using .loc[row_indexer,col_indexer] = value instead\n",
            "\n",
            "See the caveats in the documentation: https://pandas.pydata.org/pandas-docs/stable/user_guide/indexing.html#returning-a-view-versus-a-copy\n",
            "  df_sub_interactions_final['sent_updated'] = df_sub_interactions_final.apply(lambda x: add_tags(x['SENTENCE'], x['SUBJECT_TEXT'], x['OBJECT_TEXT']), axis=1)\n"
          ]
        },
        {
          "data": {
            "text/html": [
              "\n",
              "  <div id=\"df-0f10be60-26f5-42bf-9236-be71422e81ba\">\n",
              "    <div class=\"colab-df-container\">\n",
              "      <div>\n",
              "<style scoped>\n",
              "    .dataframe tbody tr th:only-of-type {\n",
              "        vertical-align: middle;\n",
              "    }\n",
              "\n",
              "    .dataframe tbody tr th {\n",
              "        vertical-align: top;\n",
              "    }\n",
              "\n",
              "    .dataframe thead th {\n",
              "        text-align: right;\n",
              "    }\n",
              "</style>\n",
              "<table border=\"1\" class=\"dataframe\">\n",
              "  <thead>\n",
              "    <tr style=\"text-align: right;\">\n",
              "      <th></th>\n",
              "      <th>SENTENCE</th>\n",
              "      <th>SUBJECT_TEXT</th>\n",
              "      <th>OBJECT_TEXT</th>\n",
              "      <th>PREDICATE</th>\n",
              "      <th>LABEL</th>\n",
              "      <th>sent_updated</th>\n",
              "      <th>Label</th>\n",
              "    </tr>\n",
              "  </thead>\n",
              "  <tbody>\n",
              "    <tr>\n",
              "      <th>0</th>\n",
              "      <td>Nor did administration of SA, diflunisal or AS...</td>\n",
              "      <td>SA</td>\n",
              "      <td>ASA</td>\n",
              "      <td>INTERACTS_WITH</td>\n",
              "      <td>n</td>\n",
              "      <td>Nor did administration of &lt;e1&gt;SA&lt;/e1&gt;, difluni...</td>\n",
              "      <td>0</td>\n",
              "    </tr>\n",
              "    <tr>\n",
              "      <th>1</th>\n",
              "      <td>A       comparative study of recombinant L-cha...</td>\n",
              "      <td>rHF</td>\n",
              "      <td>oxidase</td>\n",
              "      <td>INHIBITS</td>\n",
              "      <td>n</td>\n",
              "      <td>A       comparative study of recombinant L-cha...</td>\n",
              "      <td>0</td>\n",
              "    </tr>\n",
              "    <tr>\n",
              "      <th>2</th>\n",
              "      <td>These findings suggest that some nicotinic alk...</td>\n",
              "      <td>alkaloids</td>\n",
              "      <td>aromatase</td>\n",
              "      <td>INHIBITS</td>\n",
              "      <td>y</td>\n",
              "      <td>These findings suggest that some nicotinic &lt;e1...</td>\n",
              "      <td>1</td>\n",
              "    </tr>\n",
              "  </tbody>\n",
              "</table>\n",
              "</div>\n",
              "      <button class=\"colab-df-convert\" onclick=\"convertToInteractive('df-0f10be60-26f5-42bf-9236-be71422e81ba')\"\n",
              "              title=\"Convert this dataframe to an interactive table.\"\n",
              "              style=\"display:none;\">\n",
              "        \n",
              "  <svg xmlns=\"http://www.w3.org/2000/svg\" height=\"24px\"viewBox=\"0 0 24 24\"\n",
              "       width=\"24px\">\n",
              "    <path d=\"M0 0h24v24H0V0z\" fill=\"none\"/>\n",
              "    <path d=\"M18.56 5.44l.94 2.06.94-2.06 2.06-.94-2.06-.94-.94-2.06-.94 2.06-2.06.94zm-11 1L8.5 8.5l.94-2.06 2.06-.94-2.06-.94L8.5 2.5l-.94 2.06-2.06.94zm10 10l.94 2.06.94-2.06 2.06-.94-2.06-.94-.94-2.06-.94 2.06-2.06.94z\"/><path d=\"M17.41 7.96l-1.37-1.37c-.4-.4-.92-.59-1.43-.59-.52 0-1.04.2-1.43.59L10.3 9.45l-7.72 7.72c-.78.78-.78 2.05 0 2.83L4 21.41c.39.39.9.59 1.41.59.51 0 1.02-.2 1.41-.59l7.78-7.78 2.81-2.81c.8-.78.8-2.07 0-2.86zM5.41 20L4 18.59l7.72-7.72 1.47 1.35L5.41 20z\"/>\n",
              "  </svg>\n",
              "      </button>\n",
              "      \n",
              "  <style>\n",
              "    .colab-df-container {\n",
              "      display:flex;\n",
              "      flex-wrap:wrap;\n",
              "      gap: 12px;\n",
              "    }\n",
              "\n",
              "    .colab-df-convert {\n",
              "      background-color: #E8F0FE;\n",
              "      border: none;\n",
              "      border-radius: 50%;\n",
              "      cursor: pointer;\n",
              "      display: none;\n",
              "      fill: #1967D2;\n",
              "      height: 32px;\n",
              "      padding: 0 0 0 0;\n",
              "      width: 32px;\n",
              "    }\n",
              "\n",
              "    .colab-df-convert:hover {\n",
              "      background-color: #E2EBFA;\n",
              "      box-shadow: 0px 1px 2px rgba(60, 64, 67, 0.3), 0px 1px 3px 1px rgba(60, 64, 67, 0.15);\n",
              "      fill: #174EA6;\n",
              "    }\n",
              "\n",
              "    [theme=dark] .colab-df-convert {\n",
              "      background-color: #3B4455;\n",
              "      fill: #D2E3FC;\n",
              "    }\n",
              "\n",
              "    [theme=dark] .colab-df-convert:hover {\n",
              "      background-color: #434B5C;\n",
              "      box-shadow: 0px 1px 3px 1px rgba(0, 0, 0, 0.15);\n",
              "      filter: drop-shadow(0px 1px 2px rgba(0, 0, 0, 0.3));\n",
              "      fill: #FFFFFF;\n",
              "    }\n",
              "  </style>\n",
              "\n",
              "      <script>\n",
              "        const buttonEl =\n",
              "          document.querySelector('#df-0f10be60-26f5-42bf-9236-be71422e81ba button.colab-df-convert');\n",
              "        buttonEl.style.display =\n",
              "          google.colab.kernel.accessAllowed ? 'block' : 'none';\n",
              "\n",
              "        async function convertToInteractive(key) {\n",
              "          const element = document.querySelector('#df-0f10be60-26f5-42bf-9236-be71422e81ba');\n",
              "          const dataTable =\n",
              "            await google.colab.kernel.invokeFunction('convertToInteractive',\n",
              "                                                     [key], {});\n",
              "          if (!dataTable) return;\n",
              "\n",
              "          const docLinkHtml = 'Like what you see? Visit the ' +\n",
              "            '<a target=\"_blank\" href=https://colab.research.google.com/notebooks/data_table.ipynb>data table notebook</a>'\n",
              "            + ' to learn more about interactive tables.';\n",
              "          element.innerHTML = '';\n",
              "          dataTable['output_type'] = 'display_data';\n",
              "          await google.colab.output.renderOutput(dataTable, element);\n",
              "          const docLink = document.createElement('div');\n",
              "          docLink.innerHTML = docLinkHtml;\n",
              "          element.appendChild(docLink);\n",
              "        }\n",
              "      </script>\n",
              "    </div>\n",
              "  </div>\n",
              "  "
            ],
            "text/plain": [
              "                                            SENTENCE SUBJECT_TEXT OBJECT_TEXT  \\\n",
              "0  Nor did administration of SA, diflunisal or AS...           SA         ASA   \n",
              "1  A       comparative study of recombinant L-cha...          rHF     oxidase   \n",
              "2  These findings suggest that some nicotinic alk...    alkaloids   aromatase   \n",
              "\n",
              "        PREDICATE LABEL                                       sent_updated  \\\n",
              "0  INTERACTS_WITH     n  Nor did administration of <e1>SA</e1>, difluni...   \n",
              "1        INHIBITS     n  A       comparative study of recombinant L-cha...   \n",
              "2        INHIBITS     y  These findings suggest that some nicotinic <e1...   \n",
              "\n",
              "   Label  \n",
              "0      0  \n",
              "1      0  \n",
              "2      1  "
            ]
          },
          "execution_count": 32,
          "metadata": {},
          "output_type": "execute_result"
        }
      ],
      "source": [
        "df_sub_interactions_final['sent_updated'] = df_sub_interactions_final.apply(lambda x: add_tags(x['SENTENCE'], x['SUBJECT_TEXT'], x['OBJECT_TEXT']), axis=1)\n",
        "df_sub_interactions_final.head(3)"
      ]
    },
    {
      "cell_type": "code",
      "execution_count": null,
      "metadata": {
        "colab": {
          "base_uri": "https://localhost:8080/"
        },
        "id": "uFoBciYThuFR",
        "outputId": "670eea75-c236-4576-ff4f-08e8f0e2064f"
      },
      "outputs": [
        {
          "name": "stdout",
          "output_type": "stream",
          "text": [
            "ORIGINAL SENTENCE:  Nor did administration of SA, diflunisal or ASA itself impair the       anti-aggregatory effect of a fresh test dose of ASA.\n",
            "SENTENCE AFTER ENCODING:  Nor did administration of <e1>SA</e1>, diflunisal or <e2>ASA</e2> itself impair the       anti-aggregatory effect of a fresh test dose of ASA.\n"
          ]
        }
      ],
      "source": [
        "print(\"ORIGINAL SENTENCE: \",df_sub_interactions_final.loc[0,\"SENTENCE\"])\n",
        "print(\"SENTENCE AFTER ENCODING: \",df_sub_interactions_final.loc[0,\"sent_updated\"])"
      ]
    },
    {
      "cell_type": "code",
      "execution_count": null,
      "metadata": {
        "id": "79jHLHu-y9E7"
      },
      "outputs": [],
      "source": [
        "train_data,Y  = train_test_split(df_sub_interactions_final[[\"SENTENCE\",\"sent_updated\",'SUBJECT_TEXT',\t'OBJECT_TEXT',\t'PREDICATE',\t\"Label\"\t]], test_size = 0.3, stratify = df_sub_interactions_final.Label, random_state = 0)\n",
        "val_data, test_data = train_test_split(Y, test_size = 0.5, stratify = Y.Label,random_state = 0)"
      ]
    },
    {
      "cell_type": "code",
      "execution_count": null,
      "metadata": {
        "colab": {
          "base_uri": "https://localhost:8080/"
        },
        "id": "cS1_gjSxWjbn",
        "outputId": "e50f83b2-3916-4fe0-da41-d5cf023dcf2d"
      },
      "outputs": [
        {
          "name": "stdout",
          "output_type": "stream",
          "text": [
            "(2100, 6) (450, 6) (450, 6)\n"
          ]
        }
      ],
      "source": [
        "print(train_data.shape,val_data.shape,test_data.shape)"
      ]
    },
    {
      "cell_type": "code",
      "execution_count": null,
      "metadata": {
        "id": "t0nFzYQtWvCQ"
      },
      "outputs": [],
      "source": [
        "#saving the distribution\n",
        "train_data.to_csv(\"/content/drive/MyDrive/UMN/Data/train_data.csv\", sep = \"|\", index = 0)\n",
        "val_data.to_csv(\"/content/drive/MyDrive/UMN/Data/val_data.csv\", sep = \"|\", index = 0)\n",
        "test_data.to_csv(\"/content/drive/MyDrive/UMN/Data/test_data.csv\", sep = \"|\", index = 0)"
      ]
    },
    {
      "cell_type": "code",
      "execution_count": null,
      "metadata": {
        "id": "2Ch-b3WLAHea"
      },
      "outputs": [],
      "source": [
        "train_labels = train_data[\"Label\"].tolist()\n",
        "val_labels = val_data[\"Label\"].tolist()\n",
        "test_labels = test_data[\"Label\"].tolist()\n",
        "\n",
        "train_data.drop('Label', axis=1, inplace=True)\n",
        "\n",
        "val_data.drop('Label', axis=1, inplace=True)\n",
        "\n",
        "test_data.drop('Label', axis=1, inplace=True)\n",
        "\n"
      ]
    },
    {
      "cell_type": "code",
      "execution_count": null,
      "metadata": {
        "colab": {
          "base_uri": "https://localhost:8080/",
          "height": 287,
          "referenced_widgets": [
            "4af9fc1637b54045af300b3af0f6ca88",
            "e98a4d433d4d4d36b7c7903a8cb08411",
            "125834b16a9b44358334a68ab29efed6",
            "e60a3e58c57748e4b0aeb3e27c9f6c2d",
            "f1641bb3cccb483eb0cbedcac97095cb",
            "c612edac0a1a47d39fbf8625fc46025e",
            "d9c6c4f02e8a42eea6a6b0eaa797e0fe",
            "2cb96a6d7ee34973a60e648ec3587a71",
            "d2416100377543f0b1a098dcbcc9deee",
            "6b143104b0954fe792404dc0d6968157",
            "292060e55ce444cb936cfe514431eff7",
            "ceb38af8ef444eb9abd89899aba9a6bc",
            "011abdc341354103a51ec46bee44e013",
            "f6fd951792f746f0a852433a2335daab",
            "8b5cd0f2d489420bbbaeb6a9c7cbb348",
            "230c2b1cbbd54b0897b8bc375b5f34b7",
            "5080bba49c46461c8ae714455efca2f7",
            "470f63f57ab64dc094c9120e2d7d597c",
            "a07b5674ef974090a7253e4bba4c984d",
            "6881e4125a60441d965f5ccac0f92915",
            "db6ed9e300414e619a0d1971937af500",
            "37725030d0a546a1b8883a02744fc8f8",
            "25b02b86ca11445298a3bdefa9c67c25",
            "c2b805a50b9a4c069b20632c05db9b37",
            "e960e588e1e447f49d3a93dedc0f8ca8",
            "2b4e5b5bfa8d44e2b48eed44a2da5918",
            "d47dc52a798a4212b7ca567333961785",
            "a69bab08571945138a51ab69ade1616c",
            "0389b0758e7d403fab50a960675f4e0c",
            "19c855b778e84b15afb9e099feb73913",
            "11a66c5fd85041b382e2e6bb438c9e1a",
            "cabd34c34b7e464493e42c3d065d157b",
            "bda548cdcb7147608d9f7fe4b3d3c7c1",
            "673ac2b1e16a4ebbb8fff215a8b10344",
            "bb79717406df486ba95c8a8f6f271048",
            "bfec7d0b33534b2eab51e945f922b084",
            "6dc22a5fc26a4f25bda39796b92fea03",
            "a7f85d99198c4f108962707d6ee2faae",
            "181573c0e36c4440b6ac3cf892857850",
            "4a9c02ee94de49b390d6af891ff9849e",
            "0ee2116da8394f128f10806d04fd2e6b",
            "26acf8af14fc4fda8c3a0a0f06bed55b",
            "8cbeff1d5fd0489d9b3efe4ef8d6a026",
            "52a1539438df46f5a8209f46730c9eeb"
          ]
        },
        "id": "aM-UYIuVabOF",
        "outputId": "4685cf8c-4856-4732-9d31-a6e1c6b13529"
      },
      "outputs": [
        {
          "data": {
            "application/vnd.jupyter.widget-view+json": {
              "model_id": "4af9fc1637b54045af300b3af0f6ca88",
              "version_major": 2,
              "version_minor": 0
            },
            "text/plain": [
              "Downloading (…)okenizer_config.json:   0%|          | 0.00/28.0 [00:00<?, ?B/s]"
            ]
          },
          "metadata": {},
          "output_type": "display_data"
        },
        {
          "data": {
            "application/vnd.jupyter.widget-view+json": {
              "model_id": "ceb38af8ef444eb9abd89899aba9a6bc",
              "version_major": 2,
              "version_minor": 0
            },
            "text/plain": [
              "Downloading (…)lve/main/config.json:   0%|          | 0.00/385 [00:00<?, ?B/s]"
            ]
          },
          "metadata": {},
          "output_type": "display_data"
        },
        {
          "data": {
            "application/vnd.jupyter.widget-view+json": {
              "model_id": "25b02b86ca11445298a3bdefa9c67c25",
              "version_major": 2,
              "version_minor": 0
            },
            "text/plain": [
              "Downloading (…)solve/main/vocab.txt:   0%|          | 0.00/225k [00:00<?, ?B/s]"
            ]
          },
          "metadata": {},
          "output_type": "display_data"
        },
        {
          "name": "stderr",
          "output_type": "stream",
          "text": [
            "Special tokens have been added in the vocabulary, make sure the associated word embeddings are fine-tuned or trained.\n",
            "Special tokens have been added in the vocabulary, make sure the associated word embeddings are fine-tuned or trained.\n"
          ]
        },
        {
          "data": {
            "application/vnd.jupyter.widget-view+json": {
              "model_id": "673ac2b1e16a4ebbb8fff215a8b10344",
              "version_major": 2,
              "version_minor": 0
            },
            "text/plain": [
              "Downloading pytorch_model.bin:   0%|          | 0.00/440M [00:00<?, ?B/s]"
            ]
          },
          "metadata": {},
          "output_type": "display_data"
        },
        {
          "name": "stderr",
          "output_type": "stream",
          "text": [
            "Some weights of the model checkpoint at microsoft/BiomedNLP-PubMedBERT-base-uncased-abstract were not used when initializing BertForSequenceClassification: ['cls.predictions.decoder.bias', 'cls.predictions.transform.LayerNorm.bias', 'cls.predictions.decoder.weight', 'cls.seq_relationship.bias', 'cls.predictions.transform.dense.weight', 'cls.predictions.bias', 'cls.predictions.transform.LayerNorm.weight', 'cls.predictions.transform.dense.bias', 'cls.seq_relationship.weight']\n",
            "- This IS expected if you are initializing BertForSequenceClassification from the checkpoint of a model trained on another task or with another architecture (e.g. initializing a BertForSequenceClassification model from a BertForPreTraining model).\n",
            "- This IS NOT expected if you are initializing BertForSequenceClassification from the checkpoint of a model that you expect to be exactly identical (initializing a BertForSequenceClassification model from a BertForSequenceClassification model).\n",
            "Some weights of BertForSequenceClassification were not initialized from the model checkpoint at microsoft/BiomedNLP-PubMedBERT-base-uncased-abstract and are newly initialized: ['classifier.bias', 'classifier.weight']\n",
            "You should probably TRAIN this model on a down-stream task to be able to use it for predictions and inference.\n"
          ]
        }
      ],
      "source": [
        "# Initialize the tokenizer and the BERT model\n",
        "from transformers import AdamW, AutoTokenizer, AutoModelForSequenceClassification\n",
        "model_name = 'microsoft/BiomedNLP-PubMedBERT-base-uncased-abstract'\n",
        "tokenizer = AutoTokenizer.from_pretrained(model_name,additional_special_tokens=['<e1>', '</e1>', '<e2>', '</e2>'])\n",
        "model = AutoModelForSequenceClassification.from_pretrained(model_name)"
      ]
    },
    {
      "cell_type": "code",
      "execution_count": null,
      "metadata": {
        "id": "TxsoaYXGBhUP"
      },
      "outputs": [],
      "source": [
        "#generating embeddings\n",
        "train_encodings = tokenizer(train_data[\"sent_updated\"].tolist(),train_data[\"PREDICATE\"].tolist(), truncation=True, padding=True , max_length = 256)\n",
        "val_encodings = tokenizer(val_data[\"sent_updated\"].tolist(),val_data[\"PREDICATE\"].tolist(), truncation=True, padding=True, max_length = 256)\n",
        "test_encodings = tokenizer(test_data[\"sent_updated\"].tolist(),test_data[\"PREDICATE\"].tolist(), truncation=True, padding=True, max_length = 256)"
      ]
    },
    {
      "cell_type": "code",
      "execution_count": null,
      "metadata": {
        "id": "CQDDvjVBZEps"
      },
      "outputs": [],
      "source": [
        "#generating dataset\n",
        "train_dataset = subIntDataset(train_encodings, train_labels)\n",
        "val_dataset = subIntDataset(val_encodings, val_labels)\n",
        "test_dataset = subIntDataset(test_encodings, test_labels)\n"
      ]
    },
    {
      "cell_type": "code",
      "execution_count": null,
      "metadata": {
        "id": "TnUkbXx8pDeU"
      },
      "outputs": [],
      "source": [
        "#initialising the training arguments\n",
        "training_args = TrainingArguments(\n",
        "    output_dir='./results',          # output directory\n",
        "    num_train_epochs=10,              # total number of training epochs\n",
        "    per_device_train_batch_size=8,  # batch size per device during training\n",
        "    per_device_eval_batch_size=16,   # batch size for evaluation\n",
        "    warmup_steps=500,                # number of warmup steps for learning rate scheduler\n",
        "    weight_decay=0.01,               # strength of weight decay\n",
        "    logging_dir='./logs',              # directory for storing logs\n",
        "    evaluation_strategy = \"epoch\" ,\n",
        "    save_strategy = \"epoch\",\n",
        "    load_best_model_at_end=True,\n",
        "    report_to=\"wandb\",\n",
        "    run_name=\"Baseline_model_v1\",\n",
        "    learning_rate = 2e-5,\n",
        "    logging_steps=10,\n",
        "    )\n",
        ""
      ]
    },
    {
      "cell_type": "code",
      "execution_count": null,
      "metadata": {
        "id": "REs3C6G9pwzr"
      },
      "outputs": [],
      "source": [
        "trainer = Trainer(\n",
        "    model,\n",
        "    training_args,\n",
        "    train_dataset=train_dataset,\n",
        "    eval_dataset=val_dataset,\n",
        "    tokenizer=tokenizer,\n",
        "    compute_metrics=compute_metrics,\n",
        "    callbacks = [EarlyStoppingCallback(early_stopping_patience=2)]\n",
        ")"
      ]
    },
    {
      "cell_type": "code",
      "execution_count": null,
      "metadata": {
        "colab": {
          "base_uri": "https://localhost:8080/",
          "height": 322
        },
        "id": "1GJQ0sIP5ekA",
        "outputId": "a634b472-f762-484e-d716-e286170dcd03"
      },
      "outputs": [
        {
          "name": "stderr",
          "output_type": "stream",
          "text": [
            "/usr/local/lib/python3.9/dist-packages/transformers/optimization.py:391: FutureWarning: This implementation of AdamW is deprecated and will be removed in a future version. Use the PyTorch implementation torch.optim.AdamW instead, or set `no_deprecation_warning=True` to disable this warning\n",
            "  warnings.warn(\n"
          ]
        },
        {
          "data": {
            "text/html": [
              "\n",
              "    <div>\n",
              "      \n",
              "      <progress value='1315' max='2630' style='width:300px; height:20px; vertical-align: middle;'></progress>\n",
              "      [1315/2630 02:50 < 02:50, 7.72 it/s, Epoch 5/10]\n",
              "    </div>\n",
              "    <table border=\"1\" class=\"dataframe\">\n",
              "  <thead>\n",
              " <tr style=\"text-align: left;\">\n",
              "      <th>Epoch</th>\n",
              "      <th>Training Loss</th>\n",
              "      <th>Validation Loss</th>\n",
              "      <th>Accuracy</th>\n",
              "      <th>Recall</th>\n",
              "      <th>Precision</th>\n",
              "      <th>F1</th>\n",
              "    </tr>\n",
              "  </thead>\n",
              "  <tbody>\n",
              "    <tr>\n",
              "      <td>1</td>\n",
              "      <td>0.625500</td>\n",
              "      <td>1.405172</td>\n",
              "      <td>0.635556</td>\n",
              "      <td>0.431535</td>\n",
              "      <td>0.793893</td>\n",
              "      <td>0.559140</td>\n",
              "    </tr>\n",
              "    <tr>\n",
              "      <td>2</td>\n",
              "      <td>0.407800</td>\n",
              "      <td>0.829053</td>\n",
              "      <td>0.651111</td>\n",
              "      <td>0.929461</td>\n",
              "      <td>0.615385</td>\n",
              "      <td>0.740496</td>\n",
              "    </tr>\n",
              "    <tr>\n",
              "      <td>3</td>\n",
              "      <td>0.456000</td>\n",
              "      <td>0.736488</td>\n",
              "      <td>0.775556</td>\n",
              "      <td>0.755187</td>\n",
              "      <td>0.812500</td>\n",
              "      <td>0.782796</td>\n",
              "    </tr>\n",
              "    <tr>\n",
              "      <td>4</td>\n",
              "      <td>0.447900</td>\n",
              "      <td>1.335639</td>\n",
              "      <td>0.717778</td>\n",
              "      <td>0.838174</td>\n",
              "      <td>0.696552</td>\n",
              "      <td>0.760829</td>\n",
              "    </tr>\n",
              "    <tr>\n",
              "      <td>5</td>\n",
              "      <td>0.110700</td>\n",
              "      <td>1.793677</td>\n",
              "      <td>0.731111</td>\n",
              "      <td>0.854772</td>\n",
              "      <td>0.705479</td>\n",
              "      <td>0.772983</td>\n",
              "    </tr>\n",
              "  </tbody>\n",
              "</table><p>"
            ],
            "text/plain": [
              "<IPython.core.display.HTML object>"
            ]
          },
          "metadata": {},
          "output_type": "display_data"
        },
        {
          "data": {
            "text/plain": [
              "TrainOutput(global_step=1315, training_loss=0.3162742497038252, metrics={'train_runtime': 170.3197, 'train_samples_per_second': 123.298, 'train_steps_per_second': 15.442, 'total_flos': 1214062242750000.0, 'train_loss': 0.3162742497038252, 'epoch': 5.0})"
            ]
          },
          "execution_count": 59,
          "metadata": {},
          "output_type": "execute_result"
        }
      ],
      "source": [
        "trainer.train()"
      ]
    },
    {
      "cell_type": "code",
      "execution_count": null,
      "metadata": {
        "colab": {
          "base_uri": "https://localhost:8080/",
          "height": 75
        },
        "id": "drBEd03tPxJD",
        "outputId": "03a17288-6519-41f4-a0ca-578ba92417e7"
      },
      "outputs": [
        {
          "data": {
            "text/html": [
              "\n",
              "    <div>\n",
              "      \n",
              "      <progress value='29' max='29' style='width:300px; height:20px; vertical-align: middle;'></progress>\n",
              "      [29/29 00:01]\n",
              "    </div>\n",
              "    "
            ],
            "text/plain": [
              "<IPython.core.display.HTML object>"
            ]
          },
          "metadata": {},
          "output_type": "display_data"
        },
        {
          "name": "stdout",
          "output_type": "stream",
          "text": [
            "{'eval_loss': 0.7364878058433533, 'eval_accuracy': 0.7755555555555556, 'eval_recall': 0.7551867219917012, 'eval_precision': 0.8125, 'eval_f1': 0.7827956989247312, 'eval_runtime': 4.1713, 'eval_samples_per_second': 107.88, 'eval_steps_per_second': 6.952, 'epoch': 5.0}\n"
          ]
        }
      ],
      "source": [
        "#analysing evaluation metric\n",
        "metrics=trainer.evaluate()\n",
        "print(metrics)"
      ]
    },
    {
      "cell_type": "code",
      "execution_count": null,
      "metadata": {
        "colab": {
          "base_uri": "https://localhost:8080/",
          "height": 34
        },
        "id": "ovy9WLeYiIcv",
        "outputId": "25e893f7-3429-4aea-a15d-e7f65b6bc21b"
      },
      "outputs": [
        {
          "data": {
            "text/html": [],
            "text/plain": [
              "<IPython.core.display.HTML object>"
            ]
          },
          "metadata": {},
          "output_type": "display_data"
        },
        {
          "name": "stdout",
          "output_type": "stream",
          "text": [
            "(450, 2) (450,)\n"
          ]
        }
      ],
      "source": [
        "predictions = trainer.predict(test_dataset)\n",
        "print(predictions.predictions.shape, predictions.label_ids.shape)"
      ]
    },
    {
      "cell_type": "code",
      "execution_count": null,
      "metadata": {
        "id": "xA-T8ApT1KHT"
      },
      "outputs": [],
      "source": [
        "trainer.save_model(\"/content/drive/MyDrive/UMN/UMN-Final\")"
      ]
    },
    {
      "cell_type": "code",
      "execution_count": null,
      "metadata": {
        "colab": {
          "base_uri": "https://localhost:8080/"
        },
        "id": "WKZ8rRxH11-t",
        "outputId": "0702dac0-2eee-4161-8564-ff329c7d805a"
      },
      "outputs": [
        {
          "name": "stdout",
          "output_type": "stream",
          "text": [
            "              precision    recall  f1-score   support\n",
            "\n",
            "           0       0.74      0.82      0.78       210\n",
            "           1       0.83      0.74      0.78       240\n",
            "\n",
            "    accuracy                           0.78       450\n",
            "   macro avg       0.78      0.78      0.78       450\n",
            "weighted avg       0.79      0.78      0.78       450\n",
            "\n"
          ]
        }
      ],
      "source": [
        "preds = np.argmax(predictions.predictions, axis=-1)\n",
        "print(classification_report(test_labels, preds))"
      ]
    },
    {
      "cell_type": "code",
      "execution_count": null,
      "metadata": {
        "colab": {
          "base_uri": "https://localhost:8080/",
          "height": 499
        },
        "id": "njsLr-0r2yKa",
        "outputId": "1a6c3ed0-b2d4-4be7-9756-43042fdd35f6"
      },
      "outputs": [
        {
          "name": "stdout",
          "output_type": "stream",
          "text": [
            "accuracy: 0.780000\n",
            "f1_score: 0.782418\n",
            "recall_score: 0.741667\n",
            "precision_score: 0.827907\n"
          ]
        },
        {
          "data": {
            "image/png": "[encoded data removed]",
            "text/plain": [
              "<Figure size 640x480 with 2 Axes>"
            ]
          },
          "metadata": {},
          "output_type": "display_data"
        }
      ],
      "source": [
        "get_model_accuracy(test_labels,preds, \"binary\",flag = 0)"
      ]
    },
    {
      "cell_type": "code",
      "execution_count": null,
      "metadata": {
        "colab": {
          "base_uri": "https://localhost:8080/",
          "height": 512
        },
        "id": "GSiOKDBJG0VU",
        "outputId": "df7b350f-b338-43b9-8392-e019e2551df9"
      },
      "outputs": [
        {
          "data": {
            "text/html": [
              "Waiting for W&B process to finish... <strong style=\"color:green\">(success).</strong>"
            ],
            "text/plain": [
              "<IPython.core.display.HTML object>"
            ]
          },
          "metadata": {},
          "output_type": "display_data"
        },
        {
          "data": {
            "text/html": [
              "<style>\n",
              "    table.wandb td:nth-child(1) { padding: 0 10px; text-align: left ; width: auto;} td:nth-child(2) {text-align: left ; width: 100%}\n",
              "    .wandb-row { display: flex; flex-direction: row; flex-wrap: wrap; justify-content: flex-start; width: 100% }\n",
              "    .wandb-col { display: flex; flex-direction: column; flex-basis: 100%; flex: 1; padding: 10px; }\n",
              "    </style>\n",
              "<div class=\"wandb-row\"><div class=\"wandb-col\"><h3>Run history:</h3><br/><table class=\"wandb\"><tr><td>eval/accuracy</td><td>▄▂▇▄▁▂█▅▆█</td></tr><tr><td>eval/f1</td><td>▄▇█▄▁▇█▇██</td></tr><tr><td>eval/loss</td><td>▁▂▁▁▆▂▂▅█▂</td></tr><tr><td>eval/precision</td><td>█▁▆█▇▁█▄▄█</td></tr><tr><td>eval/recall</td><td>▂█▆▂▁█▅▇▇▅</td></tr><tr><td>eval/runtime</td><td>▁▂▃▃▅▂▆▁█▅</td></tr><tr><td>eval/samples_per_second</td><td>█▇▆▆▄▇▃█▁▄</td></tr><tr><td>eval/steps_per_second</td><td>█▇▆▆▄▇▃█▁▄</td></tr><tr><td>train/epoch</td><td>▁▁▂▂▂▂▃▃▃▄▄▄▄▅▅▁▁▂▂▂▂▃▃▃▄▄▄▅▅▅▅▆▆▆▇▇▇▇██</td></tr><tr><td>train/global_step</td><td>▁▁▂▂▂▂▃▃▃▄▄▄▄▅▅▁▁▂▂▂▂▃▃▃▄▄▄▅▅▅▅▆▆▆▇▇▇▇██</td></tr><tr><td>train/learning_rate</td><td>▁▂▂▃▄▅▅▆▇████▇▇▁▂▂▃▄▅▆▇▇███▇▇▇▇▇▇▆▆▆▆▆▅▅</td></tr><tr><td>train/loss</td><td>▇█▇▆▅▆▆█▇▇▅▅▅▅▆▆▆▅▃▄▇▇▅▆▇▄▅▆▆▃▃▄▆▄▄▂▂▁▃▃</td></tr><tr><td>train/total_flos</td><td>▁█</td></tr><tr><td>train/train_loss</td><td>█▁</td></tr><tr><td>train/train_runtime</td><td>▁█</td></tr><tr><td>train/train_samples_per_second</td><td>█▁</td></tr><tr><td>train/train_steps_per_second</td><td>█▁</td></tr></table><br/></div><div class=\"wandb-col\"><h3>Run summary:</h3><br/><table class=\"wandb\"><tr><td>eval/accuracy</td><td>0.77556</td></tr><tr><td>eval/f1</td><td>0.7828</td></tr><tr><td>eval/loss</td><td>0.73649</td></tr><tr><td>eval/precision</td><td>0.8125</td></tr><tr><td>eval/recall</td><td>0.75519</td></tr><tr><td>eval/runtime</td><td>4.1713</td></tr><tr><td>eval/samples_per_second</td><td>107.88</td></tr><tr><td>eval/steps_per_second</td><td>6.952</td></tr><tr><td>train/epoch</td><td>5.0</td></tr><tr><td>train/global_step</td><td>1315</td></tr><tr><td>train/learning_rate</td><td>1e-05</td></tr><tr><td>train/loss</td><td>0.1107</td></tr><tr><td>train/total_flos</td><td>1214062242750000.0</td></tr><tr><td>train/train_loss</td><td>0.31627</td></tr><tr><td>train/train_runtime</td><td>170.3197</td></tr><tr><td>train/train_samples_per_second</td><td>123.298</td></tr><tr><td>train/train_steps_per_second</td><td>15.442</td></tr></table><br/></div></div>"
            ],
            "text/plain": [
              "<IPython.core.display.HTML object>"
            ]
          },
          "metadata": {},
          "output_type": "display_data"
        },
        {
          "data": {
            "text/html": [
              " View run <strong style=\"color:#cdcd00\">Baseline_model_v1</strong> at: <a href='https://wandb.ai/anamika/%22UMN_Baseline_Model%22/runs/huzok3hv' target=\"_blank\">https://wandb.ai/anamika/%22UMN_Baseline_Model%22/runs/huzok3hv</a><br/>Synced 5 W&B file(s), 0 media file(s), 0 artifact file(s) and 0 other file(s)"
            ],
            "text/plain": [
              "<IPython.core.display.HTML object>"
            ]
          },
          "metadata": {},
          "output_type": "display_data"
        },
        {
          "data": {
            "text/html": [
              "Find logs at: <code>./wandb/run-20230330_220615-huzok3hv/logs</code>"
            ],
            "text/plain": [
              "<IPython.core.display.HTML object>"
            ]
          },
          "metadata": {},
          "output_type": "display_data"
        }
      ],
      "source": [
        "wandb.finish()"
      ]
    },
    {
      "cell_type": "markdown",
      "metadata": {
        "id": "rl2CX3M04TNh"
      },
      "source": [
        "### **SETFIT Model: As a few shot**"
      ]
    },
    {
      "cell_type": "code",
      "execution_count": null,
      "metadata": {
        "id": "9Qb9hZcNAgfy"
      },
      "outputs": [],
      "source": [
        "# appending entities to original sentence as form of question\n",
        "def adding_entities_as_sentence(SENTENCE,SUBJECT_TEXT,OBJECT_TEXT,PREDICATE):\n",
        "  return SENTENCE+\" \"+\"Does \"+SUBJECT_TEXT+\" \"+PREDICATE+\" \"+OBJECT_TEXT+\"?\""
      ]
    },
    {
      "cell_type": "code",
      "execution_count": null,
      "metadata": {
        "id": "Kz3L-Ypp6q-6"
      },
      "outputs": [],
      "source": [
        "train_data = pd.read_csv(\"/content/drive/MyDrive/UMN/Data/train_data.csv\", sep = \"|\")\n",
        "val_data =  pd.read_csv(\"/content/drive/MyDrive/UMN/Data/val_data.csv\", sep = \"|\")\n",
        "test_data =  pd.read_csv(\"/content/drive/MyDrive/UMN/Data/test_data.csv\", sep = \"|\")"
      ]
    },
    {
      "cell_type": "code",
      "execution_count": null,
      "metadata": {
        "colab": {
          "base_uri": "https://localhost:8080/",
          "height": 35
        },
        "id": "1tqfZMb5-lrl",
        "outputId": "70c3d500-a0ae-4d43-c955-30743495928b"
      },
      "outputs": [
        {
          "data": {
            "application/vnd.google.colaboratory.intrinsic+json": {
              "type": "string"
            },
            "text/plain": [
              "'The reversible inactivation of L-threonine hydratase of sheep liver by L-serine. Does L-serine INHIBITS hydratase?'"
            ]
          },
          "execution_count": 9,
          "metadata": {},
          "output_type": "execute_result"
        }
      ],
      "source": [
        "train_data['sent_ques'] = train_data.apply(lambda x: adding_entities_as_sentence(x.SENTENCE, x.SUBJECT_TEXT, x.OBJECT_TEXT,x.PREDICATE), axis=1)\n",
        "val_data['sent_ques'] = val_data.apply(lambda x: adding_entities_as_sentence(x.SENTENCE, x.SUBJECT_TEXT, x.OBJECT_TEXT,x.PREDICATE), axis=1)\n",
        "test_data['sent_ques'] = test_data.apply(lambda x: adding_entities_as_sentence(x.SENTENCE, x.SUBJECT_TEXT, x.OBJECT_TEXT,x.PREDICATE), axis=1)\n",
        "train_data.loc[0,'sent_ques']"
      ]
    },
    {
      "cell_type": "markdown",
      "metadata": {
        "id": "hERvk7SP_nbi"
      },
      "source": [
        "#### **Taking 20 examples for each combination of predicate and label from full train data**.\n",
        "#### In total there are 3 predicates and 2 labels , so total 6 combinations."
      ]
    },
    {
      "cell_type": "code",
      "execution_count": null,
      "metadata": {
        "id": "kiBJemZNOY5j"
      },
      "outputs": [],
      "source": [
        "from sklearn.utils import shuffle\n",
        "\n",
        "def generate_few_shot_dataset(train_data,n):\n",
        "    df_int_n = train_data.loc[(train_data.PREDICATE == \"INTERACTS_WITH\") & (train_data.Label == 0)][0:n]\n",
        "    df_int_y = train_data.loc[(train_data.PREDICATE == \"INTERACTS_WITH\") & (train_data.Label == 1)][0:n]\n",
        "    df_stim_n = train_data.loc[(train_data.PREDICATE == \"STIMULATES\") & (train_data.Label == 0)][0:n]\n",
        "    df_stim_y = train_data.loc[(train_data.PREDICATE == \"STIMULATES\") & (train_data.Label == 1)][0:n]\n",
        "    df_inhi_n = train_data.loc[(train_data.PREDICATE == \"INHIBITS\") & (train_data.Label == 0)][0:n]\n",
        "    df_inhi_y = train_data.loc[(train_data.PREDICATE == \"INHIBITS\") & (train_data.Label == 1)][0:n]\n",
        "    df_few_shot = pd.concat([df_int_n,df_int_y,df_stim_n,df_stim_y,df_inhi_n,df_inhi_y])\n",
        "    df_few_shot = shuffle(df_few_shot)\n",
        "    df_few_shot.reset_index(drop=True, inplace = True)\n",
        "    return df_few_shot"
      ]
    },
    {
      "cell_type": "code",
      "execution_count": null,
      "metadata": {
        "id": "8SDuTiDmvaAn"
      },
      "outputs": [],
      "source": [
        "df_few_shot_20 = generate_few_shot_dataset(train_data,20)"
      ]
    },
    {
      "cell_type": "code",
      "execution_count": null,
      "metadata": {
        "colab": {
          "base_uri": "https://localhost:8080/"
        },
        "id": "KCOawDV8w1-P",
        "outputId": "07587623-60ed-477d-fa10-5c09f4942a28"
      },
      "outputs": [
        {
          "name": "stdout",
          "output_type": "stream",
          "text": [
            "(84, 7) (18, 7) (18, 7)\n"
          ]
        }
      ],
      "source": [
        "train_df, X = train_test_split(df_few_shot_20, test_size=0.3, stratify=df_few_shot_20[[\"Label\"]],random_state=15)\n",
        "test_df,eval_df = train_test_split(X, test_size=0.5, stratify=X[[\"Label\"]],random_state=15)\n",
        "print(train_df.shape,eval_df.shape, test_df.shape)"
      ]
    },
    {
      "cell_type": "code",
      "execution_count": null,
      "metadata": {
        "colab": {
          "base_uri": "https://localhost:8080/",
          "height": 624
        },
        "id": "72xv7ACQI-9Q",
        "outputId": "276e27ed-e6f4-4f18-f62f-af0ceb137cf9"
      },
      "outputs": [
        {
          "data": {
            "text/html": [
              "\n",
              "  <div id=\"df-d9c07c8a-1bb7-45a1-9bd5-ec5a6d5a6414\">\n",
              "    <div class=\"colab-df-container\">\n",
              "      <div>\n",
              "<style scoped>\n",
              "    .dataframe tbody tr th:only-of-type {\n",
              "        vertical-align: middle;\n",
              "    }\n",
              "\n",
              "    .dataframe tbody tr th {\n",
              "        vertical-align: top;\n",
              "    }\n",
              "\n",
              "    .dataframe thead th {\n",
              "        text-align: right;\n",
              "    }\n",
              "</style>\n",
              "<table border=\"1\" class=\"dataframe\">\n",
              "  <thead>\n",
              "    <tr style=\"text-align: right;\">\n",
              "      <th></th>\n",
              "      <th>SENTENCE</th>\n",
              "      <th>sent_updated</th>\n",
              "      <th>SUBJECT_TEXT</th>\n",
              "      <th>OBJECT_TEXT</th>\n",
              "      <th>PREDICATE</th>\n",
              "      <th>Label</th>\n",
              "      <th>sent_ques</th>\n",
              "    </tr>\n",
              "  </thead>\n",
              "  <tbody>\n",
              "    <tr>\n",
              "      <th>100</th>\n",
              "      <td>The effect of 5-fluorouracil on bacterial prot...</td>\n",
              "      <td>The effect of &lt;e1&gt;5-fluorouracil&lt;/e1&gt; on &lt;e2&gt;b...</td>\n",
              "      <td>5-fluorouracil</td>\n",
              "      <td>bacterial protein</td>\n",
              "      <td>INTERACTS_WITH</td>\n",
              "      <td>1</td>\n",
              "      <td>The effect of 5-fluorouracil on bacterial prot...</td>\n",
              "    </tr>\n",
              "    <tr>\n",
              "      <th>46</th>\n",
              "      <td>Production of       antibody was demonstrated ...</td>\n",
              "      <td>Production of       antibody was demonstrated ...</td>\n",
              "      <td>precipitin</td>\n",
              "      <td>serum albumin</td>\n",
              "      <td>INHIBITS</td>\n",
              "      <td>0</td>\n",
              "      <td>Production of       antibody was demonstrated ...</td>\n",
              "    </tr>\n",
              "    <tr>\n",
              "      <th>75</th>\n",
              "      <td>The attachment of BCG to purified FN in vitro ...</td>\n",
              "      <td>The attachment of BCG to purified FN in vit&lt;e2...</td>\n",
              "      <td>anti-FN antibodies</td>\n",
              "      <td>FN</td>\n",
              "      <td>INHIBITS</td>\n",
              "      <td>0</td>\n",
              "      <td>The attachment of BCG to purified FN in vitro ...</td>\n",
              "    </tr>\n",
              "    <tr>\n",
              "      <th>79</th>\n",
              "      <td>The effect of anaesthetic agents on the cerebr...</td>\n",
              "      <td>The effect of anaesthet&lt;e2&gt;anaesthetic agents&lt;...</td>\n",
              "      <td>sulphate</td>\n",
              "      <td>anaesthetic agents</td>\n",
              "      <td>INTERACTS_WITH</td>\n",
              "      <td>1</td>\n",
              "      <td>The effect of anaesthetic agents on the cerebr...</td>\n",
              "    </tr>\n",
              "    <tr>\n",
              "      <th>16</th>\n",
              "      <td>Human myocardial fatty acid ethyl ester syntha...</td>\n",
              "      <td>Human &lt;e1&gt;myocardial fatty acid ethyl ester sy...</td>\n",
              "      <td>myocardial fatty acid ethyl ester synthase-III</td>\n",
              "      <td>ethanol</td>\n",
              "      <td>INTERACTS_WITH</td>\n",
              "      <td>1</td>\n",
              "      <td>Human myocardial fatty acid ethyl ester syntha...</td>\n",
              "    </tr>\n",
              "    <tr>\n",
              "      <th>...</th>\n",
              "      <td>...</td>\n",
              "      <td>...</td>\n",
              "      <td>...</td>\n",
              "      <td>...</td>\n",
              "      <td>...</td>\n",
              "      <td>...</td>\n",
              "      <td>...</td>\n",
              "    </tr>\n",
              "    <tr>\n",
              "      <th>77</th>\n",
              "      <td>Northern blot analysis of polyA RNA prepared  ...</td>\n",
              "      <td>Northern blot analysis of polyA RNA prepared  ...</td>\n",
              "      <td>beta-naphthoflavone</td>\n",
              "      <td>1A1</td>\n",
              "      <td>STIMULATES</td>\n",
              "      <td>1</td>\n",
              "      <td>Northern blot analysis of polyA RNA prepared  ...</td>\n",
              "    </tr>\n",
              "    <tr>\n",
              "      <th>7</th>\n",
              "      <td>An intraperitoneal injection       of N-methyl...</td>\n",
              "      <td>An intraperitoneal injection       of N-methyl...</td>\n",
              "      <td>aspartate</td>\n",
              "      <td>AP1</td>\n",
              "      <td>STIMULATES</td>\n",
              "      <td>1</td>\n",
              "      <td>An intraperitoneal injection       of N-methyl...</td>\n",
              "    </tr>\n",
              "    <tr>\n",
              "      <th>73</th>\n",
              "      <td>Kinetic analysis revealed that (1), the       ...</td>\n",
              "      <td>Kinetic analysis revealed that (1), the       ...</td>\n",
              "      <td>papain</td>\n",
              "      <td>phenylalanine</td>\n",
              "      <td>INTERACTS_WITH</td>\n",
              "      <td>0</td>\n",
              "      <td>Kinetic analysis revealed that (1), the       ...</td>\n",
              "    </tr>\n",
              "    <tr>\n",
              "      <th>110</th>\n",
              "      <td>YM-09538, a new sulfonamide-substituted phenyl...</td>\n",
              "      <td>YM-09538, a new sulfonamide-substituted &lt;e1&gt;ph...</td>\n",
              "      <td>phenylethylamine</td>\n",
              "      <td>beta 1-adrenoceptors</td>\n",
              "      <td>STIMULATES</td>\n",
              "      <td>0</td>\n",
              "      <td>YM-09538, a new sulfonamide-substituted phenyl...</td>\n",
              "    </tr>\n",
              "    <tr>\n",
              "      <th>48</th>\n",
              "      <td>Taken together, the results suggest that      ...</td>\n",
              "      <td>Taken together, the results suggest that      ...</td>\n",
              "      <td>FSH</td>\n",
              "      <td>cAMP</td>\n",
              "      <td>STIMULATES</td>\n",
              "      <td>1</td>\n",
              "      <td>Taken together, the results suggest that      ...</td>\n",
              "    </tr>\n",
              "  </tbody>\n",
              "</table>\n",
              "<p>84 rows × 7 columns</p>\n",
              "</div>\n",
              "      <button class=\"colab-df-convert\" onclick=\"convertToInteractive('df-d9c07c8a-1bb7-45a1-9bd5-ec5a6d5a6414')\"\n",
              "              title=\"Convert this dataframe to an interactive table.\"\n",
              "              style=\"display:none;\">\n",
              "        \n",
              "  <svg xmlns=\"http://www.w3.org/2000/svg\" height=\"24px\"viewBox=\"0 0 24 24\"\n",
              "       width=\"24px\">\n",
              "    <path d=\"M0 0h24v24H0V0z\" fill=\"none\"/>\n",
              "    <path d=\"M18.56 5.44l.94 2.06.94-2.06 2.06-.94-2.06-.94-.94-2.06-.94 2.06-2.06.94zm-11 1L8.5 8.5l.94-2.06 2.06-.94-2.06-.94L8.5 2.5l-.94 2.06-2.06.94zm10 10l.94 2.06.94-2.06 2.06-.94-2.06-.94-.94-2.06-.94 2.06-2.06.94z\"/><path d=\"M17.41 7.96l-1.37-1.37c-.4-.4-.92-.59-1.43-.59-.52 0-1.04.2-1.43.59L10.3 9.45l-7.72 7.72c-.78.78-.78 2.05 0 2.83L4 21.41c.39.39.9.59 1.41.59.51 0 1.02-.2 1.41-.59l7.78-7.78 2.81-2.81c.8-.78.8-2.07 0-2.86zM5.41 20L4 18.59l7.72-7.72 1.47 1.35L5.41 20z\"/>\n",
              "  </svg>\n",
              "      </button>\n",
              "      \n",
              "  <style>\n",
              "    .colab-df-container {\n",
              "      display:flex;\n",
              "      flex-wrap:wrap;\n",
              "      gap: 12px;\n",
              "    }\n",
              "\n",
              "    .colab-df-convert {\n",
              "      background-color: #E8F0FE;\n",
              "      border: none;\n",
              "      border-radius: 50%;\n",
              "      cursor: pointer;\n",
              "      display: none;\n",
              "      fill: #1967D2;\n",
              "      height: 32px;\n",
              "      padding: 0 0 0 0;\n",
              "      width: 32px;\n",
              "    }\n",
              "\n",
              "    .colab-df-convert:hover {\n",
              "      background-color: #E2EBFA;\n",
              "      box-shadow: 0px 1px 2px rgba(60, 64, 67, 0.3), 0px 1px 3px 1px rgba(60, 64, 67, 0.15);\n",
              "      fill: #174EA6;\n",
              "    }\n",
              "\n",
              "    [theme=dark] .colab-df-convert {\n",
              "      background-color: #3B4455;\n",
              "      fill: #D2E3FC;\n",
              "    }\n",
              "\n",
              "    [theme=dark] .colab-df-convert:hover {\n",
              "      background-color: #434B5C;\n",
              "      box-shadow: 0px 1px 3px 1px rgba(0, 0, 0, 0.15);\n",
              "      filter: drop-shadow(0px 1px 2px rgba(0, 0, 0, 0.3));\n",
              "      fill: #FFFFFF;\n",
              "    }\n",
              "  </style>\n",
              "\n",
              "      <script>\n",
              "        const buttonEl =\n",
              "          document.querySelector('#df-d9c07c8a-1bb7-45a1-9bd5-ec5a6d5a6414 button.colab-df-convert');\n",
              "        buttonEl.style.display =\n",
              "          google.colab.kernel.accessAllowed ? 'block' : 'none';\n",
              "\n",
              "        async function convertToInteractive(key) {\n",
              "          const element = document.querySelector('#df-d9c07c8a-1bb7-45a1-9bd5-ec5a6d5a6414');\n",
              "          const dataTable =\n",
              "            await google.colab.kernel.invokeFunction('convertToInteractive',\n",
              "                                                     [key], {});\n",
              "          if (!dataTable) return;\n",
              "\n",
              "          const docLinkHtml = 'Like what you see? Visit the ' +\n",
              "            '<a target=\"_blank\" href=https://colab.research.google.com/notebooks/data_table.ipynb>data table notebook</a>'\n",
              "            + ' to learn more about interactive tables.';\n",
              "          element.innerHTML = '';\n",
              "          dataTable['output_type'] = 'display_data';\n",
              "          await google.colab.output.renderOutput(dataTable, element);\n",
              "          const docLink = document.createElement('div');\n",
              "          docLink.innerHTML = docLinkHtml;\n",
              "          element.appendChild(docLink);\n",
              "        }\n",
              "      </script>\n",
              "    </div>\n",
              "  </div>\n",
              "  "
            ],
            "text/plain": [
              "                                              SENTENCE  \\\n",
              "100  The effect of 5-fluorouracil on bacterial prot...   \n",
              "46   Production of       antibody was demonstrated ...   \n",
              "75   The attachment of BCG to purified FN in vitro ...   \n",
              "79   The effect of anaesthetic agents on the cerebr...   \n",
              "16   Human myocardial fatty acid ethyl ester syntha...   \n",
              "..                                                 ...   \n",
              "77   Northern blot analysis of polyA RNA prepared  ...   \n",
              "7    An intraperitoneal injection       of N-methyl...   \n",
              "73   Kinetic analysis revealed that (1), the       ...   \n",
              "110  YM-09538, a new sulfonamide-substituted phenyl...   \n",
              "48   Taken together, the results suggest that      ...   \n",
              "\n",
              "                                          sent_updated  \\\n",
              "100  The effect of <e1>5-fluorouracil</e1> on <e2>b...   \n",
              "46   Production of       antibody was demonstrated ...   \n",
              "75   The attachment of BCG to purified FN in vit<e2...   \n",
              "79   The effect of anaesthet<e2>anaesthetic agents<...   \n",
              "16   Human <e1>myocardial fatty acid ethyl ester sy...   \n",
              "..                                                 ...   \n",
              "77   Northern blot analysis of polyA RNA prepared  ...   \n",
              "7    An intraperitoneal injection       of N-methyl...   \n",
              "73   Kinetic analysis revealed that (1), the       ...   \n",
              "110  YM-09538, a new sulfonamide-substituted <e1>ph...   \n",
              "48   Taken together, the results suggest that      ...   \n",
              "\n",
              "                                       SUBJECT_TEXT           OBJECT_TEXT  \\\n",
              "100                                  5-fluorouracil     bacterial protein   \n",
              "46                                       precipitin         serum albumin   \n",
              "75                               anti-FN antibodies                    FN   \n",
              "79                                         sulphate    anaesthetic agents   \n",
              "16   myocardial fatty acid ethyl ester synthase-III               ethanol   \n",
              "..                                              ...                   ...   \n",
              "77                              beta-naphthoflavone                   1A1   \n",
              "7                                         aspartate                   AP1   \n",
              "73                                           papain         phenylalanine   \n",
              "110                                phenylethylamine  beta 1-adrenoceptors   \n",
              "48                                              FSH                  cAMP   \n",
              "\n",
              "          PREDICATE  Label                                          sent_ques  \n",
              "100  INTERACTS_WITH      1  The effect of 5-fluorouracil on bacterial prot...  \n",
              "46         INHIBITS      0  Production of       antibody was demonstrated ...  \n",
              "75         INHIBITS      0  The attachment of BCG to purified FN in vitro ...  \n",
              "79   INTERACTS_WITH      1  The effect of anaesthetic agents on the cerebr...  \n",
              "16   INTERACTS_WITH      1  Human myocardial fatty acid ethyl ester syntha...  \n",
              "..              ...    ...                                                ...  \n",
              "77       STIMULATES      1  Northern blot analysis of polyA RNA prepared  ...  \n",
              "7        STIMULATES      1  An intraperitoneal injection       of N-methyl...  \n",
              "73   INTERACTS_WITH      0  Kinetic analysis revealed that (1), the       ...  \n",
              "110      STIMULATES      0  YM-09538, a new sulfonamide-substituted phenyl...  \n",
              "48       STIMULATES      1  Taken together, the results suggest that      ...  \n",
              "\n",
              "[84 rows x 7 columns]"
            ]
          },
          "execution_count": 71,
          "metadata": {},
          "output_type": "execute_result"
        }
      ],
      "source": [
        "train_df"
      ]
    },
    {
      "cell_type": "code",
      "execution_count": null,
      "metadata": {
        "id": "-iw0Eqixw9lQ"
      },
      "outputs": [],
      "source": [
        "few_shot_train_dataset = Dataset.from_pandas(train_df[[\"sent_ques\",\"Label\"]])\n",
        "few_shot_eval_dataset = Dataset.from_pandas(eval_df[[\"sent_ques\",\"Label\"]])\n",
        "few_shot_test_dataset = Dataset.from_pandas(test_df[[\"sent_ques\"]])"
      ]
    },
    {
      "cell_type": "code",
      "execution_count": null,
      "metadata": {
        "colab": {
          "base_uri": "https://localhost:8080/"
        },
        "id": "Z-pI-oQTxnAa",
        "outputId": "dc4fcf38-ea79-4e35-ea61-6998b93c7224"
      },
      "outputs": [
        {
          "name": "stderr",
          "output_type": "stream",
          "text": [
            "model_head.pkl not found on HuggingFace Hub, initialising classification head with random weights. You should TRAIN this model on a downstream task to use it for predictions and inference.\n"
          ]
        }
      ],
      "source": [
        "# Initialising set-fit model\n",
        "model = SetFitModel.from_pretrained(\"sentence-transformers/all-roberta-large-v1\")\n"
      ]
    },
    {
      "cell_type": "markdown",
      "metadata": {
        "id": "WnFdRee_FNuS"
      },
      "source": [
        "##### **Training a few-shot model with 20**"
      ]
    },
    {
      "cell_type": "code",
      "execution_count": null,
      "metadata": {
        "id": "tbwsezOlxJmq"
      },
      "outputs": [],
      "source": [
        "trainer_few_shot = SetFitTrainer(\n",
        "    model=model,\n",
        "    train_dataset=few_shot_train_dataset,\n",
        "    eval_dataset=few_shot_eval_dataset,\n",
        "    loss_class=CosineSimilarityLoss,\n",
        "    metric=\"accuracy\",\n",
        "    batch_size=16,\n",
        "    num_epochs=2,\n",
        "    column_mapping={\"sent_ques\": \"text\", \"Label\": \"label\"} # Map dataset columns to text/label expected by trainer\n",
        ")"
      ]
    },
    {
      "cell_type": "code",
      "execution_count": null,
      "metadata": {
        "colab": {
          "base_uri": "https://localhost:8080/",
          "height": 269,
          "referenced_widgets": [
            "19f9e316bb194e968a23ef75cc5ce155",
            "01fc7d39ab9f433797b138e500548d06",
            "70950beba11f4368a1a56c0db0e7efc8",
            "2d36d6feac4a4cf6b31982cc5d537d64",
            "57f3af2f75cd4af6a956e18410257c1d",
            "51bbc59830d546f0ad175920a97d983c",
            "4f20ad0c7a6744329147672b8dbd8f2f",
            "1cfea536577b4e049da72f33f26e4dfa",
            "a543067299fd4262aac388c07c27201d",
            "1358d8afdd05469697d4094c2c0e3f83",
            "e45d5e1b73484a88a3d1e0a896a2e737",
            "d1a662f112a049a39498d31272521805",
            "54345cec61d1425f943da57f01203bb9",
            "3558f89d9bd040d394f5583945967dd5",
            "d41a916a75134801b33aa332c161203b",
            "42901fde28db4377a9f7b67da4e42930",
            "b84fba2670ee4e1983789a9d8f0ae3be",
            "c530978ffb2c41fba83e1006b22c32ce",
            "da9a4c59dd194ea0ab607fd61539aa4e",
            "60ee81d17d4c40bbbce09e9273cfcc76",
            "6af90fc48ab84945bade7f17cbf9fba7",
            "e8ba970549224e579447ee2fadae2a69",
            "bae68c331a944fbba812b6cbeab0d068",
            "f62734c8d18649b6a72e6d24f7c8eb87",
            "91b6fe649ea0442ba169d0c045d78f0a",
            "9d7b2d33add243988b43ecee32143e50",
            "33e1b389283e4100991e5b485cd6609a",
            "8b1e5eb683964319b5db808f0e47a369",
            "9ad8b972c5994791a97a52d30dd07304",
            "69afcd870e4b4c5fb1927e7929bb0e8f",
            "bee3edb00a154a8b9126c8a9fef6276c",
            "aacf4f6809244c4dbe6c570b6490321a",
            "4a9258d8db4043a69010e3c84f86c96a"
          ]
        },
        "id": "_7RbGXjHxkLf",
        "outputId": "256bafee-3c7b-4ad2-e85a-0e07794548b1"
      },
      "outputs": [
        {
          "name": "stderr",
          "output_type": "stream",
          "text": [
            "Applying column mapping to training dataset\n",
            "***** Running training *****\n",
            "  Num examples = 3360\n",
            "  Num epochs = 2\n",
            "  Total optimization steps = 420\n",
            "  Total train batch size = 16\n"
          ]
        },
        {
          "data": {
            "application/vnd.jupyter.widget-view+json": {
              "model_id": "19f9e316bb194e968a23ef75cc5ce155",
              "version_major": 2,
              "version_minor": 0
            },
            "text/plain": [
              "Epoch:   0%|          | 0/2 [00:00<?, ?it/s]"
            ]
          },
          "metadata": {},
          "output_type": "display_data"
        },
        {
          "data": {
            "application/vnd.jupyter.widget-view+json": {
              "model_id": "d1a662f112a049a39498d31272521805",
              "version_major": 2,
              "version_minor": 0
            },
            "text/plain": [
              "Iteration:   0%|          | 0/210 [00:00<?, ?it/s]"
            ]
          },
          "metadata": {},
          "output_type": "display_data"
        },
        {
          "data": {
            "application/vnd.jupyter.widget-view+json": {
              "model_id": "bae68c331a944fbba812b6cbeab0d068",
              "version_major": 2,
              "version_minor": 0
            },
            "text/plain": [
              "Iteration:   0%|          | 0/210 [00:00<?, ?it/s]"
            ]
          },
          "metadata": {},
          "output_type": "display_data"
        },
        {
          "name": "stderr",
          "output_type": "stream",
          "text": [
            "Applying column mapping to evaluation dataset\n",
            "***** Running evaluation *****\n"
          ]
        },
        {
          "name": "stdout",
          "output_type": "stream",
          "text": [
            "{'accuracy': 0.7222222222222222}\n"
          ]
        }
      ],
      "source": [
        "# Train and evaluate\n",
        "trainer_few_shot.train()\n",
        "metrics = trainer_few_shot.evaluate()\n",
        "print(metrics)"
      ]
    },
    {
      "cell_type": "markdown",
      "metadata": {
        "id": "M0jQj0wVEGAb"
      },
      "source": [
        "##### **Evaluating against full test data that was used in Baseline Model**"
      ]
    },
    {
      "cell_type": "code",
      "execution_count": null,
      "metadata": {
        "id": "Kdtjr1RdEO1i"
      },
      "outputs": [],
      "source": [
        "test_dataset = Dataset.from_pandas(test_data[[\"sent_ques\"]])\n",
        "pred_all = trainer_few_shot.model(test_dataset[\"sent_ques\"])\n",
        "target_all = test_data[[\"Label\"]]"
      ]
    },
    {
      "cell_type": "code",
      "execution_count": null,
      "metadata": {
        "colab": {
          "base_uri": "https://localhost:8080/"
        },
        "id": "TWKjRJHgEhiW",
        "outputId": "bc52aa02-6f74-4dd2-c645-268b609162f6"
      },
      "outputs": [
        {
          "name": "stdout",
          "output_type": "stream",
          "text": [
            "              precision    recall  f1-score   support\n",
            "\n",
            "    negative       0.62      0.53      0.57       210\n",
            "    positive       0.64      0.72      0.67       240\n",
            "\n",
            "    accuracy                           0.63       450\n",
            "   macro avg       0.63      0.62      0.62       450\n",
            "weighted avg       0.63      0.63      0.63       450\n",
            "\n"
          ]
        }
      ],
      "source": [
        "print(classification_report(target_all,pred_all,target_names=['negative', 'positive']))"
      ]
    },
    {
      "cell_type": "code",
      "execution_count": null,
      "metadata": {
        "colab": {
          "base_uri": "https://localhost:8080/",
          "height": 499
        },
        "id": "j-pcGtjtEh1O",
        "outputId": "74c7a032-7c5f-4275-9ab2-41a82ebd96c8"
      },
      "outputs": [
        {
          "name": "stdout",
          "output_type": "stream",
          "text": [
            "accuracy: 0.631111\n",
            "f1_score: 0.674510\n",
            "recall_score: 0.716667\n",
            "precision_score: 0.637037\n"
          ]
        },
        {
          "data": {
            "image/png": "[encoded data removed]",
            "text/plain": [
              "<Figure size 640x480 with 2 Axes>"
            ]
          },
          "metadata": {},
          "output_type": "display_data"
        }
      ],
      "source": [
        "get_model_accuracy(target_all,pred_all, \"binary\",flag = 0)"
      ]
    },
    {
      "cell_type": "markdown",
      "metadata": {
        "id": "nrAPO8tZ6drT"
      },
      "source": [
        "#### **Taking 150 examples for each combination of predicate and label from full train data**.\n",
        "#### In total there are 3 predicates and 2 labels , so total 6 combinations."
      ]
    },
    {
      "cell_type": "code",
      "execution_count": null,
      "metadata": {
        "colab": {
          "base_uri": "https://localhost:8080/",
          "height": 502
        },
        "id": "sRnSHoSzEQlF",
        "outputId": "97c72751-d862-4325-8d1d-1474e7c3231c"
      },
      "outputs": [
        {
          "data": {
            "text/html": [
              "\n",
              "  <div id=\"df-dde0c141-c3de-43ea-8325-70e14ae24826\">\n",
              "    <div class=\"colab-df-container\">\n",
              "      <div>\n",
              "<style scoped>\n",
              "    .dataframe tbody tr th:only-of-type {\n",
              "        vertical-align: middle;\n",
              "    }\n",
              "\n",
              "    .dataframe tbody tr th {\n",
              "        vertical-align: top;\n",
              "    }\n",
              "\n",
              "    .dataframe thead th {\n",
              "        text-align: right;\n",
              "    }\n",
              "</style>\n",
              "<table border=\"1\" class=\"dataframe\">\n",
              "  <thead>\n",
              "    <tr style=\"text-align: right;\">\n",
              "      <th></th>\n",
              "      <th>SENTENCE</th>\n",
              "      <th>sent_updated</th>\n",
              "      <th>SUBJECT_TEXT</th>\n",
              "      <th>OBJECT_TEXT</th>\n",
              "      <th>PREDICATE</th>\n",
              "      <th>Label</th>\n",
              "      <th>sent_ques</th>\n",
              "    </tr>\n",
              "  </thead>\n",
              "  <tbody>\n",
              "    <tr>\n",
              "      <th>0</th>\n",
              "      <td>It was relatively resistant to heat and to pen...</td>\n",
              "      <td>It was relatively resistant to heat and to pen...</td>\n",
              "      <td>antibiotics</td>\n",
              "      <td>penicillin</td>\n",
              "      <td>INHIBITS</td>\n",
              "      <td>0</td>\n",
              "      <td>It was relatively resistant to heat and to pen...</td>\n",
              "    </tr>\n",
              "    <tr>\n",
              "      <th>1</th>\n",
              "      <td>The       baseline disposal of L-TRP was relat...</td>\n",
              "      <td>The       baseline disposal of L-TRP was&lt;e2&gt;L-...</td>\n",
              "      <td>insulin</td>\n",
              "      <td>L-TRP</td>\n",
              "      <td>INHIBITS</td>\n",
              "      <td>0</td>\n",
              "      <td>The       baseline disposal of L-TRP was relat...</td>\n",
              "    </tr>\n",
              "    <tr>\n",
              "      <th>2</th>\n",
              "      <td>The decreased PGF and PGE2       production as...</td>\n",
              "      <td>The decreased &lt;e1&gt;PGF&lt;/e1&gt; and PGE2       prod...</td>\n",
              "      <td>PGF</td>\n",
              "      <td>indomethacin</td>\n",
              "      <td>INHIBITS</td>\n",
              "      <td>0</td>\n",
              "      <td>The decreased PGF and PGE2       production as...</td>\n",
              "    </tr>\n",
              "    <tr>\n",
              "      <th>3</th>\n",
              "      <td>Synthesis of nitric oxide from L-arginine: a r...</td>\n",
              "      <td>Synthesis of nitric oxide from L-arginin&lt;e2&gt;L-...</td>\n",
              "      <td>cytokines</td>\n",
              "      <td>L-arginine</td>\n",
              "      <td>STIMULATES</td>\n",
              "      <td>1</td>\n",
              "      <td>Synthesis of nitric oxide from L-arginine: a r...</td>\n",
              "    </tr>\n",
              "    <tr>\n",
              "      <th>4</th>\n",
              "      <td>Peptidyl chloromethane and sulphonium salts co...</td>\n",
              "      <td>Peptidyl chloromethane and sulphonium salts co...</td>\n",
              "      <td>Lys</td>\n",
              "      <td>prohormone</td>\n",
              "      <td>INHIBITS</td>\n",
              "      <td>0</td>\n",
              "      <td>Peptidyl chloromethane and sulphonium salts co...</td>\n",
              "    </tr>\n",
              "    <tr>\n",
              "      <th>...</th>\n",
              "      <td>...</td>\n",
              "      <td>...</td>\n",
              "      <td>...</td>\n",
              "      <td>...</td>\n",
              "      <td>...</td>\n",
              "      <td>...</td>\n",
              "      <td>...</td>\n",
              "    </tr>\n",
              "    <tr>\n",
              "      <th>895</th>\n",
              "      <td>The degradation of one such species, H2O2, is ...</td>\n",
              "      <td>The degradation of one such species, H2O2, is ...</td>\n",
              "      <td>catalase</td>\n",
              "      <td>H2O2</td>\n",
              "      <td>INTERACTS_WITH</td>\n",
              "      <td>1</td>\n",
              "      <td>The degradation of one such species, H2O2, is ...</td>\n",
              "    </tr>\n",
              "    <tr>\n",
              "      <th>896</th>\n",
              "      <td>Enhancement by heated rabbit-serum of antihist...</td>\n",
              "      <td>Enhancement by heated &lt;e1&gt;rabbit-serum&lt;/e1&gt; of...</td>\n",
              "      <td>rabbit-serum</td>\n",
              "      <td>antihistamine</td>\n",
              "      <td>STIMULATES</td>\n",
              "      <td>1</td>\n",
              "      <td>Enhancement by heated rabbit-serum of antihist...</td>\n",
              "    </tr>\n",
              "    <tr>\n",
              "      <th>897</th>\n",
              "      <td>A unifying hypothesis to explain these seeming...</td>\n",
              "      <td>A unifying hypothesis to explain these seeming...</td>\n",
              "      <td>alcohol</td>\n",
              "      <td>prolactin</td>\n",
              "      <td>STIMULATES</td>\n",
              "      <td>1</td>\n",
              "      <td>A unifying hypothesis to explain these seeming...</td>\n",
              "    </tr>\n",
              "    <tr>\n",
              "      <th>898</th>\n",
              "      <td>Tetralin hydroperoxide as an intermediate     ...</td>\n",
              "      <td>Tetralin &lt;e1&gt;hydroperoxide&lt;/e1&gt; as an intermed...</td>\n",
              "      <td>hydroperoxide</td>\n",
              "      <td>tetralin</td>\n",
              "      <td>INTERACTS_WITH</td>\n",
              "      <td>1</td>\n",
              "      <td>Tetralin hydroperoxide as an intermediate     ...</td>\n",
              "    </tr>\n",
              "    <tr>\n",
              "      <th>899</th>\n",
              "      <td>The inhibition of ribonuclease by iodoacetate.</td>\n",
              "      <td>The inhibition of ribonucle&lt;e2&gt;ribonuclease&lt;/e...</td>\n",
              "      <td>iodoacetate</td>\n",
              "      <td>ribonuclease</td>\n",
              "      <td>INHIBITS</td>\n",
              "      <td>1</td>\n",
              "      <td>The inhibition of ribonuclease by iodoacetate....</td>\n",
              "    </tr>\n",
              "  </tbody>\n",
              "</table>\n",
              "<p>900 rows × 7 columns</p>\n",
              "</div>\n",
              "      <button class=\"colab-df-convert\" onclick=\"convertToInteractive('df-dde0c141-c3de-43ea-8325-70e14ae24826')\"\n",
              "              title=\"Convert this dataframe to an interactive table.\"\n",
              "              style=\"display:none;\">\n",
              "        \n",
              "  <svg xmlns=\"http://www.w3.org/2000/svg\" height=\"24px\"viewBox=\"0 0 24 24\"\n",
              "       width=\"24px\">\n",
              "    <path d=\"M0 0h24v24H0V0z\" fill=\"none\"/>\n",
              "    <path d=\"M18.56 5.44l.94 2.06.94-2.06 2.06-.94-2.06-.94-.94-2.06-.94 2.06-2.06.94zm-11 1L8.5 8.5l.94-2.06 2.06-.94-2.06-.94L8.5 2.5l-.94 2.06-2.06.94zm10 10l.94 2.06.94-2.06 2.06-.94-2.06-.94-.94-2.06-.94 2.06-2.06.94z\"/><path d=\"M17.41 7.96l-1.37-1.37c-.4-.4-.92-.59-1.43-.59-.52 0-1.04.2-1.43.59L10.3 9.45l-7.72 7.72c-.78.78-.78 2.05 0 2.83L4 21.41c.39.39.9.59 1.41.59.51 0 1.02-.2 1.41-.59l7.78-7.78 2.81-2.81c.8-.78.8-2.07 0-2.86zM5.41 20L4 18.59l7.72-7.72 1.47 1.35L5.41 20z\"/>\n",
              "  </svg>\n",
              "      </button>\n",
              "      \n",
              "  <style>\n",
              "    .colab-df-container {\n",
              "      display:flex;\n",
              "      flex-wrap:wrap;\n",
              "      gap: 12px;\n",
              "    }\n",
              "\n",
              "    .colab-df-convert {\n",
              "      background-color: #E8F0FE;\n",
              "      border: none;\n",
              "      border-radius: 50%;\n",
              "      cursor: pointer;\n",
              "      display: none;\n",
              "      fill: #1967D2;\n",
              "      height: 32px;\n",
              "      padding: 0 0 0 0;\n",
              "      width: 32px;\n",
              "    }\n",
              "\n",
              "    .colab-df-convert:hover {\n",
              "      background-color: #E2EBFA;\n",
              "      box-shadow: 0px 1px 2px rgba(60, 64, 67, 0.3), 0px 1px 3px 1px rgba(60, 64, 67, 0.15);\n",
              "      fill: #174EA6;\n",
              "    }\n",
              "\n",
              "    [theme=dark] .colab-df-convert {\n",
              "      background-color: #3B4455;\n",
              "      fill: #D2E3FC;\n",
              "    }\n",
              "\n",
              "    [theme=dark] .colab-df-convert:hover {\n",
              "      background-color: #434B5C;\n",
              "      box-shadow: 0px 1px 3px 1px rgba(0, 0, 0, 0.15);\n",
              "      filter: drop-shadow(0px 1px 2px rgba(0, 0, 0, 0.3));\n",
              "      fill: #FFFFFF;\n",
              "    }\n",
              "  </style>\n",
              "\n",
              "      <script>\n",
              "        const buttonEl =\n",
              "          document.querySelector('#df-dde0c141-c3de-43ea-8325-70e14ae24826 button.colab-df-convert');\n",
              "        buttonEl.style.display =\n",
              "          google.colab.kernel.accessAllowed ? 'block' : 'none';\n",
              "\n",
              "        async function convertToInteractive(key) {\n",
              "          const element = document.querySelector('#df-dde0c141-c3de-43ea-8325-70e14ae24826');\n",
              "          const dataTable =\n",
              "            await google.colab.kernel.invokeFunction('convertToInteractive',\n",
              "                                                     [key], {});\n",
              "          if (!dataTable) return;\n",
              "\n",
              "          const docLinkHtml = 'Like what you see? Visit the ' +\n",
              "            '<a target=\"_blank\" href=https://colab.research.google.com/notebooks/data_table.ipynb>data table notebook</a>'\n",
              "            + ' to learn more about interactive tables.';\n",
              "          element.innerHTML = '';\n",
              "          dataTable['output_type'] = 'display_data';\n",
              "          await google.colab.output.renderOutput(dataTable, element);\n",
              "          const docLink = document.createElement('div');\n",
              "          docLink.innerHTML = docLinkHtml;\n",
              "          element.appendChild(docLink);\n",
              "        }\n",
              "      </script>\n",
              "    </div>\n",
              "  </div>\n",
              "  "
            ],
            "text/plain": [
              "                                              SENTENCE  \\\n",
              "0    It was relatively resistant to heat and to pen...   \n",
              "1    The       baseline disposal of L-TRP was relat...   \n",
              "2    The decreased PGF and PGE2       production as...   \n",
              "3    Synthesis of nitric oxide from L-arginine: a r...   \n",
              "4    Peptidyl chloromethane and sulphonium salts co...   \n",
              "..                                                 ...   \n",
              "895  The degradation of one such species, H2O2, is ...   \n",
              "896  Enhancement by heated rabbit-serum of antihist...   \n",
              "897  A unifying hypothesis to explain these seeming...   \n",
              "898  Tetralin hydroperoxide as an intermediate     ...   \n",
              "899     The inhibition of ribonuclease by iodoacetate.   \n",
              "\n",
              "                                          sent_updated   SUBJECT_TEXT  \\\n",
              "0    It was relatively resistant to heat and to pen...    antibiotics   \n",
              "1    The       baseline disposal of L-TRP was<e2>L-...        insulin   \n",
              "2    The decreased <e1>PGF</e1> and PGE2       prod...            PGF   \n",
              "3    Synthesis of nitric oxide from L-arginin<e2>L-...      cytokines   \n",
              "4    Peptidyl chloromethane and sulphonium salts co...            Lys   \n",
              "..                                                 ...            ...   \n",
              "895  The degradation of one such species, H2O2, is ...       catalase   \n",
              "896  Enhancement by heated <e1>rabbit-serum</e1> of...   rabbit-serum   \n",
              "897  A unifying hypothesis to explain these seeming...        alcohol   \n",
              "898  Tetralin <e1>hydroperoxide</e1> as an intermed...  hydroperoxide   \n",
              "899  The inhibition of ribonucle<e2>ribonuclease</e...    iodoacetate   \n",
              "\n",
              "       OBJECT_TEXT       PREDICATE  Label  \\\n",
              "0       penicillin        INHIBITS      0   \n",
              "1            L-TRP        INHIBITS      0   \n",
              "2     indomethacin        INHIBITS      0   \n",
              "3       L-arginine      STIMULATES      1   \n",
              "4       prohormone        INHIBITS      0   \n",
              "..             ...             ...    ...   \n",
              "895           H2O2  INTERACTS_WITH      1   \n",
              "896  antihistamine      STIMULATES      1   \n",
              "897      prolactin      STIMULATES      1   \n",
              "898       tetralin  INTERACTS_WITH      1   \n",
              "899   ribonuclease        INHIBITS      1   \n",
              "\n",
              "                                             sent_ques  \n",
              "0    It was relatively resistant to heat and to pen...  \n",
              "1    The       baseline disposal of L-TRP was relat...  \n",
              "2    The decreased PGF and PGE2       production as...  \n",
              "3    Synthesis of nitric oxide from L-arginine: a r...  \n",
              "4    Peptidyl chloromethane and sulphonium salts co...  \n",
              "..                                                 ...  \n",
              "895  The degradation of one such species, H2O2, is ...  \n",
              "896  Enhancement by heated rabbit-serum of antihist...  \n",
              "897  A unifying hypothesis to explain these seeming...  \n",
              "898  Tetralin hydroperoxide as an intermediate     ...  \n",
              "899  The inhibition of ribonuclease by iodoacetate....  \n",
              "\n",
              "[900 rows x 7 columns]"
            ]
          },
          "execution_count": 90,
          "metadata": {},
          "output_type": "execute_result"
        }
      ],
      "source": [
        "df_few_shot_150 = generate_few_shot_dataset(train_data,150)\n",
        "df_few_shot_150"
      ]
    },
    {
      "cell_type": "code",
      "execution_count": null,
      "metadata": {
        "colab": {
          "base_uri": "https://localhost:8080/"
        },
        "id": "8fOlo73vIuaB",
        "outputId": "1d37ef29-62a4-413f-d451-e64fd2f8749e"
      },
      "outputs": [
        {
          "name": "stdout",
          "output_type": "stream",
          "text": [
            "(630, 7) (135, 7) (135, 7)\n"
          ]
        }
      ],
      "source": [
        "train_df, X = train_test_split(df_few_shot_150, test_size=0.3, stratify=df_few_shot_150[[\"Label\"]],random_state=15)\n",
        "test_df,eval_df = train_test_split(X, test_size=0.5, stratify=X[[\"Label\"]],random_state=15)\n",
        "print(train_df.shape,eval_df.shape, test_df.shape)"
      ]
    },
    {
      "cell_type": "code",
      "execution_count": null,
      "metadata": {
        "colab": {
          "base_uri": "https://localhost:8080/"
        },
        "id": "afFYDBQhIex7",
        "outputId": "3c92c965-0c56-4aed-99fd-a3e112fee82c"
      },
      "outputs": [
        {
          "data": {
            "text/plain": [
              "Dataset({\n",
              "    features: ['sent_ques', 'Label', '__index_level_0__'],\n",
              "    num_rows: 630\n",
              "})"
            ]
          },
          "execution_count": 92,
          "metadata": {},
          "output_type": "execute_result"
        }
      ],
      "source": [
        "train_dataset_few_shot_150 = Dataset.from_pandas(train_df[[\"sent_ques\",\"Label\"]])\n",
        "eval_dataset_few_shot_150 = Dataset.from_pandas(eval_df[[\"sent_ques\",\"Label\"]])\n",
        "test_dataset_few_shot_150 = Dataset.from_pandas(test_df[[\"sent_ques\"]])\n",
        "train_dataset_few_shot_150"
      ]
    },
    {
      "cell_type": "markdown",
      "metadata": {
        "id": "X9V19TmjJvCY"
      },
      "source": [
        "##### **Training a few-shot model with 150**"
      ]
    },
    {
      "cell_type": "code",
      "execution_count": null,
      "metadata": {
        "id": "eVTjmqIMIenG"
      },
      "outputs": [],
      "source": [
        "trainer_few_shot_150 = SetFitTrainer(\n",
        "    model=model,\n",
        "    train_dataset=train_dataset_few_shot_150,\n",
        "    eval_dataset=eval_dataset_few_shot_150,\n",
        "    loss_class=CosineSimilarityLoss,\n",
        "    metric=\"accuracy\",\n",
        "    batch_size=16,\n",
        "    num_epochs=3,\n",
        "    column_mapping={\"sent_ques\": \"text\", \"Label\": \"label\"} # Map dataset columns to text/label expected by trainer\n",
        ")"
      ]
    },
    {
      "cell_type": "code",
      "execution_count": null,
      "metadata": {
        "colab": {
          "base_uri": "https://localhost:8080/",
          "height": 301,
          "referenced_widgets": [
            "5e85ecaa1ea241c385b2032f715e62dd",
            "1c33ce36af0d48719c3ed7ba6ad612f2",
            "eb94c34d3bdf4489920fe5439a07fcb4",
            "f5acd1a2c4b94c729acd6854825d612c",
            "f2a3264668254ae387a771ddae0901db",
            "2527c999d0034b7d99495d04172d443b",
            "15b331d39114446e8cd9141bf791e366",
            "3a90b9e7a9984e36807bebe08718148a",
            "7cf306a0078b4b349f7a6e072fd93f40",
            "72c9b83af00c4039a66d78f61db9ce08",
            "0040304047b44dd5b9f47beb646a0456",
            "da14da1e804b4993a56d2770afb0c078",
            "82364d2db21d44eeb6fe68c635e29857",
            "42c6cb38283f499495d43bd8560f35f8",
            "33a10c50cbc948519feb0d4dad63e285",
            "0ab3ca5a90a248f7a4a296c911aed572",
            "f8ea664da7334f2c861c9175f02e3216",
            "7e81df1382d84b35acf6efa1b0a04c38",
            "d367bb7fcd81422d88e954b7885f54d3",
            "319d0dafacd64037b2d6dffbdf7446ea",
            "fec7fd60e8784bd2a274e758ad3d7f32",
            "f5dc8678b2a8471ba2ff12311ceca63f",
            "c4cca207b3844eb5aec1d9e12521e41c",
            "8d30809a1d1c425c8ea0e32c885242c7",
            "e64aa46f3afc493894507784cd8400da",
            "065af2400d7d42a9b1a27e1c8b9ca320",
            "afdbf660ebce46d4b0d8017161a4bfed",
            "da1fa06b53114129b4602730558d2bed",
            "9b13b1f8609448e6990a7405496af239",
            "540e851d7e314f5c9511d0fee081cb4a",
            "feeee4a9b9a44a12b3423529ae4d86c1",
            "6590751e4d1d417c8411b9369588a1fc",
            "c8fbc3745e0e4d4ca464d38f254611fa",
            "abd6b30ac8e14996b70992ef2628725a",
            "6ababfb0976b45279fb21bde3a819457",
            "d07864eccfce4e2f9284e4e442a26175",
            "3d7fff4e106941c3b28046c3862578c2",
            "a5a6423d37cc4e659b8ef14b357d3e87",
            "f876a32a337b42a2a9572760654c4ca6",
            "7787254a305c4862babc3f9d8da5d2d2",
            "f4bd0e29cfcd467889a9411c080b4b76",
            "ba72adf1310648a9a803502e24768344",
            "06f40fe67d37475f8aa2d52225b52a65",
            "839b22bd1c0246d6a50bcd40d68ea4bb"
          ]
        },
        "id": "Er7rMdnpIdIi",
        "outputId": "3f933350-e16f-4b22-ed3f-88c097d4bb76"
      },
      "outputs": [
        {
          "name": "stderr",
          "output_type": "stream",
          "text": [
            "Applying column mapping to training dataset\n",
            "***** Running training *****\n",
            "  Num examples = 25200\n",
            "  Num epochs = 3\n",
            "  Total optimization steps = 4725\n",
            "  Total train batch size = 16\n"
          ]
        },
        {
          "data": {
            "application/vnd.jupyter.widget-view+json": {
              "model_id": "5e85ecaa1ea241c385b2032f715e62dd",
              "version_major": 2,
              "version_minor": 0
            },
            "text/plain": [
              "Epoch:   0%|          | 0/3 [00:00<?, ?it/s]"
            ]
          },
          "metadata": {},
          "output_type": "display_data"
        },
        {
          "data": {
            "application/vnd.jupyter.widget-view+json": {
              "model_id": "da14da1e804b4993a56d2770afb0c078",
              "version_major": 2,
              "version_minor": 0
            },
            "text/plain": [
              "Iteration:   0%|          | 0/1575 [00:00<?, ?it/s]"
            ]
          },
          "metadata": {},
          "output_type": "display_data"
        },
        {
          "data": {
            "application/vnd.jupyter.widget-view+json": {
              "model_id": "c4cca207b3844eb5aec1d9e12521e41c",
              "version_major": 2,
              "version_minor": 0
            },
            "text/plain": [
              "Iteration:   0%|          | 0/1575 [00:00<?, ?it/s]"
            ]
          },
          "metadata": {},
          "output_type": "display_data"
        },
        {
          "data": {
            "application/vnd.jupyter.widget-view+json": {
              "model_id": "abd6b30ac8e14996b70992ef2628725a",
              "version_major": 2,
              "version_minor": 0
            },
            "text/plain": [
              "Iteration:   0%|          | 0/1575 [00:00<?, ?it/s]"
            ]
          },
          "metadata": {},
          "output_type": "display_data"
        },
        {
          "name": "stderr",
          "output_type": "stream",
          "text": [
            "Applying column mapping to evaluation dataset\n",
            "***** Running evaluation *****\n"
          ]
        },
        {
          "name": "stdout",
          "output_type": "stream",
          "text": [
            "{'accuracy': 0.8518518518518519}\n"
          ]
        }
      ],
      "source": [
        "# Train and evaluate\n",
        "trainer_few_shot_150.train()\n",
        "metrics = trainer_few_shot_150.evaluate()\n",
        "print(metrics)"
      ]
    },
    {
      "cell_type": "markdown",
      "metadata": {
        "id": "orxkVvnPIcwi"
      },
      "source": [
        "##### **Evaluating against full test data that was used in Baseline Model**"
      ]
    },
    {
      "cell_type": "code",
      "execution_count": null,
      "metadata": {
        "id": "2blNMZwpJ1D6"
      },
      "outputs": [],
      "source": [
        "test_dataset = Dataset.from_pandas(test_data[[\"sent_ques\"]])\n",
        "pred_all_150 = trainer_few_shot_150.model(test_dataset[\"sent_ques\"])\n",
        "target_all_150 = test_data[[\"Label\"]]"
      ]
    },
    {
      "cell_type": "code",
      "execution_count": null,
      "metadata": {
        "colab": {
          "base_uri": "https://localhost:8080/"
        },
        "id": "ojuksVUU2I9O",
        "outputId": "d4d8cd77-1983-4f7c-c370-44107c48fe8d"
      },
      "outputs": [
        {
          "name": "stdout",
          "output_type": "stream",
          "text": [
            "              precision    recall  f1-score   support\n",
            "\n",
            "    negative       0.73      0.64      0.68       210\n",
            "    positive       0.72      0.79      0.75       240\n",
            "\n",
            "    accuracy                           0.72       450\n",
            "   macro avg       0.72      0.72      0.72       450\n",
            "weighted avg       0.72      0.72      0.72       450\n",
            "\n"
          ]
        }
      ],
      "source": [
        "print(classification_report(target_all_150,pred_all_150,target_names=['negative', 'positive']))"
      ]
    },
    {
      "cell_type": "code",
      "execution_count": null,
      "metadata": {
        "colab": {
          "base_uri": "https://localhost:8080/",
          "height": 499
        },
        "id": "MrFFj11R2JGP",
        "outputId": "fb1869c9-5a17-411b-a75c-6597aaef2e29"
      },
      "outputs": [
        {
          "name": "stdout",
          "output_type": "stream",
          "text": [
            "accuracy: 0.720000\n",
            "f1_score: 0.750000\n",
            "recall_score: 0.787500\n",
            "precision_score: 0.715909\n"
          ]
        },
        {
          "data": {
            "image/png": "[encoded data removed]",
            "text/plain": [
              "<Figure size 640x480 with 2 Axes>"
            ]
          },
          "metadata": {},
          "output_type": "display_data"
        }
      ],
      "source": [
        "get_model_accuracy(target_all_150,pred_all_150, \"binary\",flag = 0)"
      ]
    },
    {
      "cell_type": "code",
      "execution_count": null,
      "metadata": {
        "id": "MjfJ_GEGrL6p"
      },
      "outputs": [],
      "source": []
    }
  ],
  "metadata": {
    "accelerator": "GPU",
    "colab": {
      "collapsed_sections": [
        "I4cjQNJN1YWY",
        "kkKgo3FyBXCK",
        "v3ak2z_Z1ndI",
        "hERvk7SP_nbi",
        "WnFdRee_FNuS"
      ],
      "provenance": [],
      "gpuClass": "premium",
      "include_colab_link": true
    },
    "gpuClass": "premium",
    "kernelspec": {
      "display_name": "Python 3",
      "name": "python3"
    },
    "language_info": {
      "name": "python"
    },
    "widgets": {
      "application/vnd.jupyter.widget-state+json": {
        "0040304047b44dd5b9f47beb646a0456": {
          "model_module": "@jupyter-widgets/controls",
          "model_module_version": "1.5.0",
          "model_name": "DescriptionStyleModel",
          "state": {
            "_model_module": "@jupyter-widgets/controls",
            "_model_module_version": "1.5.0",
            "_model_name": "DescriptionStyleModel",
            "_view_count": null,
            "_view_module": "@jupyter-widgets/base",
            "_view_module_version": "1.2.0",
            "_view_name": "StyleView",
            "description_width": ""
          }
        },
        "011abdc341354103a51ec46bee44e013": {
          "model_module": "@jupyter-widgets/controls",
          "model_module_version": "1.5.0",
          "model_name": "HTMLModel",
          "state": {
            "_dom_classes": [],
            "_model_module": "@jupyter-widgets/controls",
            "_model_module_version": "1.5.0",
            "_model_name": "HTMLModel",
            "_view_count": null,
            "_view_module": "@jupyter-widgets/controls",
            "_view_module_version": "1.5.0",
            "_view_name": "HTMLView",
            "description": "",
            "description_tooltip": null,
            "layout": "IPY_MODEL_5080bba49c46461c8ae714455efca2f7",
            "placeholder": "​",
            "style": "IPY_MODEL_470f63f57ab64dc094c9120e2d7d597c",
            "value": "Downloading (…)lve/main/config.json: 100%"
          }
        },
        "01fc7d39ab9f433797b138e500548d06": {
          "model_module": "@jupyter-widgets/controls",
          "model_module_version": "1.5.0",
          "model_name": "HTMLModel",
          "state": {
            "_dom_classes": [],
            "_model_module": "@jupyter-widgets/controls",
            "_model_module_version": "1.5.0",
            "_model_name": "HTMLModel",
            "_view_count": null,
            "_view_module": "@jupyter-widgets/controls",
            "_view_module_version": "1.5.0",
            "_view_name": "HTMLView",
            "description": "",
            "description_tooltip": null,
            "layout": "IPY_MODEL_51bbc59830d546f0ad175920a97d983c",
            "placeholder": "​",
            "style": "IPY_MODEL_4f20ad0c7a6744329147672b8dbd8f2f",
            "value": "Epoch: 100%"
          }
        },
        "0389b0758e7d403fab50a960675f4e0c": {
          "model_module": "@jupyter-widgets/controls",
          "model_module_version": "1.5.0",
          "model_name": "DescriptionStyleModel",
          "state": {
            "_model_module": "@jupyter-widgets/controls",
            "_model_module_version": "1.5.0",
            "_model_name": "DescriptionStyleModel",
            "_view_count": null,
            "_view_module": "@jupyter-widgets/base",
            "_view_module_version": "1.2.0",
            "_view_name": "StyleView",
            "description_width": ""
          }
        },
        "065af2400d7d42a9b1a27e1c8b9ca320": {
          "model_module": "@jupyter-widgets/controls",
          "model_module_version": "1.5.0",
          "model_name": "HTMLModel",
          "state": {
            "_dom_classes": [],
            "_model_module": "@jupyter-widgets/controls",
            "_model_module_version": "1.5.0",
            "_model_name": "HTMLModel",
            "_view_count": null,
            "_view_module": "@jupyter-widgets/controls",
            "_view_module_version": "1.5.0",
            "_view_name": "HTMLView",
            "description": "",
            "description_tooltip": null,
            "layout": "IPY_MODEL_6590751e4d1d417c8411b9369588a1fc",
            "placeholder": "​",
            "style": "IPY_MODEL_c8fbc3745e0e4d4ca464d38f254611fa",
            "value": " 1575/1575 [16:34&lt;00:00,  1.67it/s]"
          }
        },
        "06f40fe67d37475f8aa2d52225b52a65": {
          "model_module": "@jupyter-widgets/base",
          "model_module_version": "1.2.0",
          "model_name": "LayoutModel",
          "state": {
            "_model_module": "@jupyter-widgets/base",
            "_model_module_version": "1.2.0",
            "_model_name": "LayoutModel",
            "_view_count": null,
            "_view_module": "@jupyter-widgets/base",
            "_view_module_version": "1.2.0",
            "_view_name": "LayoutView",
            "align_content": null,
            "align_items": null,
            "align_self": null,
            "border": null,
            "bottom": null,
            "display": null,
            "flex": null,
            "flex_flow": null,
            "grid_area": null,
            "grid_auto_columns": null,
            "grid_auto_flow": null,
            "grid_auto_rows": null,
            "grid_column": null,
            "grid_gap": null,
            "grid_row": null,
            "grid_template_areas": null,
            "grid_template_columns": null,
            "grid_template_rows": null,
            "height": null,
            "justify_content": null,
            "justify_items": null,
            "left": null,
            "margin": null,
            "max_height": null,
            "max_width": null,
            "min_height": null,
            "min_width": null,
            "object_fit": null,
            "object_position": null,
            "order": null,
            "overflow": null,
            "overflow_x": null,
            "overflow_y": null,
            "padding": null,
            "right": null,
            "top": null,
            "visibility": null,
            "width": null
          }
        },
        "0ab3ca5a90a248f7a4a296c911aed572": {
          "model_module": "@jupyter-widgets/base",
          "model_module_version": "1.2.0",
          "model_name": "LayoutModel",
          "state": {
            "_model_module": "@jupyter-widgets/base",
            "_model_module_version": "1.2.0",
            "_model_name": "LayoutModel",
            "_view_count": null,
            "_view_module": "@jupyter-widgets/base",
            "_view_module_version": "1.2.0",
            "_view_name": "LayoutView",
            "align_content": null,
            "align_items": null,
            "align_self": null,
            "border": null,
            "bottom": null,
            "display": null,
            "flex": null,
            "flex_flow": null,
            "grid_area": null,
            "grid_auto_columns": null,
            "grid_auto_flow": null,
            "grid_auto_rows": null,
            "grid_column": null,
            "grid_gap": null,
            "grid_row": null,
            "grid_template_areas": null,
            "grid_template_columns": null,
            "grid_template_rows": null,
            "height": null,
            "justify_content": null,
            "justify_items": null,
            "left": null,
            "margin": null,
            "max_height": null,
            "max_width": null,
            "min_height": null,
            "min_width": null,
            "object_fit": null,
            "object_position": null,
            "order": null,
            "overflow": null,
            "overflow_x": null,
            "overflow_y": null,
            "padding": null,
            "right": null,
            "top": null,
            "visibility": null,
            "width": null
          }
        },
        "0ee2116da8394f128f10806d04fd2e6b": {
          "model_module": "@jupyter-widgets/base",
          "model_module_version": "1.2.0",
          "model_name": "LayoutModel",
          "state": {
            "_model_module": "@jupyter-widgets/base",
            "_model_module_version": "1.2.0",
            "_model_name": "LayoutModel",
            "_view_count": null,
            "_view_module": "@jupyter-widgets/base",
            "_view_module_version": "1.2.0",
            "_view_name": "LayoutView",
            "align_content": null,
            "align_items": null,
            "align_self": null,
            "border": null,
            "bottom": null,
            "display": null,
            "flex": null,
            "flex_flow": null,
            "grid_area": null,
            "grid_auto_columns": null,
            "grid_auto_flow": null,
            "grid_auto_rows": null,
            "grid_column": null,
            "grid_gap": null,
            "grid_row": null,
            "grid_template_areas": null,
            "grid_template_columns": null,
            "grid_template_rows": null,
            "height": null,
            "justify_content": null,
            "justify_items": null,
            "left": null,
            "margin": null,
            "max_height": null,
            "max_width": null,
            "min_height": null,
            "min_width": null,
            "object_fit": null,
            "object_position": null,
            "order": null,
            "overflow": null,
            "overflow_x": null,
            "overflow_y": null,
            "padding": null,
            "right": null,
            "top": null,
            "visibility": null,
            "width": null
          }
        },
        "11a66c5fd85041b382e2e6bb438c9e1a": {
          "model_module": "@jupyter-widgets/controls",
          "model_module_version": "1.5.0",
          "model_name": "ProgressStyleModel",
          "state": {
            "_model_module": "@jupyter-widgets/controls",
            "_model_module_version": "1.5.0",
            "_model_name": "ProgressStyleModel",
            "_view_count": null,
            "_view_module": "@jupyter-widgets/base",
            "_view_module_version": "1.2.0",
            "_view_name": "StyleView",
            "bar_color": null,
            "description_width": ""
          }
        },
        "125834b16a9b44358334a68ab29efed6": {
          "model_module": "@jupyter-widgets/controls",
          "model_module_version": "1.5.0",
          "model_name": "FloatProgressModel",
          "state": {
            "_dom_classes": [],
            "_model_module": "@jupyter-widgets/controls",
            "_model_module_version": "1.5.0",
            "_model_name": "FloatProgressModel",
            "_view_count": null,
            "_view_module": "@jupyter-widgets/controls",
            "_view_module_version": "1.5.0",
            "_view_name": "ProgressView",
            "bar_style": "success",
            "description": "",
            "description_tooltip": null,
            "layout": "IPY_MODEL_2cb96a6d7ee34973a60e648ec3587a71",
            "max": 28,
            "min": 0,
            "orientation": "horizontal",
            "style": "IPY_MODEL_d2416100377543f0b1a098dcbcc9deee",
            "value": 28
          }
        },
        "1358d8afdd05469697d4094c2c0e3f83": {
          "model_module": "@jupyter-widgets/base",
          "model_module_version": "1.2.0",
          "model_name": "LayoutModel",
          "state": {
            "_model_module": "@jupyter-widgets/base",
            "_model_module_version": "1.2.0",
            "_model_name": "LayoutModel",
            "_view_count": null,
            "_view_module": "@jupyter-widgets/base",
            "_view_module_version": "1.2.0",
            "_view_name": "LayoutView",
            "align_content": null,
            "align_items": null,
            "align_self": null,
            "border": null,
            "bottom": null,
            "display": null,
            "flex": null,
            "flex_flow": null,
            "grid_area": null,
            "grid_auto_columns": null,
            "grid_auto_flow": null,
            "grid_auto_rows": null,
            "grid_column": null,
            "grid_gap": null,
            "grid_row": null,
            "grid_template_areas": null,
            "grid_template_columns": null,
            "grid_template_rows": null,
            "height": null,
            "justify_content": null,
            "justify_items": null,
            "left": null,
            "margin": null,
            "max_height": null,
            "max_width": null,
            "min_height": null,
            "min_width": null,
            "object_fit": null,
            "object_position": null,
            "order": null,
            "overflow": null,
            "overflow_x": null,
            "overflow_y": null,
            "padding": null,
            "right": null,
            "top": null,
            "visibility": null,
            "width": null
          }
        },
        "15b331d39114446e8cd9141bf791e366": {
          "model_module": "@jupyter-widgets/controls",
          "model_module_version": "1.5.0",
          "model_name": "DescriptionStyleModel",
          "state": {
            "_model_module": "@jupyter-widgets/controls",
            "_model_module_version": "1.5.0",
            "_model_name": "DescriptionStyleModel",
            "_view_count": null,
            "_view_module": "@jupyter-widgets/base",
            "_view_module_version": "1.2.0",
            "_view_name": "StyleView",
            "description_width": ""
          }
        },
        "181573c0e36c4440b6ac3cf892857850": {
          "model_module": "@jupyter-widgets/base",
          "model_module_version": "1.2.0",
          "model_name": "LayoutModel",
          "state": {
            "_model_module": "@jupyter-widgets/base",
            "_model_module_version": "1.2.0",
            "_model_name": "LayoutModel",
            "_view_count": null,
            "_view_module": "@jupyter-widgets/base",
            "_view_module_version": "1.2.0",
            "_view_name": "LayoutView",
            "align_content": null,
            "align_items": null,
            "align_self": null,
            "border": null,
            "bottom": null,
            "display": null,
            "flex": null,
            "flex_flow": null,
            "grid_area": null,
            "grid_auto_columns": null,
            "grid_auto_flow": null,
            "grid_auto_rows": null,
            "grid_column": null,
            "grid_gap": null,
            "grid_row": null,
            "grid_template_areas": null,
            "grid_template_columns": null,
            "grid_template_rows": null,
            "height": null,
            "justify_content": null,
            "justify_items": null,
            "left": null,
            "margin": null,
            "max_height": null,
            "max_width": null,
            "min_height": null,
            "min_width": null,
            "object_fit": null,
            "object_position": null,
            "order": null,
            "overflow": null,
            "overflow_x": null,
            "overflow_y": null,
            "padding": null,
            "right": null,
            "top": null,
            "visibility": null,
            "width": null
          }
        },
        "19c855b778e84b15afb9e099feb73913": {
          "model_module": "@jupyter-widgets/base",
          "model_module_version": "1.2.0",
          "model_name": "LayoutModel",
          "state": {
            "_model_module": "@jupyter-widgets/base",
            "_model_module_version": "1.2.0",
            "_model_name": "LayoutModel",
            "_view_count": null,
            "_view_module": "@jupyter-widgets/base",
            "_view_module_version": "1.2.0",
            "_view_name": "LayoutView",
            "align_content": null,
            "align_items": null,
            "align_self": null,
            "border": null,
            "bottom": null,
            "display": null,
            "flex": null,
            "flex_flow": null,
            "grid_area": null,
            "grid_auto_columns": null,
            "grid_auto_flow": null,
            "grid_auto_rows": null,
            "grid_column": null,
            "grid_gap": null,
            "grid_row": null,
            "grid_template_areas": null,
            "grid_template_columns": null,
            "grid_template_rows": null,
            "height": null,
            "justify_content": null,
            "justify_items": null,
            "left": null,
            "margin": null,
            "max_height": null,
            "max_width": null,
            "min_height": null,
            "min_width": null,
            "object_fit": null,
            "object_position": null,
            "order": null,
            "overflow": null,
            "overflow_x": null,
            "overflow_y": null,
            "padding": null,
            "right": null,
            "top": null,
            "visibility": null,
            "width": null
          }
        },
        "19f9e316bb194e968a23ef75cc5ce155": {
          "model_module": "@jupyter-widgets/controls",
          "model_module_version": "1.5.0",
          "model_name": "HBoxModel",
          "state": {
            "_dom_classes": [],
            "_model_module": "@jupyter-widgets/controls",
            "_model_module_version": "1.5.0",
            "_model_name": "HBoxModel",
            "_view_count": null,
            "_view_module": "@jupyter-widgets/controls",
            "_view_module_version": "1.5.0",
            "_view_name": "HBoxView",
            "box_style": "",
            "children": [
              "IPY_MODEL_01fc7d39ab9f433797b138e500548d06",
              "IPY_MODEL_70950beba11f4368a1a56c0db0e7efc8",
              "IPY_MODEL_2d36d6feac4a4cf6b31982cc5d537d64"
            ],
            "layout": "IPY_MODEL_57f3af2f75cd4af6a956e18410257c1d"
          }
        },
        "1c33ce36af0d48719c3ed7ba6ad612f2": {
          "model_module": "@jupyter-widgets/controls",
          "model_module_version": "1.5.0",
          "model_name": "HTMLModel",
          "state": {
            "_dom_classes": [],
            "_model_module": "@jupyter-widgets/controls",
            "_model_module_version": "1.5.0",
            "_model_name": "HTMLModel",
            "_view_count": null,
            "_view_module": "@jupyter-widgets/controls",
            "_view_module_version": "1.5.0",
            "_view_name": "HTMLView",
            "description": "",
            "description_tooltip": null,
            "layout": "IPY_MODEL_2527c999d0034b7d99495d04172d443b",
            "placeholder": "​",
            "style": "IPY_MODEL_15b331d39114446e8cd9141bf791e366",
            "value": "Epoch: 100%"
          }
        },
        "1cfea536577b4e049da72f33f26e4dfa": {
          "model_module": "@jupyter-widgets/base",
          "model_module_version": "1.2.0",
          "model_name": "LayoutModel",
          "state": {
            "_model_module": "@jupyter-widgets/base",
            "_model_module_version": "1.2.0",
            "_model_name": "LayoutModel",
            "_view_count": null,
            "_view_module": "@jupyter-widgets/base",
            "_view_module_version": "1.2.0",
            "_view_name": "LayoutView",
            "align_content": null,
            "align_items": null,
            "align_self": null,
            "border": null,
            "bottom": null,
            "display": null,
            "flex": null,
            "flex_flow": null,
            "grid_area": null,
            "grid_auto_columns": null,
            "grid_auto_flow": null,
            "grid_auto_rows": null,
            "grid_column": null,
            "grid_gap": null,
            "grid_row": null,
            "grid_template_areas": null,
            "grid_template_columns": null,
            "grid_template_rows": null,
            "height": null,
            "justify_content": null,
            "justify_items": null,
            "left": null,
            "margin": null,
            "max_height": null,
            "max_width": null,
            "min_height": null,
            "min_width": null,
            "object_fit": null,
            "object_position": null,
            "order": null,
            "overflow": null,
            "overflow_x": null,
            "overflow_y": null,
            "padding": null,
            "right": null,
            "top": null,
            "visibility": null,
            "width": null
          }
        },
        "230c2b1cbbd54b0897b8bc375b5f34b7": {
          "model_module": "@jupyter-widgets/base",
          "model_module_version": "1.2.0",
          "model_name": "LayoutModel",
          "state": {
            "_model_module": "@jupyter-widgets/base",
            "_model_module_version": "1.2.0",
            "_model_name": "LayoutModel",
            "_view_count": null,
            "_view_module": "@jupyter-widgets/base",
            "_view_module_version": "1.2.0",
            "_view_name": "LayoutView",
            "align_content": null,
            "align_items": null,
            "align_self": null,
            "border": null,
            "bottom": null,
            "display": null,
            "flex": null,
            "flex_flow": null,
            "grid_area": null,
            "grid_auto_columns": null,
            "grid_auto_flow": null,
            "grid_auto_rows": null,
            "grid_column": null,
            "grid_gap": null,
            "grid_row": null,
            "grid_template_areas": null,
            "grid_template_columns": null,
            "grid_template_rows": null,
            "height": null,
            "justify_content": null,
            "justify_items": null,
            "left": null,
            "margin": null,
            "max_height": null,
            "max_width": null,
            "min_height": null,
            "min_width": null,
            "object_fit": null,
            "object_position": null,
            "order": null,
            "overflow": null,
            "overflow_x": null,
            "overflow_y": null,
            "padding": null,
            "right": null,
            "top": null,
            "visibility": null,
            "width": null
          }
        },
        "2527c999d0034b7d99495d04172d443b": {
          "model_module": "@jupyter-widgets/base",
          "model_module_version": "1.2.0",
          "model_name": "LayoutModel",
          "state": {
            "_model_module": "@jupyter-widgets/base",
            "_model_module_version": "1.2.0",
            "_model_name": "LayoutModel",
            "_view_count": null,
            "_view_module": "@jupyter-widgets/base",
            "_view_module_version": "1.2.0",
            "_view_name": "LayoutView",
            "align_content": null,
            "align_items": null,
            "align_self": null,
            "border": null,
            "bottom": null,
            "display": null,
            "flex": null,
            "flex_flow": null,
            "grid_area": null,
            "grid_auto_columns": null,
            "grid_auto_flow": null,
            "grid_auto_rows": null,
            "grid_column": null,
            "grid_gap": null,
            "grid_row": null,
            "grid_template_areas": null,
            "grid_template_columns": null,
            "grid_template_rows": null,
            "height": null,
            "justify_content": null,
            "justify_items": null,
            "left": null,
            "margin": null,
            "max_height": null,
            "max_width": null,
            "min_height": null,
            "min_width": null,
            "object_fit": null,
            "object_position": null,
            "order": null,
            "overflow": null,
            "overflow_x": null,
            "overflow_y": null,
            "padding": null,
            "right": null,
            "top": null,
            "visibility": null,
            "width": null
          }
        },
        "25b02b86ca11445298a3bdefa9c67c25": {
          "model_module": "@jupyter-widgets/controls",
          "model_module_version": "1.5.0",
          "model_name": "HBoxModel",
          "state": {
            "_dom_classes": [],
            "_model_module": "@jupyter-widgets/controls",
            "_model_module_version": "1.5.0",
            "_model_name": "HBoxModel",
            "_view_count": null,
            "_view_module": "@jupyter-widgets/controls",
            "_view_module_version": "1.5.0",
            "_view_name": "HBoxView",
            "box_style": "",
            "children": [
              "IPY_MODEL_c2b805a50b9a4c069b20632c05db9b37",
              "IPY_MODEL_e960e588e1e447f49d3a93dedc0f8ca8",
              "IPY_MODEL_2b4e5b5bfa8d44e2b48eed44a2da5918"
            ],
            "layout": "IPY_MODEL_d47dc52a798a4212b7ca567333961785"
          }
        },
        "26acf8af14fc4fda8c3a0a0f06bed55b": {
          "model_module": "@jupyter-widgets/controls",
          "model_module_version": "1.5.0",
          "model_name": "ProgressStyleModel",
          "state": {
            "_model_module": "@jupyter-widgets/controls",
            "_model_module_version": "1.5.0",
            "_model_name": "ProgressStyleModel",
            "_view_count": null,
            "_view_module": "@jupyter-widgets/base",
            "_view_module_version": "1.2.0",
            "_view_name": "StyleView",
            "bar_color": null,
            "description_width": ""
          }
        },
        "292060e55ce444cb936cfe514431eff7": {
          "model_module": "@jupyter-widgets/controls",
          "model_module_version": "1.5.0",
          "model_name": "DescriptionStyleModel",
          "state": {
            "_model_module": "@jupyter-widgets/controls",
            "_model_module_version": "1.5.0",
            "_model_name": "DescriptionStyleModel",
            "_view_count": null,
            "_view_module": "@jupyter-widgets/base",
            "_view_module_version": "1.2.0",
            "_view_name": "StyleView",
            "description_width": ""
          }
        },
        "2b4e5b5bfa8d44e2b48eed44a2da5918": {
          "model_module": "@jupyter-widgets/controls",
          "model_module_version": "1.5.0",
          "model_name": "HTMLModel",
          "state": {
            "_dom_classes": [],
            "_model_module": "@jupyter-widgets/controls",
            "_model_module_version": "1.5.0",
            "_model_name": "HTMLModel",
            "_view_count": null,
            "_view_module": "@jupyter-widgets/controls",
            "_view_module_version": "1.5.0",
            "_view_name": "HTMLView",
            "description": "",
            "description_tooltip": null,
            "layout": "IPY_MODEL_cabd34c34b7e464493e42c3d065d157b",
            "placeholder": "​",
            "style": "IPY_MODEL_bda548cdcb7147608d9f7fe4b3d3c7c1",
            "value": " 225k/225k [00:00&lt;00:00, 842kB/s]"
          }
        },
        "2cb96a6d7ee34973a60e648ec3587a71": {
          "model_module": "@jupyter-widgets/base",
          "model_module_version": "1.2.0",
          "model_name": "LayoutModel",
          "state": {
            "_model_module": "@jupyter-widgets/base",
            "_model_module_version": "1.2.0",
            "_model_name": "LayoutModel",
            "_view_count": null,
            "_view_module": "@jupyter-widgets/base",
            "_view_module_version": "1.2.0",
            "_view_name": "LayoutView",
            "align_content": null,
            "align_items": null,
            "align_self": null,
            "border": null,
            "bottom": null,
            "display": null,
            "flex": null,
            "flex_flow": null,
            "grid_area": null,
            "grid_auto_columns": null,
            "grid_auto_flow": null,
            "grid_auto_rows": null,
            "grid_column": null,
            "grid_gap": null,
            "grid_row": null,
            "grid_template_areas": null,
            "grid_template_columns": null,
            "grid_template_rows": null,
            "height": null,
            "justify_content": null,
            "justify_items": null,
            "left": null,
            "margin": null,
            "max_height": null,
            "max_width": null,
            "min_height": null,
            "min_width": null,
            "object_fit": null,
            "object_position": null,
            "order": null,
            "overflow": null,
            "overflow_x": null,
            "overflow_y": null,
            "padding": null,
            "right": null,
            "top": null,
            "visibility": null,
            "width": null
          }
        },
        "2d36d6feac4a4cf6b31982cc5d537d64": {
          "model_module": "@jupyter-widgets/controls",
          "model_module_version": "1.5.0",
          "model_name": "HTMLModel",
          "state": {
            "_dom_classes": [],
            "_model_module": "@jupyter-widgets/controls",
            "_model_module_version": "1.5.0",
            "_model_name": "HTMLModel",
            "_view_count": null,
            "_view_module": "@jupyter-widgets/controls",
            "_view_module_version": "1.5.0",
            "_view_name": "HTMLView",
            "description": "",
            "description_tooltip": null,
            "layout": "IPY_MODEL_1358d8afdd05469697d4094c2c0e3f83",
            "placeholder": "​",
            "style": "IPY_MODEL_e45d5e1b73484a88a3d1e0a896a2e737",
            "value": " 2/2 [03:58&lt;00:00, 119.55s/it]"
          }
        },
        "319d0dafacd64037b2d6dffbdf7446ea": {
          "model_module": "@jupyter-widgets/controls",
          "model_module_version": "1.5.0",
          "model_name": "ProgressStyleModel",
          "state": {
            "_model_module": "@jupyter-widgets/controls",
            "_model_module_version": "1.5.0",
            "_model_name": "ProgressStyleModel",
            "_view_count": null,
            "_view_module": "@jupyter-widgets/base",
            "_view_module_version": "1.2.0",
            "_view_name": "StyleView",
            "bar_color": null,
            "description_width": ""
          }
        },
        "33a10c50cbc948519feb0d4dad63e285": {
          "model_module": "@jupyter-widgets/controls",
          "model_module_version": "1.5.0",
          "model_name": "HTMLModel",
          "state": {
            "_dom_classes": [],
            "_model_module": "@jupyter-widgets/controls",
            "_model_module_version": "1.5.0",
            "_model_name": "HTMLModel",
            "_view_count": null,
            "_view_module": "@jupyter-widgets/controls",
            "_view_module_version": "1.5.0",
            "_view_name": "HTMLView",
            "description": "",
            "description_tooltip": null,
            "layout": "IPY_MODEL_fec7fd60e8784bd2a274e758ad3d7f32",
            "placeholder": "​",
            "style": "IPY_MODEL_f5dc8678b2a8471ba2ff12311ceca63f",
            "value": " 1575/1575 [16:35&lt;00:00,  1.64it/s]"
          }
        },
        "33e1b389283e4100991e5b485cd6609a": {
          "model_module": "@jupyter-widgets/base",
          "model_module_version": "1.2.0",
          "model_name": "LayoutModel",
          "state": {
            "_model_module": "@jupyter-widgets/base",
            "_model_module_version": "1.2.0",
            "_model_name": "LayoutModel",
            "_view_count": null,
            "_view_module": "@jupyter-widgets/base",
            "_view_module_version": "1.2.0",
            "_view_name": "LayoutView",
            "align_content": null,
            "align_items": null,
            "align_self": null,
            "border": null,
            "bottom": null,
            "display": null,
            "flex": null,
            "flex_flow": null,
            "grid_area": null,
            "grid_auto_columns": null,
            "grid_auto_flow": null,
            "grid_auto_rows": null,
            "grid_column": null,
            "grid_gap": null,
            "grid_row": null,
            "grid_template_areas": null,
            "grid_template_columns": null,
            "grid_template_rows": null,
            "height": null,
            "justify_content": null,
            "justify_items": null,
            "left": null,
            "margin": null,
            "max_height": null,
            "max_width": null,
            "min_height": null,
            "min_width": null,
            "object_fit": null,
            "object_position": null,
            "order": null,
            "overflow": null,
            "overflow_x": null,
            "overflow_y": null,
            "padding": null,
            "right": null,
            "top": null,
            "visibility": null,
            "width": null
          }
        },
        "3558f89d9bd040d394f5583945967dd5": {
          "model_module": "@jupyter-widgets/controls",
          "model_module_version": "1.5.0",
          "model_name": "FloatProgressModel",
          "state": {
            "_dom_classes": [],
            "_model_module": "@jupyter-widgets/controls",
            "_model_module_version": "1.5.0",
            "_model_name": "FloatProgressModel",
            "_view_count": null,
            "_view_module": "@jupyter-widgets/controls",
            "_view_module_version": "1.5.0",
            "_view_name": "ProgressView",
            "bar_style": "success",
            "description": "",
            "description_tooltip": null,
            "layout": "IPY_MODEL_da9a4c59dd194ea0ab607fd61539aa4e",
            "max": 210,
            "min": 0,
            "orientation": "horizontal",
            "style": "IPY_MODEL_60ee81d17d4c40bbbce09e9273cfcc76",
            "value": 210
          }
        },
        "37725030d0a546a1b8883a02744fc8f8": {
          "model_module": "@jupyter-widgets/controls",
          "model_module_version": "1.5.0",
          "model_name": "DescriptionStyleModel",
          "state": {
            "_model_module": "@jupyter-widgets/controls",
            "_model_module_version": "1.5.0",
            "_model_name": "DescriptionStyleModel",
            "_view_count": null,
            "_view_module": "@jupyter-widgets/base",
            "_view_module_version": "1.2.0",
            "_view_name": "StyleView",
            "description_width": ""
          }
        },
        "3a90b9e7a9984e36807bebe08718148a": {
          "model_module": "@jupyter-widgets/base",
          "model_module_version": "1.2.0",
          "model_name": "LayoutModel",
          "state": {
            "_model_module": "@jupyter-widgets/base",
            "_model_module_version": "1.2.0",
            "_model_name": "LayoutModel",
            "_view_count": null,
            "_view_module": "@jupyter-widgets/base",
            "_view_module_version": "1.2.0",
            "_view_name": "LayoutView",
            "align_content": null,
            "align_items": null,
            "align_self": null,
            "border": null,
            "bottom": null,
            "display": null,
            "flex": null,
            "flex_flow": null,
            "grid_area": null,
            "grid_auto_columns": null,
            "grid_auto_flow": null,
            "grid_auto_rows": null,
            "grid_column": null,
            "grid_gap": null,
            "grid_row": null,
            "grid_template_areas": null,
            "grid_template_columns": null,
            "grid_template_rows": null,
            "height": null,
            "justify_content": null,
            "justify_items": null,
            "left": null,
            "margin": null,
            "max_height": null,
            "max_width": null,
            "min_height": null,
            "min_width": null,
            "object_fit": null,
            "object_position": null,
            "order": null,
            "overflow": null,
            "overflow_x": null,
            "overflow_y": null,
            "padding": null,
            "right": null,
            "top": null,
            "visibility": null,
            "width": null
          }
        },
        "3d7fff4e106941c3b28046c3862578c2": {
          "model_module": "@jupyter-widgets/controls",
          "model_module_version": "1.5.0",
          "model_name": "HTMLModel",
          "state": {
            "_dom_classes": [],
            "_model_module": "@jupyter-widgets/controls",
            "_model_module_version": "1.5.0",
            "_model_name": "HTMLModel",
            "_view_count": null,
            "_view_module": "@jupyter-widgets/controls",
            "_view_module_version": "1.5.0",
            "_view_name": "HTMLView",
            "description": "",
            "description_tooltip": null,
            "layout": "IPY_MODEL_06f40fe67d37475f8aa2d52225b52a65",
            "placeholder": "​",
            "style": "IPY_MODEL_839b22bd1c0246d6a50bcd40d68ea4bb",
            "value": " 1575/1575 [16:33&lt;00:00,  1.58it/s]"
          }
        },
        "42901fde28db4377a9f7b67da4e42930": {
          "model_module": "@jupyter-widgets/base",
          "model_module_version": "1.2.0",
          "model_name": "LayoutModel",
          "state": {
            "_model_module": "@jupyter-widgets/base",
            "_model_module_version": "1.2.0",
            "_model_name": "LayoutModel",
            "_view_count": null,
            "_view_module": "@jupyter-widgets/base",
            "_view_module_version": "1.2.0",
            "_view_name": "LayoutView",
            "align_content": null,
            "align_items": null,
            "align_self": null,
            "border": null,
            "bottom": null,
            "display": null,
            "flex": null,
            "flex_flow": null,
            "grid_area": null,
            "grid_auto_columns": null,
            "grid_auto_flow": null,
            "grid_auto_rows": null,
            "grid_column": null,
            "grid_gap": null,
            "grid_row": null,
            "grid_template_areas": null,
            "grid_template_columns": null,
            "grid_template_rows": null,
            "height": null,
            "justify_content": null,
            "justify_items": null,
            "left": null,
            "margin": null,
            "max_height": null,
            "max_width": null,
            "min_height": null,
            "min_width": null,
            "object_fit": null,
            "object_position": null,
            "order": null,
            "overflow": null,
            "overflow_x": null,
            "overflow_y": null,
            "padding": null,
            "right": null,
            "top": null,
            "visibility": null,
            "width": null
          }
        },
        "42c6cb38283f499495d43bd8560f35f8": {
          "model_module": "@jupyter-widgets/controls",
          "model_module_version": "1.5.0",
          "model_name": "FloatProgressModel",
          "state": {
            "_dom_classes": [],
            "_model_module": "@jupyter-widgets/controls",
            "_model_module_version": "1.5.0",
            "_model_name": "FloatProgressModel",
            "_view_count": null,
            "_view_module": "@jupyter-widgets/controls",
            "_view_module_version": "1.5.0",
            "_view_name": "ProgressView",
            "bar_style": "success",
            "description": "",
            "description_tooltip": null,
            "layout": "IPY_MODEL_d367bb7fcd81422d88e954b7885f54d3",
            "max": 1575,
            "min": 0,
            "orientation": "horizontal",
            "style": "IPY_MODEL_319d0dafacd64037b2d6dffbdf7446ea",
            "value": 1575
          }
        },
        "470f63f57ab64dc094c9120e2d7d597c": {
          "model_module": "@jupyter-widgets/controls",
          "model_module_version": "1.5.0",
          "model_name": "DescriptionStyleModel",
          "state": {
            "_model_module": "@jupyter-widgets/controls",
            "_model_module_version": "1.5.0",
            "_model_name": "DescriptionStyleModel",
            "_view_count": null,
            "_view_module": "@jupyter-widgets/base",
            "_view_module_version": "1.2.0",
            "_view_name": "StyleView",
            "description_width": ""
          }
        },
        "4a9258d8db4043a69010e3c84f86c96a": {
          "model_module": "@jupyter-widgets/controls",
          "model_module_version": "1.5.0",
          "model_name": "DescriptionStyleModel",
          "state": {
            "_model_module": "@jupyter-widgets/controls",
            "_model_module_version": "1.5.0",
            "_model_name": "DescriptionStyleModel",
            "_view_count": null,
            "_view_module": "@jupyter-widgets/base",
            "_view_module_version": "1.2.0",
            "_view_name": "StyleView",
            "description_width": ""
          }
        },
        "4a9c02ee94de49b390d6af891ff9849e": {
          "model_module": "@jupyter-widgets/controls",
          "model_module_version": "1.5.0",
          "model_name": "DescriptionStyleModel",
          "state": {
            "_model_module": "@jupyter-widgets/controls",
            "_model_module_version": "1.5.0",
            "_model_name": "DescriptionStyleModel",
            "_view_count": null,
            "_view_module": "@jupyter-widgets/base",
            "_view_module_version": "1.2.0",
            "_view_name": "StyleView",
            "description_width": ""
          }
        },
        "4af9fc1637b54045af300b3af0f6ca88": {
          "model_module": "@jupyter-widgets/controls",
          "model_module_version": "1.5.0",
          "model_name": "HBoxModel",
          "state": {
            "_dom_classes": [],
            "_model_module": "@jupyter-widgets/controls",
            "_model_module_version": "1.5.0",
            "_model_name": "HBoxModel",
            "_view_count": null,
            "_view_module": "@jupyter-widgets/controls",
            "_view_module_version": "1.5.0",
            "_view_name": "HBoxView",
            "box_style": "",
            "children": [
              "IPY_MODEL_e98a4d433d4d4d36b7c7903a8cb08411",
              "IPY_MODEL_125834b16a9b44358334a68ab29efed6",
              "IPY_MODEL_e60a3e58c57748e4b0aeb3e27c9f6c2d"
            ],
            "layout": "IPY_MODEL_f1641bb3cccb483eb0cbedcac97095cb"
          }
        },
        "4f20ad0c7a6744329147672b8dbd8f2f": {
          "model_module": "@jupyter-widgets/controls",
          "model_module_version": "1.5.0",
          "model_name": "DescriptionStyleModel",
          "state": {
            "_model_module": "@jupyter-widgets/controls",
            "_model_module_version": "1.5.0",
            "_model_name": "DescriptionStyleModel",
            "_view_count": null,
            "_view_module": "@jupyter-widgets/base",
            "_view_module_version": "1.2.0",
            "_view_name": "StyleView",
            "description_width": ""
          }
        },
        "5080bba49c46461c8ae714455efca2f7": {
          "model_module": "@jupyter-widgets/base",
          "model_module_version": "1.2.0",
          "model_name": "LayoutModel",
          "state": {
            "_model_module": "@jupyter-widgets/base",
            "_model_module_version": "1.2.0",
            "_model_name": "LayoutModel",
            "_view_count": null,
            "_view_module": "@jupyter-widgets/base",
            "_view_module_version": "1.2.0",
            "_view_name": "LayoutView",
            "align_content": null,
            "align_items": null,
            "align_self": null,
            "border": null,
            "bottom": null,
            "display": null,
            "flex": null,
            "flex_flow": null,
            "grid_area": null,
            "grid_auto_columns": null,
            "grid_auto_flow": null,
            "grid_auto_rows": null,
            "grid_column": null,
            "grid_gap": null,
            "grid_row": null,
            "grid_template_areas": null,
            "grid_template_columns": null,
            "grid_template_rows": null,
            "height": null,
            "justify_content": null,
            "justify_items": null,
            "left": null,
            "margin": null,
            "max_height": null,
            "max_width": null,
            "min_height": null,
            "min_width": null,
            "object_fit": null,
            "object_position": null,
            "order": null,
            "overflow": null,
            "overflow_x": null,
            "overflow_y": null,
            "padding": null,
            "right": null,
            "top": null,
            "visibility": null,
            "width": null
          }
        },
        "51bbc59830d546f0ad175920a97d983c": {
          "model_module": "@jupyter-widgets/base",
          "model_module_version": "1.2.0",
          "model_name": "LayoutModel",
          "state": {
            "_model_module": "@jupyter-widgets/base",
            "_model_module_version": "1.2.0",
            "_model_name": "LayoutModel",
            "_view_count": null,
            "_view_module": "@jupyter-widgets/base",
            "_view_module_version": "1.2.0",
            "_view_name": "LayoutView",
            "align_content": null,
            "align_items": null,
            "align_self": null,
            "border": null,
            "bottom": null,
            "display": null,
            "flex": null,
            "flex_flow": null,
            "grid_area": null,
            "grid_auto_columns": null,
            "grid_auto_flow": null,
            "grid_auto_rows": null,
            "grid_column": null,
            "grid_gap": null,
            "grid_row": null,
            "grid_template_areas": null,
            "grid_template_columns": null,
            "grid_template_rows": null,
            "height": null,
            "justify_content": null,
            "justify_items": null,
            "left": null,
            "margin": null,
            "max_height": null,
            "max_width": null,
            "min_height": null,
            "min_width": null,
            "object_fit": null,
            "object_position": null,
            "order": null,
            "overflow": null,
            "overflow_x": null,
            "overflow_y": null,
            "padding": null,
            "right": null,
            "top": null,
            "visibility": null,
            "width": null
          }
        },
        "52a1539438df46f5a8209f46730c9eeb": {
          "model_module": "@jupyter-widgets/controls",
          "model_module_version": "1.5.0",
          "model_name": "DescriptionStyleModel",
          "state": {
            "_model_module": "@jupyter-widgets/controls",
            "_model_module_version": "1.5.0",
            "_model_name": "DescriptionStyleModel",
            "_view_count": null,
            "_view_module": "@jupyter-widgets/base",
            "_view_module_version": "1.2.0",
            "_view_name": "StyleView",
            "description_width": ""
          }
        },
        "540e851d7e314f5c9511d0fee081cb4a": {
          "model_module": "@jupyter-widgets/base",
          "model_module_version": "1.2.0",
          "model_name": "LayoutModel",
          "state": {
            "_model_module": "@jupyter-widgets/base",
            "_model_module_version": "1.2.0",
            "_model_name": "LayoutModel",
            "_view_count": null,
            "_view_module": "@jupyter-widgets/base",
            "_view_module_version": "1.2.0",
            "_view_name": "LayoutView",
            "align_content": null,
            "align_items": null,
            "align_self": null,
            "border": null,
            "bottom": null,
            "display": null,
            "flex": null,
            "flex_flow": null,
            "grid_area": null,
            "grid_auto_columns": null,
            "grid_auto_flow": null,
            "grid_auto_rows": null,
            "grid_column": null,
            "grid_gap": null,
            "grid_row": null,
            "grid_template_areas": null,
            "grid_template_columns": null,
            "grid_template_rows": null,
            "height": null,
            "justify_content": null,
            "justify_items": null,
            "left": null,
            "margin": null,
            "max_height": null,
            "max_width": null,
            "min_height": null,
            "min_width": null,
            "object_fit": null,
            "object_position": null,
            "order": null,
            "overflow": null,
            "overflow_x": null,
            "overflow_y": null,
            "padding": null,
            "right": null,
            "top": null,
            "visibility": null,
            "width": null
          }
        },
        "54345cec61d1425f943da57f01203bb9": {
          "model_module": "@jupyter-widgets/controls",
          "model_module_version": "1.5.0",
          "model_name": "HTMLModel",
          "state": {
            "_dom_classes": [],
            "_model_module": "@jupyter-widgets/controls",
            "_model_module_version": "1.5.0",
            "_model_name": "HTMLModel",
            "_view_count": null,
            "_view_module": "@jupyter-widgets/controls",
            "_view_module_version": "1.5.0",
            "_view_name": "HTMLView",
            "description": "",
            "description_tooltip": null,
            "layout": "IPY_MODEL_b84fba2670ee4e1983789a9d8f0ae3be",
            "placeholder": "​",
            "style": "IPY_MODEL_c530978ffb2c41fba83e1006b22c32ce",
            "value": "Iteration: 100%"
          }
        },
        "57f3af2f75cd4af6a956e18410257c1d": {
          "model_module": "@jupyter-widgets/base",
          "model_module_version": "1.2.0",
          "model_name": "LayoutModel",
          "state": {
            "_model_module": "@jupyter-widgets/base",
            "_model_module_version": "1.2.0",
            "_model_name": "LayoutModel",
            "_view_count": null,
            "_view_module": "@jupyter-widgets/base",
            "_view_module_version": "1.2.0",
            "_view_name": "LayoutView",
            "align_content": null,
            "align_items": null,
            "align_self": null,
            "border": null,
            "bottom": null,
            "display": null,
            "flex": null,
            "flex_flow": null,
            "grid_area": null,
            "grid_auto_columns": null,
            "grid_auto_flow": null,
            "grid_auto_rows": null,
            "grid_column": null,
            "grid_gap": null,
            "grid_row": null,
            "grid_template_areas": null,
            "grid_template_columns": null,
            "grid_template_rows": null,
            "height": null,
            "justify_content": null,
            "justify_items": null,
            "left": null,
            "margin": null,
            "max_height": null,
            "max_width": null,
            "min_height": null,
            "min_width": null,
            "object_fit": null,
            "object_position": null,
            "order": null,
            "overflow": null,
            "overflow_x": null,
            "overflow_y": null,
            "padding": null,
            "right": null,
            "top": null,
            "visibility": null,
            "width": null
          }
        },
        "5e85ecaa1ea241c385b2032f715e62dd": {
          "model_module": "@jupyter-widgets/controls",
          "model_module_version": "1.5.0",
          "model_name": "HBoxModel",
          "state": {
            "_dom_classes": [],
            "_model_module": "@jupyter-widgets/controls",
            "_model_module_version": "1.5.0",
            "_model_name": "HBoxModel",
            "_view_count": null,
            "_view_module": "@jupyter-widgets/controls",
            "_view_module_version": "1.5.0",
            "_view_name": "HBoxView",
            "box_style": "",
            "children": [
              "IPY_MODEL_1c33ce36af0d48719c3ed7ba6ad612f2",
              "IPY_MODEL_eb94c34d3bdf4489920fe5439a07fcb4",
              "IPY_MODEL_f5acd1a2c4b94c729acd6854825d612c"
            ],
            "layout": "IPY_MODEL_f2a3264668254ae387a771ddae0901db"
          }
        },
        "60ee81d17d4c40bbbce09e9273cfcc76": {
          "model_module": "@jupyter-widgets/controls",
          "model_module_version": "1.5.0",
          "model_name": "ProgressStyleModel",
          "state": {
            "_model_module": "@jupyter-widgets/controls",
            "_model_module_version": "1.5.0",
            "_model_name": "ProgressStyleModel",
            "_view_count": null,
            "_view_module": "@jupyter-widgets/base",
            "_view_module_version": "1.2.0",
            "_view_name": "StyleView",
            "bar_color": null,
            "description_width": ""
          }
        },
        "6590751e4d1d417c8411b9369588a1fc": {
          "model_module": "@jupyter-widgets/base",
          "model_module_version": "1.2.0",
          "model_name": "LayoutModel",
          "state": {
            "_model_module": "@jupyter-widgets/base",
            "_model_module_version": "1.2.0",
            "_model_name": "LayoutModel",
            "_view_count": null,
            "_view_module": "@jupyter-widgets/base",
            "_view_module_version": "1.2.0",
            "_view_name": "LayoutView",
            "align_content": null,
            "align_items": null,
            "align_self": null,
            "border": null,
            "bottom": null,
            "display": null,
            "flex": null,
            "flex_flow": null,
            "grid_area": null,
            "grid_auto_columns": null,
            "grid_auto_flow": null,
            "grid_auto_rows": null,
            "grid_column": null,
            "grid_gap": null,
            "grid_row": null,
            "grid_template_areas": null,
            "grid_template_columns": null,
            "grid_template_rows": null,
            "height": null,
            "justify_content": null,
            "justify_items": null,
            "left": null,
            "margin": null,
            "max_height": null,
            "max_width": null,
            "min_height": null,
            "min_width": null,
            "object_fit": null,
            "object_position": null,
            "order": null,
            "overflow": null,
            "overflow_x": null,
            "overflow_y": null,
            "padding": null,
            "right": null,
            "top": null,
            "visibility": null,
            "width": null
          }
        },
        "673ac2b1e16a4ebbb8fff215a8b10344": {
          "model_module": "@jupyter-widgets/controls",
          "model_module_version": "1.5.0",
          "model_name": "HBoxModel",
          "state": {
            "_dom_classes": [],
            "_model_module": "@jupyter-widgets/controls",
            "_model_module_version": "1.5.0",
            "_model_name": "HBoxModel",
            "_view_count": null,
            "_view_module": "@jupyter-widgets/controls",
            "_view_module_version": "1.5.0",
            "_view_name": "HBoxView",
            "box_style": "",
            "children": [
              "IPY_MODEL_bb79717406df486ba95c8a8f6f271048",
              "IPY_MODEL_bfec7d0b33534b2eab51e945f922b084",
              "IPY_MODEL_6dc22a5fc26a4f25bda39796b92fea03"
            ],
            "layout": "IPY_MODEL_a7f85d99198c4f108962707d6ee2faae"
          }
        },
        "6881e4125a60441d965f5ccac0f92915": {
          "model_module": "@jupyter-widgets/controls",
          "model_module_version": "1.5.0",
          "model_name": "ProgressStyleModel",
          "state": {
            "_model_module": "@jupyter-widgets/controls",
            "_model_module_version": "1.5.0",
            "_model_name": "ProgressStyleModel",
            "_view_count": null,
            "_view_module": "@jupyter-widgets/base",
            "_view_module_version": "1.2.0",
            "_view_name": "StyleView",
            "bar_color": null,
            "description_width": ""
          }
        },
        "69afcd870e4b4c5fb1927e7929bb0e8f": {
          "model_module": "@jupyter-widgets/base",
          "model_module_version": "1.2.0",
          "model_name": "LayoutModel",
          "state": {
            "_model_module": "@jupyter-widgets/base",
            "_model_module_version": "1.2.0",
            "_model_name": "LayoutModel",
            "_view_count": null,
            "_view_module": "@jupyter-widgets/base",
            "_view_module_version": "1.2.0",
            "_view_name": "LayoutView",
            "align_content": null,
            "align_items": null,
            "align_self": null,
            "border": null,
            "bottom": null,
            "display": null,
            "flex": null,
            "flex_flow": null,
            "grid_area": null,
            "grid_auto_columns": null,
            "grid_auto_flow": null,
            "grid_auto_rows": null,
            "grid_column": null,
            "grid_gap": null,
            "grid_row": null,
            "grid_template_areas": null,
            "grid_template_columns": null,
            "grid_template_rows": null,
            "height": null,
            "justify_content": null,
            "justify_items": null,
            "left": null,
            "margin": null,
            "max_height": null,
            "max_width": null,
            "min_height": null,
            "min_width": null,
            "object_fit": null,
            "object_position": null,
            "order": null,
            "overflow": null,
            "overflow_x": null,
            "overflow_y": null,
            "padding": null,
            "right": null,
            "top": null,
            "visibility": null,
            "width": null
          }
        },
        "6ababfb0976b45279fb21bde3a819457": {
          "model_module": "@jupyter-widgets/controls",
          "model_module_version": "1.5.0",
          "model_name": "HTMLModel",
          "state": {
            "_dom_classes": [],
            "_model_module": "@jupyter-widgets/controls",
            "_model_module_version": "1.5.0",
            "_model_name": "HTMLModel",
            "_view_count": null,
            "_view_module": "@jupyter-widgets/controls",
            "_view_module_version": "1.5.0",
            "_view_name": "HTMLView",
            "description": "",
            "description_tooltip": null,
            "layout": "IPY_MODEL_f876a32a337b42a2a9572760654c4ca6",
            "placeholder": "​",
            "style": "IPY_MODEL_7787254a305c4862babc3f9d8da5d2d2",
            "value": "Iteration: 100%"
          }
        },
        "6af90fc48ab84945bade7f17cbf9fba7": {
          "model_module": "@jupyter-widgets/base",
          "model_module_version": "1.2.0",
          "model_name": "LayoutModel",
          "state": {
            "_model_module": "@jupyter-widgets/base",
            "_model_module_version": "1.2.0",
            "_model_name": "LayoutModel",
            "_view_count": null,
            "_view_module": "@jupyter-widgets/base",
            "_view_module_version": "1.2.0",
            "_view_name": "LayoutView",
            "align_content": null,
            "align_items": null,
            "align_self": null,
            "border": null,
            "bottom": null,
            "display": null,
            "flex": null,
            "flex_flow": null,
            "grid_area": null,
            "grid_auto_columns": null,
            "grid_auto_flow": null,
            "grid_auto_rows": null,
            "grid_column": null,
            "grid_gap": null,
            "grid_row": null,
            "grid_template_areas": null,
            "grid_template_columns": null,
            "grid_template_rows": null,
            "height": null,
            "justify_content": null,
            "justify_items": null,
            "left": null,
            "margin": null,
            "max_height": null,
            "max_width": null,
            "min_height": null,
            "min_width": null,
            "object_fit": null,
            "object_position": null,
            "order": null,
            "overflow": null,
            "overflow_x": null,
            "overflow_y": null,
            "padding": null,
            "right": null,
            "top": null,
            "visibility": null,
            "width": null
          }
        },
        "6b143104b0954fe792404dc0d6968157": {
          "model_module": "@jupyter-widgets/base",
          "model_module_version": "1.2.0",
          "model_name": "LayoutModel",
          "state": {
            "_model_module": "@jupyter-widgets/base",
            "_model_module_version": "1.2.0",
            "_model_name": "LayoutModel",
            "_view_count": null,
            "_view_module": "@jupyter-widgets/base",
            "_view_module_version": "1.2.0",
            "_view_name": "LayoutView",
            "align_content": null,
            "align_items": null,
            "align_self": null,
            "border": null,
            "bottom": null,
            "display": null,
            "flex": null,
            "flex_flow": null,
            "grid_area": null,
            "grid_auto_columns": null,
            "grid_auto_flow": null,
            "grid_auto_rows": null,
            "grid_column": null,
            "grid_gap": null,
            "grid_row": null,
            "grid_template_areas": null,
            "grid_template_columns": null,
            "grid_template_rows": null,
            "height": null,
            "justify_content": null,
            "justify_items": null,
            "left": null,
            "margin": null,
            "max_height": null,
            "max_width": null,
            "min_height": null,
            "min_width": null,
            "object_fit": null,
            "object_position": null,
            "order": null,
            "overflow": null,
            "overflow_x": null,
            "overflow_y": null,
            "padding": null,
            "right": null,
            "top": null,
            "visibility": null,
            "width": null
          }
        },
        "6dc22a5fc26a4f25bda39796b92fea03": {
          "model_module": "@jupyter-widgets/controls",
          "model_module_version": "1.5.0",
          "model_name": "HTMLModel",
          "state": {
            "_dom_classes": [],
            "_model_module": "@jupyter-widgets/controls",
            "_model_module_version": "1.5.0",
            "_model_name": "HTMLModel",
            "_view_count": null,
            "_view_module": "@jupyter-widgets/controls",
            "_view_module_version": "1.5.0",
            "_view_name": "HTMLView",
            "description": "",
            "description_tooltip": null,
            "layout": "IPY_MODEL_8cbeff1d5fd0489d9b3efe4ef8d6a026",
            "placeholder": "​",
            "style": "IPY_MODEL_52a1539438df46f5a8209f46730c9eeb",
            "value": " 440M/440M [00:01&lt;00:00, 282MB/s]"
          }
        },
        "70950beba11f4368a1a56c0db0e7efc8": {
          "model_module": "@jupyter-widgets/controls",
          "model_module_version": "1.5.0",
          "model_name": "FloatProgressModel",
          "state": {
            "_dom_classes": [],
            "_model_module": "@jupyter-widgets/controls",
            "_model_module_version": "1.5.0",
            "_model_name": "FloatProgressModel",
            "_view_count": null,
            "_view_module": "@jupyter-widgets/controls",
            "_view_module_version": "1.5.0",
            "_view_name": "ProgressView",
            "bar_style": "success",
            "description": "",
            "description_tooltip": null,
            "layout": "IPY_MODEL_1cfea536577b4e049da72f33f26e4dfa",
            "max": 2,
            "min": 0,
            "orientation": "horizontal",
            "style": "IPY_MODEL_a543067299fd4262aac388c07c27201d",
            "value": 2
          }
        },
        "72c9b83af00c4039a66d78f61db9ce08": {
          "model_module": "@jupyter-widgets/base",
          "model_module_version": "1.2.0",
          "model_name": "LayoutModel",
          "state": {
            "_model_module": "@jupyter-widgets/base",
            "_model_module_version": "1.2.0",
            "_model_name": "LayoutModel",
            "_view_count": null,
            "_view_module": "@jupyter-widgets/base",
            "_view_module_version": "1.2.0",
            "_view_name": "LayoutView",
            "align_content": null,
            "align_items": null,
            "align_self": null,
            "border": null,
            "bottom": null,
            "display": null,
            "flex": null,
            "flex_flow": null,
            "grid_area": null,
            "grid_auto_columns": null,
            "grid_auto_flow": null,
            "grid_auto_rows": null,
            "grid_column": null,
            "grid_gap": null,
            "grid_row": null,
            "grid_template_areas": null,
            "grid_template_columns": null,
            "grid_template_rows": null,
            "height": null,
            "justify_content": null,
            "justify_items": null,
            "left": null,
            "margin": null,
            "max_height": null,
            "max_width": null,
            "min_height": null,
            "min_width": null,
            "object_fit": null,
            "object_position": null,
            "order": null,
            "overflow": null,
            "overflow_x": null,
            "overflow_y": null,
            "padding": null,
            "right": null,
            "top": null,
            "visibility": null,
            "width": null
          }
        },
        "7787254a305c4862babc3f9d8da5d2d2": {
          "model_module": "@jupyter-widgets/controls",
          "model_module_version": "1.5.0",
          "model_name": "DescriptionStyleModel",
          "state": {
            "_model_module": "@jupyter-widgets/controls",
            "_model_module_version": "1.5.0",
            "_model_name": "DescriptionStyleModel",
            "_view_count": null,
            "_view_module": "@jupyter-widgets/base",
            "_view_module_version": "1.2.0",
            "_view_name": "StyleView",
            "description_width": ""
          }
        },
        "7cf306a0078b4b349f7a6e072fd93f40": {
          "model_module": "@jupyter-widgets/controls",
          "model_module_version": "1.5.0",
          "model_name": "ProgressStyleModel",
          "state": {
            "_model_module": "@jupyter-widgets/controls",
            "_model_module_version": "1.5.0",
            "_model_name": "ProgressStyleModel",
            "_view_count": null,
            "_view_module": "@jupyter-widgets/base",
            "_view_module_version": "1.2.0",
            "_view_name": "StyleView",
            "bar_color": null,
            "description_width": ""
          }
        },
        "7e81df1382d84b35acf6efa1b0a04c38": {
          "model_module": "@jupyter-widgets/controls",
          "model_module_version": "1.5.0",
          "model_name": "DescriptionStyleModel",
          "state": {
            "_model_module": "@jupyter-widgets/controls",
            "_model_module_version": "1.5.0",
            "_model_name": "DescriptionStyleModel",
            "_view_count": null,
            "_view_module": "@jupyter-widgets/base",
            "_view_module_version": "1.2.0",
            "_view_name": "StyleView",
            "description_width": ""
          }
        },
        "82364d2db21d44eeb6fe68c635e29857": {
          "model_module": "@jupyter-widgets/controls",
          "model_module_version": "1.5.0",
          "model_name": "HTMLModel",
          "state": {
            "_dom_classes": [],
            "_model_module": "@jupyter-widgets/controls",
            "_model_module_version": "1.5.0",
            "_model_name": "HTMLModel",
            "_view_count": null,
            "_view_module": "@jupyter-widgets/controls",
            "_view_module_version": "1.5.0",
            "_view_name": "HTMLView",
            "description": "",
            "description_tooltip": null,
            "layout": "IPY_MODEL_f8ea664da7334f2c861c9175f02e3216",
            "placeholder": "​",
            "style": "IPY_MODEL_7e81df1382d84b35acf6efa1b0a04c38",
            "value": "Iteration: 100%"
          }
        },
        "839b22bd1c0246d6a50bcd40d68ea4bb": {
          "model_module": "@jupyter-widgets/controls",
          "model_module_version": "1.5.0",
          "model_name": "DescriptionStyleModel",
          "state": {
            "_model_module": "@jupyter-widgets/controls",
            "_model_module_version": "1.5.0",
            "_model_name": "DescriptionStyleModel",
            "_view_count": null,
            "_view_module": "@jupyter-widgets/base",
            "_view_module_version": "1.2.0",
            "_view_name": "StyleView",
            "description_width": ""
          }
        },
        "8b1e5eb683964319b5db808f0e47a369": {
          "model_module": "@jupyter-widgets/base",
          "model_module_version": "1.2.0",
          "model_name": "LayoutModel",
          "state": {
            "_model_module": "@jupyter-widgets/base",
            "_model_module_version": "1.2.0",
            "_model_name": "LayoutModel",
            "_view_count": null,
            "_view_module": "@jupyter-widgets/base",
            "_view_module_version": "1.2.0",
            "_view_name": "LayoutView",
            "align_content": null,
            "align_items": null,
            "align_self": null,
            "border": null,
            "bottom": null,
            "display": null,
            "flex": null,
            "flex_flow": null,
            "grid_area": null,
            "grid_auto_columns": null,
            "grid_auto_flow": null,
            "grid_auto_rows": null,
            "grid_column": null,
            "grid_gap": null,
            "grid_row": null,
            "grid_template_areas": null,
            "grid_template_columns": null,
            "grid_template_rows": null,
            "height": null,
            "justify_content": null,
            "justify_items": null,
            "left": null,
            "margin": null,
            "max_height": null,
            "max_width": null,
            "min_height": null,
            "min_width": null,
            "object_fit": null,
            "object_position": null,
            "order": null,
            "overflow": null,
            "overflow_x": null,
            "overflow_y": null,
            "padding": null,
            "right": null,
            "top": null,
            "visibility": null,
            "width": null
          }
        },
        "8b5cd0f2d489420bbbaeb6a9c7cbb348": {
          "model_module": "@jupyter-widgets/controls",
          "model_module_version": "1.5.0",
          "model_name": "HTMLModel",
          "state": {
            "_dom_classes": [],
            "_model_module": "@jupyter-widgets/controls",
            "_model_module_version": "1.5.0",
            "_model_name": "HTMLModel",
            "_view_count": null,
            "_view_module": "@jupyter-widgets/controls",
            "_view_module_version": "1.5.0",
            "_view_name": "HTMLView",
            "description": "",
            "description_tooltip": null,
            "layout": "IPY_MODEL_db6ed9e300414e619a0d1971937af500",
            "placeholder": "​",
            "style": "IPY_MODEL_37725030d0a546a1b8883a02744fc8f8",
            "value": " 385/385 [00:00&lt;00:00, 24.6kB/s]"
          }
        },
        "8cbeff1d5fd0489d9b3efe4ef8d6a026": {
          "model_module": "@jupyter-widgets/base",
          "model_module_version": "1.2.0",
          "model_name": "LayoutModel",
          "state": {
            "_model_module": "@jupyter-widgets/base",
            "_model_module_version": "1.2.0",
            "_model_name": "LayoutModel",
            "_view_count": null,
            "_view_module": "@jupyter-widgets/base",
            "_view_module_version": "1.2.0",
            "_view_name": "LayoutView",
            "align_content": null,
            "align_items": null,
            "align_self": null,
            "border": null,
            "bottom": null,
            "display": null,
            "flex": null,
            "flex_flow": null,
            "grid_area": null,
            "grid_auto_columns": null,
            "grid_auto_flow": null,
            "grid_auto_rows": null,
            "grid_column": null,
            "grid_gap": null,
            "grid_row": null,
            "grid_template_areas": null,
            "grid_template_columns": null,
            "grid_template_rows": null,
            "height": null,
            "justify_content": null,
            "justify_items": null,
            "left": null,
            "margin": null,
            "max_height": null,
            "max_width": null,
            "min_height": null,
            "min_width": null,
            "object_fit": null,
            "object_position": null,
            "order": null,
            "overflow": null,
            "overflow_x": null,
            "overflow_y": null,
            "padding": null,
            "right": null,
            "top": null,
            "visibility": null,
            "width": null
          }
        },
        "8d30809a1d1c425c8ea0e32c885242c7": {
          "model_module": "@jupyter-widgets/controls",
          "model_module_version": "1.5.0",
          "model_name": "HTMLModel",
          "state": {
            "_dom_classes": [],
            "_model_module": "@jupyter-widgets/controls",
            "_model_module_version": "1.5.0",
            "_model_name": "HTMLModel",
            "_view_count": null,
            "_view_module": "@jupyter-widgets/controls",
            "_view_module_version": "1.5.0",
            "_view_name": "HTMLView",
            "description": "",
            "description_tooltip": null,
            "layout": "IPY_MODEL_da1fa06b53114129b4602730558d2bed",
            "placeholder": "​",
            "style": "IPY_MODEL_9b13b1f8609448e6990a7405496af239",
            "value": "Iteration: 100%"
          }
        },
        "91b6fe649ea0442ba169d0c045d78f0a": {
          "model_module": "@jupyter-widgets/controls",
          "model_module_version": "1.5.0",
          "model_name": "FloatProgressModel",
          "state": {
            "_dom_classes": [],
            "_model_module": "@jupyter-widgets/controls",
            "_model_module_version": "1.5.0",
            "_model_name": "FloatProgressModel",
            "_view_count": null,
            "_view_module": "@jupyter-widgets/controls",
            "_view_module_version": "1.5.0",
            "_view_name": "ProgressView",
            "bar_style": "success",
            "description": "",
            "description_tooltip": null,
            "layout": "IPY_MODEL_69afcd870e4b4c5fb1927e7929bb0e8f",
            "max": 210,
            "min": 0,
            "orientation": "horizontal",
            "style": "IPY_MODEL_bee3edb00a154a8b9126c8a9fef6276c",
            "value": 210
          }
        },
        "9ad8b972c5994791a97a52d30dd07304": {
          "model_module": "@jupyter-widgets/controls",
          "model_module_version": "1.5.0",
          "model_name": "DescriptionStyleModel",
          "state": {
            "_model_module": "@jupyter-widgets/controls",
            "_model_module_version": "1.5.0",
            "_model_name": "DescriptionStyleModel",
            "_view_count": null,
            "_view_module": "@jupyter-widgets/base",
            "_view_module_version": "1.2.0",
            "_view_name": "StyleView",
            "description_width": ""
          }
        },
        "9b13b1f8609448e6990a7405496af239": {
          "model_module": "@jupyter-widgets/controls",
          "model_module_version": "1.5.0",
          "model_name": "DescriptionStyleModel",
          "state": {
            "_model_module": "@jupyter-widgets/controls",
            "_model_module_version": "1.5.0",
            "_model_name": "DescriptionStyleModel",
            "_view_count": null,
            "_view_module": "@jupyter-widgets/base",
            "_view_module_version": "1.2.0",
            "_view_name": "StyleView",
            "description_width": ""
          }
        },
        "9d7b2d33add243988b43ecee32143e50": {
          "model_module": "@jupyter-widgets/controls",
          "model_module_version": "1.5.0",
          "model_name": "HTMLModel",
          "state": {
            "_dom_classes": [],
            "_model_module": "@jupyter-widgets/controls",
            "_model_module_version": "1.5.0",
            "_model_name": "HTMLModel",
            "_view_count": null,
            "_view_module": "@jupyter-widgets/controls",
            "_view_module_version": "1.5.0",
            "_view_name": "HTMLView",
            "description": "",
            "description_tooltip": null,
            "layout": "IPY_MODEL_aacf4f6809244c4dbe6c570b6490321a",
            "placeholder": "​",
            "style": "IPY_MODEL_4a9258d8db4043a69010e3c84f86c96a",
            "value": " 210/210 [01:59&lt;00:00,  1.79it/s]"
          }
        },
        "a07b5674ef974090a7253e4bba4c984d": {
          "model_module": "@jupyter-widgets/base",
          "model_module_version": "1.2.0",
          "model_name": "LayoutModel",
          "state": {
            "_model_module": "@jupyter-widgets/base",
            "_model_module_version": "1.2.0",
            "_model_name": "LayoutModel",
            "_view_count": null,
            "_view_module": "@jupyter-widgets/base",
            "_view_module_version": "1.2.0",
            "_view_name": "LayoutView",
            "align_content": null,
            "align_items": null,
            "align_self": null,
            "border": null,
            "bottom": null,
            "display": null,
            "flex": null,
            "flex_flow": null,
            "grid_area": null,
            "grid_auto_columns": null,
            "grid_auto_flow": null,
            "grid_auto_rows": null,
            "grid_column": null,
            "grid_gap": null,
            "grid_row": null,
            "grid_template_areas": null,
            "grid_template_columns": null,
            "grid_template_rows": null,
            "height": null,
            "justify_content": null,
            "justify_items": null,
            "left": null,
            "margin": null,
            "max_height": null,
            "max_width": null,
            "min_height": null,
            "min_width": null,
            "object_fit": null,
            "object_position": null,
            "order": null,
            "overflow": null,
            "overflow_x": null,
            "overflow_y": null,
            "padding": null,
            "right": null,
            "top": null,
            "visibility": null,
            "width": null
          }
        },
        "a543067299fd4262aac388c07c27201d": {
          "model_module": "@jupyter-widgets/controls",
          "model_module_version": "1.5.0",
          "model_name": "ProgressStyleModel",
          "state": {
            "_model_module": "@jupyter-widgets/controls",
            "_model_module_version": "1.5.0",
            "_model_name": "ProgressStyleModel",
            "_view_count": null,
            "_view_module": "@jupyter-widgets/base",
            "_view_module_version": "1.2.0",
            "_view_name": "StyleView",
            "bar_color": null,
            "description_width": ""
          }
        },
        "a5a6423d37cc4e659b8ef14b357d3e87": {
          "model_module": "@jupyter-widgets/base",
          "model_module_version": "1.2.0",
          "model_name": "LayoutModel",
          "state": {
            "_model_module": "@jupyter-widgets/base",
            "_model_module_version": "1.2.0",
            "_model_name": "LayoutModel",
            "_view_count": null,
            "_view_module": "@jupyter-widgets/base",
            "_view_module_version": "1.2.0",
            "_view_name": "LayoutView",
            "align_content": null,
            "align_items": null,
            "align_self": null,
            "border": null,
            "bottom": null,
            "display": null,
            "flex": null,
            "flex_flow": null,
            "grid_area": null,
            "grid_auto_columns": null,
            "grid_auto_flow": null,
            "grid_auto_rows": null,
            "grid_column": null,
            "grid_gap": null,
            "grid_row": null,
            "grid_template_areas": null,
            "grid_template_columns": null,
            "grid_template_rows": null,
            "height": null,
            "justify_content": null,
            "justify_items": null,
            "left": null,
            "margin": null,
            "max_height": null,
            "max_width": null,
            "min_height": null,
            "min_width": null,
            "object_fit": null,
            "object_position": null,
            "order": null,
            "overflow": null,
            "overflow_x": null,
            "overflow_y": null,
            "padding": null,
            "right": null,
            "top": null,
            "visibility": null,
            "width": null
          }
        },
        "a69bab08571945138a51ab69ade1616c": {
          "model_module": "@jupyter-widgets/base",
          "model_module_version": "1.2.0",
          "model_name": "LayoutModel",
          "state": {
            "_model_module": "@jupyter-widgets/base",
            "_model_module_version": "1.2.0",
            "_model_name": "LayoutModel",
            "_view_count": null,
            "_view_module": "@jupyter-widgets/base",
            "_view_module_version": "1.2.0",
            "_view_name": "LayoutView",
            "align_content": null,
            "align_items": null,
            "align_self": null,
            "border": null,
            "bottom": null,
            "display": null,
            "flex": null,
            "flex_flow": null,
            "grid_area": null,
            "grid_auto_columns": null,
            "grid_auto_flow": null,
            "grid_auto_rows": null,
            "grid_column": null,
            "grid_gap": null,
            "grid_row": null,
            "grid_template_areas": null,
            "grid_template_columns": null,
            "grid_template_rows": null,
            "height": null,
            "justify_content": null,
            "justify_items": null,
            "left": null,
            "margin": null,
            "max_height": null,
            "max_width": null,
            "min_height": null,
            "min_width": null,
            "object_fit": null,
            "object_position": null,
            "order": null,
            "overflow": null,
            "overflow_x": null,
            "overflow_y": null,
            "padding": null,
            "right": null,
            "top": null,
            "visibility": null,
            "width": null
          }
        },
        "a7f85d99198c4f108962707d6ee2faae": {
          "model_module": "@jupyter-widgets/base",
          "model_module_version": "1.2.0",
          "model_name": "LayoutModel",
          "state": {
            "_model_module": "@jupyter-widgets/base",
            "_model_module_version": "1.2.0",
            "_model_name": "LayoutModel",
            "_view_count": null,
            "_view_module": "@jupyter-widgets/base",
            "_view_module_version": "1.2.0",
            "_view_name": "LayoutView",
            "align_content": null,
            "align_items": null,
            "align_self": null,
            "border": null,
            "bottom": null,
            "display": null,
            "flex": null,
            "flex_flow": null,
            "grid_area": null,
            "grid_auto_columns": null,
            "grid_auto_flow": null,
            "grid_auto_rows": null,
            "grid_column": null,
            "grid_gap": null,
            "grid_row": null,
            "grid_template_areas": null,
            "grid_template_columns": null,
            "grid_template_rows": null,
            "height": null,
            "justify_content": null,
            "justify_items": null,
            "left": null,
            "margin": null,
            "max_height": null,
            "max_width": null,
            "min_height": null,
            "min_width": null,
            "object_fit": null,
            "object_position": null,
            "order": null,
            "overflow": null,
            "overflow_x": null,
            "overflow_y": null,
            "padding": null,
            "right": null,
            "top": null,
            "visibility": null,
            "width": null
          }
        },
        "aacf4f6809244c4dbe6c570b6490321a": {
          "model_module": "@jupyter-widgets/base",
          "model_module_version": "1.2.0",
          "model_name": "LayoutModel",
          "state": {
            "_model_module": "@jupyter-widgets/base",
            "_model_module_version": "1.2.0",
            "_model_name": "LayoutModel",
            "_view_count": null,
            "_view_module": "@jupyter-widgets/base",
            "_view_module_version": "1.2.0",
            "_view_name": "LayoutView",
            "align_content": null,
            "align_items": null,
            "align_self": null,
            "border": null,
            "bottom": null,
            "display": null,
            "flex": null,
            "flex_flow": null,
            "grid_area": null,
            "grid_auto_columns": null,
            "grid_auto_flow": null,
            "grid_auto_rows": null,
            "grid_column": null,
            "grid_gap": null,
            "grid_row": null,
            "grid_template_areas": null,
            "grid_template_columns": null,
            "grid_template_rows": null,
            "height": null,
            "justify_content": null,
            "justify_items": null,
            "left": null,
            "margin": null,
            "max_height": null,
            "max_width": null,
            "min_height": null,
            "min_width": null,
            "object_fit": null,
            "object_position": null,
            "order": null,
            "overflow": null,
            "overflow_x": null,
            "overflow_y": null,
            "padding": null,
            "right": null,
            "top": null,
            "visibility": null,
            "width": null
          }
        },
        "abd6b30ac8e14996b70992ef2628725a": {
          "model_module": "@jupyter-widgets/controls",
          "model_module_version": "1.5.0",
          "model_name": "HBoxModel",
          "state": {
            "_dom_classes": [],
            "_model_module": "@jupyter-widgets/controls",
            "_model_module_version": "1.5.0",
            "_model_name": "HBoxModel",
            "_view_count": null,
            "_view_module": "@jupyter-widgets/controls",
            "_view_module_version": "1.5.0",
            "_view_name": "HBoxView",
            "box_style": "",
            "children": [
              "IPY_MODEL_6ababfb0976b45279fb21bde3a819457",
              "IPY_MODEL_d07864eccfce4e2f9284e4e442a26175",
              "IPY_MODEL_3d7fff4e106941c3b28046c3862578c2"
            ],
            "layout": "IPY_MODEL_a5a6423d37cc4e659b8ef14b357d3e87"
          }
        },
        "afdbf660ebce46d4b0d8017161a4bfed": {
          "model_module": "@jupyter-widgets/base",
          "model_module_version": "1.2.0",
          "model_name": "LayoutModel",
          "state": {
            "_model_module": "@jupyter-widgets/base",
            "_model_module_version": "1.2.0",
            "_model_name": "LayoutModel",
            "_view_count": null,
            "_view_module": "@jupyter-widgets/base",
            "_view_module_version": "1.2.0",
            "_view_name": "LayoutView",
            "align_content": null,
            "align_items": null,
            "align_self": null,
            "border": null,
            "bottom": null,
            "display": null,
            "flex": null,
            "flex_flow": null,
            "grid_area": null,
            "grid_auto_columns": null,
            "grid_auto_flow": null,
            "grid_auto_rows": null,
            "grid_column": null,
            "grid_gap": null,
            "grid_row": null,
            "grid_template_areas": null,
            "grid_template_columns": null,
            "grid_template_rows": null,
            "height": null,
            "justify_content": null,
            "justify_items": null,
            "left": null,
            "margin": null,
            "max_height": null,
            "max_width": null,
            "min_height": null,
            "min_width": null,
            "object_fit": null,
            "object_position": null,
            "order": null,
            "overflow": null,
            "overflow_x": null,
            "overflow_y": null,
            "padding": null,
            "right": null,
            "top": null,
            "visibility": null,
            "width": null
          }
        },
        "b84fba2670ee4e1983789a9d8f0ae3be": {
          "model_module": "@jupyter-widgets/base",
          "model_module_version": "1.2.0",
          "model_name": "LayoutModel",
          "state": {
            "_model_module": "@jupyter-widgets/base",
            "_model_module_version": "1.2.0",
            "_model_name": "LayoutModel",
            "_view_count": null,
            "_view_module": "@jupyter-widgets/base",
            "_view_module_version": "1.2.0",
            "_view_name": "LayoutView",
            "align_content": null,
            "align_items": null,
            "align_self": null,
            "border": null,
            "bottom": null,
            "display": null,
            "flex": null,
            "flex_flow": null,
            "grid_area": null,
            "grid_auto_columns": null,
            "grid_auto_flow": null,
            "grid_auto_rows": null,
            "grid_column": null,
            "grid_gap": null,
            "grid_row": null,
            "grid_template_areas": null,
            "grid_template_columns": null,
            "grid_template_rows": null,
            "height": null,
            "justify_content": null,
            "justify_items": null,
            "left": null,
            "margin": null,
            "max_height": null,
            "max_width": null,
            "min_height": null,
            "min_width": null,
            "object_fit": null,
            "object_position": null,
            "order": null,
            "overflow": null,
            "overflow_x": null,
            "overflow_y": null,
            "padding": null,
            "right": null,
            "top": null,
            "visibility": null,
            "width": null
          }
        },
        "ba72adf1310648a9a803502e24768344": {
          "model_module": "@jupyter-widgets/controls",
          "model_module_version": "1.5.0",
          "model_name": "ProgressStyleModel",
          "state": {
            "_model_module": "@jupyter-widgets/controls",
            "_model_module_version": "1.5.0",
            "_model_name": "ProgressStyleModel",
            "_view_count": null,
            "_view_module": "@jupyter-widgets/base",
            "_view_module_version": "1.2.0",
            "_view_name": "StyleView",
            "bar_color": null,
            "description_width": ""
          }
        },
        "bae68c331a944fbba812b6cbeab0d068": {
          "model_module": "@jupyter-widgets/controls",
          "model_module_version": "1.5.0",
          "model_name": "HBoxModel",
          "state": {
            "_dom_classes": [],
            "_model_module": "@jupyter-widgets/controls",
            "_model_module_version": "1.5.0",
            "_model_name": "HBoxModel",
            "_view_count": null,
            "_view_module": "@jupyter-widgets/controls",
            "_view_module_version": "1.5.0",
            "_view_name": "HBoxView",
            "box_style": "",
            "children": [
              "IPY_MODEL_f62734c8d18649b6a72e6d24f7c8eb87",
              "IPY_MODEL_91b6fe649ea0442ba169d0c045d78f0a",
              "IPY_MODEL_9d7b2d33add243988b43ecee32143e50"
            ],
            "layout": "IPY_MODEL_33e1b389283e4100991e5b485cd6609a"
          }
        },
        "bb79717406df486ba95c8a8f6f271048": {
          "model_module": "@jupyter-widgets/controls",
          "model_module_version": "1.5.0",
          "model_name": "HTMLModel",
          "state": {
            "_dom_classes": [],
            "_model_module": "@jupyter-widgets/controls",
            "_model_module_version": "1.5.0",
            "_model_name": "HTMLModel",
            "_view_count": null,
            "_view_module": "@jupyter-widgets/controls",
            "_view_module_version": "1.5.0",
            "_view_name": "HTMLView",
            "description": "",
            "description_tooltip": null,
            "layout": "IPY_MODEL_181573c0e36c4440b6ac3cf892857850",
            "placeholder": "​",
            "style": "IPY_MODEL_4a9c02ee94de49b390d6af891ff9849e",
            "value": "Downloading pytorch_model.bin: 100%"
          }
        },
        "bda548cdcb7147608d9f7fe4b3d3c7c1": {
          "model_module": "@jupyter-widgets/controls",
          "model_module_version": "1.5.0",
          "model_name": "DescriptionStyleModel",
          "state": {
            "_model_module": "@jupyter-widgets/controls",
            "_model_module_version": "1.5.0",
            "_model_name": "DescriptionStyleModel",
            "_view_count": null,
            "_view_module": "@jupyter-widgets/base",
            "_view_module_version": "1.2.0",
            "_view_name": "StyleView",
            "description_width": ""
          }
        },
        "bee3edb00a154a8b9126c8a9fef6276c": {
          "model_module": "@jupyter-widgets/controls",
          "model_module_version": "1.5.0",
          "model_name": "ProgressStyleModel",
          "state": {
            "_model_module": "@jupyter-widgets/controls",
            "_model_module_version": "1.5.0",
            "_model_name": "ProgressStyleModel",
            "_view_count": null,
            "_view_module": "@jupyter-widgets/base",
            "_view_module_version": "1.2.0",
            "_view_name": "StyleView",
            "bar_color": null,
            "description_width": ""
          }
        },
        "bfec7d0b33534b2eab51e945f922b084": {
          "model_module": "@jupyter-widgets/controls",
          "model_module_version": "1.5.0",
          "model_name": "FloatProgressModel",
          "state": {
            "_dom_classes": [],
            "_model_module": "@jupyter-widgets/controls",
            "_model_module_version": "1.5.0",
            "_model_name": "FloatProgressModel",
            "_view_count": null,
            "_view_module": "@jupyter-widgets/controls",
            "_view_module_version": "1.5.0",
            "_view_name": "ProgressView",
            "bar_style": "success",
            "description": "",
            "description_tooltip": null,
            "layout": "IPY_MODEL_0ee2116da8394f128f10806d04fd2e6b",
            "max": 440474434,
            "min": 0,
            "orientation": "horizontal",
            "style": "IPY_MODEL_26acf8af14fc4fda8c3a0a0f06bed55b",
            "value": 440474434
          }
        },
        "c2b805a50b9a4c069b20632c05db9b37": {
          "model_module": "@jupyter-widgets/controls",
          "model_module_version": "1.5.0",
          "model_name": "HTMLModel",
          "state": {
            "_dom_classes": [],
            "_model_module": "@jupyter-widgets/controls",
            "_model_module_version": "1.5.0",
            "_model_name": "HTMLModel",
            "_view_count": null,
            "_view_module": "@jupyter-widgets/controls",
            "_view_module_version": "1.5.0",
            "_view_name": "HTMLView",
            "description": "",
            "description_tooltip": null,
            "layout": "IPY_MODEL_a69bab08571945138a51ab69ade1616c",
            "placeholder": "​",
            "style": "IPY_MODEL_0389b0758e7d403fab50a960675f4e0c",
            "value": "Downloading (…)solve/main/vocab.txt: 100%"
          }
        },
        "c4cca207b3844eb5aec1d9e12521e41c": {
          "model_module": "@jupyter-widgets/controls",
          "model_module_version": "1.5.0",
          "model_name": "HBoxModel",
          "state": {
            "_dom_classes": [],
            "_model_module": "@jupyter-widgets/controls",
            "_model_module_version": "1.5.0",
            "_model_name": "HBoxModel",
            "_view_count": null,
            "_view_module": "@jupyter-widgets/controls",
            "_view_module_version": "1.5.0",
            "_view_name": "HBoxView",
            "box_style": "",
            "children": [
              "IPY_MODEL_8d30809a1d1c425c8ea0e32c885242c7",
              "IPY_MODEL_e64aa46f3afc493894507784cd8400da",
              "IPY_MODEL_065af2400d7d42a9b1a27e1c8b9ca320"
            ],
            "layout": "IPY_MODEL_afdbf660ebce46d4b0d8017161a4bfed"
          }
        },
        "c530978ffb2c41fba83e1006b22c32ce": {
          "model_module": "@jupyter-widgets/controls",
          "model_module_version": "1.5.0",
          "model_name": "DescriptionStyleModel",
          "state": {
            "_model_module": "@jupyter-widgets/controls",
            "_model_module_version": "1.5.0",
            "_model_name": "DescriptionStyleModel",
            "_view_count": null,
            "_view_module": "@jupyter-widgets/base",
            "_view_module_version": "1.2.0",
            "_view_name": "StyleView",
            "description_width": ""
          }
        },
        "c612edac0a1a47d39fbf8625fc46025e": {
          "model_module": "@jupyter-widgets/base",
          "model_module_version": "1.2.0",
          "model_name": "LayoutModel",
          "state": {
            "_model_module": "@jupyter-widgets/base",
            "_model_module_version": "1.2.0",
            "_model_name": "LayoutModel",
            "_view_count": null,
            "_view_module": "@jupyter-widgets/base",
            "_view_module_version": "1.2.0",
            "_view_name": "LayoutView",
            "align_content": null,
            "align_items": null,
            "align_self": null,
            "border": null,
            "bottom": null,
            "display": null,
            "flex": null,
            "flex_flow": null,
            "grid_area": null,
            "grid_auto_columns": null,
            "grid_auto_flow": null,
            "grid_auto_rows": null,
            "grid_column": null,
            "grid_gap": null,
            "grid_row": null,
            "grid_template_areas": null,
            "grid_template_columns": null,
            "grid_template_rows": null,
            "height": null,
            "justify_content": null,
            "justify_items": null,
            "left": null,
            "margin": null,
            "max_height": null,
            "max_width": null,
            "min_height": null,
            "min_width": null,
            "object_fit": null,
            "object_position": null,
            "order": null,
            "overflow": null,
            "overflow_x": null,
            "overflow_y": null,
            "padding": null,
            "right": null,
            "top": null,
            "visibility": null,
            "width": null
          }
        },
        "c8fbc3745e0e4d4ca464d38f254611fa": {
          "model_module": "@jupyter-widgets/controls",
          "model_module_version": "1.5.0",
          "model_name": "DescriptionStyleModel",
          "state": {
            "_model_module": "@jupyter-widgets/controls",
            "_model_module_version": "1.5.0",
            "_model_name": "DescriptionStyleModel",
            "_view_count": null,
            "_view_module": "@jupyter-widgets/base",
            "_view_module_version": "1.2.0",
            "_view_name": "StyleView",
            "description_width": ""
          }
        },
        "cabd34c34b7e464493e42c3d065d157b": {
          "model_module": "@jupyter-widgets/base",
          "model_module_version": "1.2.0",
          "model_name": "LayoutModel",
          "state": {
            "_model_module": "@jupyter-widgets/base",
            "_model_module_version": "1.2.0",
            "_model_name": "LayoutModel",
            "_view_count": null,
            "_view_module": "@jupyter-widgets/base",
            "_view_module_version": "1.2.0",
            "_view_name": "LayoutView",
            "align_content": null,
            "align_items": null,
            "align_self": null,
            "border": null,
            "bottom": null,
            "display": null,
            "flex": null,
            "flex_flow": null,
            "grid_area": null,
            "grid_auto_columns": null,
            "grid_auto_flow": null,
            "grid_auto_rows": null,
            "grid_column": null,
            "grid_gap": null,
            "grid_row": null,
            "grid_template_areas": null,
            "grid_template_columns": null,
            "grid_template_rows": null,
            "height": null,
            "justify_content": null,
            "justify_items": null,
            "left": null,
            "margin": null,
            "max_height": null,
            "max_width": null,
            "min_height": null,
            "min_width": null,
            "object_fit": null,
            "object_position": null,
            "order": null,
            "overflow": null,
            "overflow_x": null,
            "overflow_y": null,
            "padding": null,
            "right": null,
            "top": null,
            "visibility": null,
            "width": null
          }
        },
        "ceb38af8ef444eb9abd89899aba9a6bc": {
          "model_module": "@jupyter-widgets/controls",
          "model_module_version": "1.5.0",
          "model_name": "HBoxModel",
          "state": {
            "_dom_classes": [],
            "_model_module": "@jupyter-widgets/controls",
            "_model_module_version": "1.5.0",
            "_model_name": "HBoxModel",
            "_view_count": null,
            "_view_module": "@jupyter-widgets/controls",
            "_view_module_version": "1.5.0",
            "_view_name": "HBoxView",
            "box_style": "",
            "children": [
              "IPY_MODEL_011abdc341354103a51ec46bee44e013",
              "IPY_MODEL_f6fd951792f746f0a852433a2335daab",
              "IPY_MODEL_8b5cd0f2d489420bbbaeb6a9c7cbb348"
            ],
            "layout": "IPY_MODEL_230c2b1cbbd54b0897b8bc375b5f34b7"
          }
        },
        "d07864eccfce4e2f9284e4e442a26175": {
          "model_module": "@jupyter-widgets/controls",
          "model_module_version": "1.5.0",
          "model_name": "FloatProgressModel",
          "state": {
            "_dom_classes": [],
            "_model_module": "@jupyter-widgets/controls",
            "_model_module_version": "1.5.0",
            "_model_name": "FloatProgressModel",
            "_view_count": null,
            "_view_module": "@jupyter-widgets/controls",
            "_view_module_version": "1.5.0",
            "_view_name": "ProgressView",
            "bar_style": "success",
            "description": "",
            "description_tooltip": null,
            "layout": "IPY_MODEL_f4bd0e29cfcd467889a9411c080b4b76",
            "max": 1575,
            "min": 0,
            "orientation": "horizontal",
            "style": "IPY_MODEL_ba72adf1310648a9a803502e24768344",
            "value": 1575
          }
        },
        "d1a662f112a049a39498d31272521805": {
          "model_module": "@jupyter-widgets/controls",
          "model_module_version": "1.5.0",
          "model_name": "HBoxModel",
          "state": {
            "_dom_classes": [],
            "_model_module": "@jupyter-widgets/controls",
            "_model_module_version": "1.5.0",
            "_model_name": "HBoxModel",
            "_view_count": null,
            "_view_module": "@jupyter-widgets/controls",
            "_view_module_version": "1.5.0",
            "_view_name": "HBoxView",
            "box_style": "",
            "children": [
              "IPY_MODEL_54345cec61d1425f943da57f01203bb9",
              "IPY_MODEL_3558f89d9bd040d394f5583945967dd5",
              "IPY_MODEL_d41a916a75134801b33aa332c161203b"
            ],
            "layout": "IPY_MODEL_42901fde28db4377a9f7b67da4e42930"
          }
        },
        "d2416100377543f0b1a098dcbcc9deee": {
          "model_module": "@jupyter-widgets/controls",
          "model_module_version": "1.5.0",
          "model_name": "ProgressStyleModel",
          "state": {
            "_model_module": "@jupyter-widgets/controls",
            "_model_module_version": "1.5.0",
            "_model_name": "ProgressStyleModel",
            "_view_count": null,
            "_view_module": "@jupyter-widgets/base",
            "_view_module_version": "1.2.0",
            "_view_name": "StyleView",
            "bar_color": null,
            "description_width": ""
          }
        },
        "d367bb7fcd81422d88e954b7885f54d3": {
          "model_module": "@jupyter-widgets/base",
          "model_module_version": "1.2.0",
          "model_name": "LayoutModel",
          "state": {
            "_model_module": "@jupyter-widgets/base",
            "_model_module_version": "1.2.0",
            "_model_name": "LayoutModel",
            "_view_count": null,
            "_view_module": "@jupyter-widgets/base",
            "_view_module_version": "1.2.0",
            "_view_name": "LayoutView",
            "align_content": null,
            "align_items": null,
            "align_self": null,
            "border": null,
            "bottom": null,
            "display": null,
            "flex": null,
            "flex_flow": null,
            "grid_area": null,
            "grid_auto_columns": null,
            "grid_auto_flow": null,
            "grid_auto_rows": null,
            "grid_column": null,
            "grid_gap": null,
            "grid_row": null,
            "grid_template_areas": null,
            "grid_template_columns": null,
            "grid_template_rows": null,
            "height": null,
            "justify_content": null,
            "justify_items": null,
            "left": null,
            "margin": null,
            "max_height": null,
            "max_width": null,
            "min_height": null,
            "min_width": null,
            "object_fit": null,
            "object_position": null,
            "order": null,
            "overflow": null,
            "overflow_x": null,
            "overflow_y": null,
            "padding": null,
            "right": null,
            "top": null,
            "visibility": null,
            "width": null
          }
        },
        "d41a916a75134801b33aa332c161203b": {
          "model_module": "@jupyter-widgets/controls",
          "model_module_version": "1.5.0",
          "model_name": "HTMLModel",
          "state": {
            "_dom_classes": [],
            "_model_module": "@jupyter-widgets/controls",
            "_model_module_version": "1.5.0",
            "_model_name": "HTMLModel",
            "_view_count": null,
            "_view_module": "@jupyter-widgets/controls",
            "_view_module_version": "1.5.0",
            "_view_name": "HTMLView",
            "description": "",
            "description_tooltip": null,
            "layout": "IPY_MODEL_6af90fc48ab84945bade7f17cbf9fba7",
            "placeholder": "​",
            "style": "IPY_MODEL_e8ba970549224e579447ee2fadae2a69",
            "value": " 210/210 [01:59&lt;00:00,  1.72it/s]"
          }
        },
        "d47dc52a798a4212b7ca567333961785": {
          "model_module": "@jupyter-widgets/base",
          "model_module_version": "1.2.0",
          "model_name": "LayoutModel",
          "state": {
            "_model_module": "@jupyter-widgets/base",
            "_model_module_version": "1.2.0",
            "_model_name": "LayoutModel",
            "_view_count": null,
            "_view_module": "@jupyter-widgets/base",
            "_view_module_version": "1.2.0",
            "_view_name": "LayoutView",
            "align_content": null,
            "align_items": null,
            "align_self": null,
            "border": null,
            "bottom": null,
            "display": null,
            "flex": null,
            "flex_flow": null,
            "grid_area": null,
            "grid_auto_columns": null,
            "grid_auto_flow": null,
            "grid_auto_rows": null,
            "grid_column": null,
            "grid_gap": null,
            "grid_row": null,
            "grid_template_areas": null,
            "grid_template_columns": null,
            "grid_template_rows": null,
            "height": null,
            "justify_content": null,
            "justify_items": null,
            "left": null,
            "margin": null,
            "max_height": null,
            "max_width": null,
            "min_height": null,
            "min_width": null,
            "object_fit": null,
            "object_position": null,
            "order": null,
            "overflow": null,
            "overflow_x": null,
            "overflow_y": null,
            "padding": null,
            "right": null,
            "top": null,
            "visibility": null,
            "width": null
          }
        },
        "d9c6c4f02e8a42eea6a6b0eaa797e0fe": {
          "model_module": "@jupyter-widgets/controls",
          "model_module_version": "1.5.0",
          "model_name": "DescriptionStyleModel",
          "state": {
            "_model_module": "@jupyter-widgets/controls",
            "_model_module_version": "1.5.0",
            "_model_name": "DescriptionStyleModel",
            "_view_count": null,
            "_view_module": "@jupyter-widgets/base",
            "_view_module_version": "1.2.0",
            "_view_name": "StyleView",
            "description_width": ""
          }
        },
        "da14da1e804b4993a56d2770afb0c078": {
          "model_module": "@jupyter-widgets/controls",
          "model_module_version": "1.5.0",
          "model_name": "HBoxModel",
          "state": {
            "_dom_classes": [],
            "_model_module": "@jupyter-widgets/controls",
            "_model_module_version": "1.5.0",
            "_model_name": "HBoxModel",
            "_view_count": null,
            "_view_module": "@jupyter-widgets/controls",
            "_view_module_version": "1.5.0",
            "_view_name": "HBoxView",
            "box_style": "",
            "children": [
              "IPY_MODEL_82364d2db21d44eeb6fe68c635e29857",
              "IPY_MODEL_42c6cb38283f499495d43bd8560f35f8",
              "IPY_MODEL_33a10c50cbc948519feb0d4dad63e285"
            ],
            "layout": "IPY_MODEL_0ab3ca5a90a248f7a4a296c911aed572"
          }
        },
        "da1fa06b53114129b4602730558d2bed": {
          "model_module": "@jupyter-widgets/base",
          "model_module_version": "1.2.0",
          "model_name": "LayoutModel",
          "state": {
            "_model_module": "@jupyter-widgets/base",
            "_model_module_version": "1.2.0",
            "_model_name": "LayoutModel",
            "_view_count": null,
            "_view_module": "@jupyter-widgets/base",
            "_view_module_version": "1.2.0",
            "_view_name": "LayoutView",
            "align_content": null,
            "align_items": null,
            "align_self": null,
            "border": null,
            "bottom": null,
            "display": null,
            "flex": null,
            "flex_flow": null,
            "grid_area": null,
            "grid_auto_columns": null,
            "grid_auto_flow": null,
            "grid_auto_rows": null,
            "grid_column": null,
            "grid_gap": null,
            "grid_row": null,
            "grid_template_areas": null,
            "grid_template_columns": null,
            "grid_template_rows": null,
            "height": null,
            "justify_content": null,
            "justify_items": null,
            "left": null,
            "margin": null,
            "max_height": null,
            "max_width": null,
            "min_height": null,
            "min_width": null,
            "object_fit": null,
            "object_position": null,
            "order": null,
            "overflow": null,
            "overflow_x": null,
            "overflow_y": null,
            "padding": null,
            "right": null,
            "top": null,
            "visibility": null,
            "width": null
          }
        },
        "da9a4c59dd194ea0ab607fd61539aa4e": {
          "model_module": "@jupyter-widgets/base",
          "model_module_version": "1.2.0",
          "model_name": "LayoutModel",
          "state": {
            "_model_module": "@jupyter-widgets/base",
            "_model_module_version": "1.2.0",
            "_model_name": "LayoutModel",
            "_view_count": null,
            "_view_module": "@jupyter-widgets/base",
            "_view_module_version": "1.2.0",
            "_view_name": "LayoutView",
            "align_content": null,
            "align_items": null,
            "align_self": null,
            "border": null,
            "bottom": null,
            "display": null,
            "flex": null,
            "flex_flow": null,
            "grid_area": null,
            "grid_auto_columns": null,
            "grid_auto_flow": null,
            "grid_auto_rows": null,
            "grid_column": null,
            "grid_gap": null,
            "grid_row": null,
            "grid_template_areas": null,
            "grid_template_columns": null,
            "grid_template_rows": null,
            "height": null,
            "justify_content": null,
            "justify_items": null,
            "left": null,
            "margin": null,
            "max_height": null,
            "max_width": null,
            "min_height": null,
            "min_width": null,
            "object_fit": null,
            "object_position": null,
            "order": null,
            "overflow": null,
            "overflow_x": null,
            "overflow_y": null,
            "padding": null,
            "right": null,
            "top": null,
            "visibility": null,
            "width": null
          }
        },
        "db6ed9e300414e619a0d1971937af500": {
          "model_module": "@jupyter-widgets/base",
          "model_module_version": "1.2.0",
          "model_name": "LayoutModel",
          "state": {
            "_model_module": "@jupyter-widgets/base",
            "_model_module_version": "1.2.0",
            "_model_name": "LayoutModel",
            "_view_count": null,
            "_view_module": "@jupyter-widgets/base",
            "_view_module_version": "1.2.0",
            "_view_name": "LayoutView",
            "align_content": null,
            "align_items": null,
            "align_self": null,
            "border": null,
            "bottom": null,
            "display": null,
            "flex": null,
            "flex_flow": null,
            "grid_area": null,
            "grid_auto_columns": null,
            "grid_auto_flow": null,
            "grid_auto_rows": null,
            "grid_column": null,
            "grid_gap": null,
            "grid_row": null,
            "grid_template_areas": null,
            "grid_template_columns": null,
            "grid_template_rows": null,
            "height": null,
            "justify_content": null,
            "justify_items": null,
            "left": null,
            "margin": null,
            "max_height": null,
            "max_width": null,
            "min_height": null,
            "min_width": null,
            "object_fit": null,
            "object_position": null,
            "order": null,
            "overflow": null,
            "overflow_x": null,
            "overflow_y": null,
            "padding": null,
            "right": null,
            "top": null,
            "visibility": null,
            "width": null
          }
        },
        "e45d5e1b73484a88a3d1e0a896a2e737": {
          "model_module": "@jupyter-widgets/controls",
          "model_module_version": "1.5.0",
          "model_name": "DescriptionStyleModel",
          "state": {
            "_model_module": "@jupyter-widgets/controls",
            "_model_module_version": "1.5.0",
            "_model_name": "DescriptionStyleModel",
            "_view_count": null,
            "_view_module": "@jupyter-widgets/base",
            "_view_module_version": "1.2.0",
            "_view_name": "StyleView",
            "description_width": ""
          }
        },
        "e60a3e58c57748e4b0aeb3e27c9f6c2d": {
          "model_module": "@jupyter-widgets/controls",
          "model_module_version": "1.5.0",
          "model_name": "HTMLModel",
          "state": {
            "_dom_classes": [],
            "_model_module": "@jupyter-widgets/controls",
            "_model_module_version": "1.5.0",
            "_model_name": "HTMLModel",
            "_view_count": null,
            "_view_module": "@jupyter-widgets/controls",
            "_view_module_version": "1.5.0",
            "_view_name": "HTMLView",
            "description": "",
            "description_tooltip": null,
            "layout": "IPY_MODEL_6b143104b0954fe792404dc0d6968157",
            "placeholder": "​",
            "style": "IPY_MODEL_292060e55ce444cb936cfe514431eff7",
            "value": " 28.0/28.0 [00:00&lt;00:00, 1.31kB/s]"
          }
        },
        "e64aa46f3afc493894507784cd8400da": {
          "model_module": "@jupyter-widgets/controls",
          "model_module_version": "1.5.0",
          "model_name": "FloatProgressModel",
          "state": {
            "_dom_classes": [],
            "_model_module": "@jupyter-widgets/controls",
            "_model_module_version": "1.5.0",
            "_model_name": "FloatProgressModel",
            "_view_count": null,
            "_view_module": "@jupyter-widgets/controls",
            "_view_module_version": "1.5.0",
            "_view_name": "ProgressView",
            "bar_style": "success",
            "description": "",
            "description_tooltip": null,
            "layout": "IPY_MODEL_540e851d7e314f5c9511d0fee081cb4a",
            "max": 1575,
            "min": 0,
            "orientation": "horizontal",
            "style": "IPY_MODEL_feeee4a9b9a44a12b3423529ae4d86c1",
            "value": 1575
          }
        },
        "e8ba970549224e579447ee2fadae2a69": {
          "model_module": "@jupyter-widgets/controls",
          "model_module_version": "1.5.0",
          "model_name": "DescriptionStyleModel",
          "state": {
            "_model_module": "@jupyter-widgets/controls",
            "_model_module_version": "1.5.0",
            "_model_name": "DescriptionStyleModel",
            "_view_count": null,
            "_view_module": "@jupyter-widgets/base",
            "_view_module_version": "1.2.0",
            "_view_name": "StyleView",
            "description_width": ""
          }
        },
        "e960e588e1e447f49d3a93dedc0f8ca8": {
          "model_module": "@jupyter-widgets/controls",
          "model_module_version": "1.5.0",
          "model_name": "FloatProgressModel",
          "state": {
            "_dom_classes": [],
            "_model_module": "@jupyter-widgets/controls",
            "_model_module_version": "1.5.0",
            "_model_name": "FloatProgressModel",
            "_view_count": null,
            "_view_module": "@jupyter-widgets/controls",
            "_view_module_version": "1.5.0",
            "_view_name": "ProgressView",
            "bar_style": "success",
            "description": "",
            "description_tooltip": null,
            "layout": "IPY_MODEL_19c855b778e84b15afb9e099feb73913",
            "max": 225062,
            "min": 0,
            "orientation": "horizontal",
            "style": "IPY_MODEL_11a66c5fd85041b382e2e6bb438c9e1a",
            "value": 225062
          }
        },
        "e98a4d433d4d4d36b7c7903a8cb08411": {
          "model_module": "@jupyter-widgets/controls",
          "model_module_version": "1.5.0",
          "model_name": "HTMLModel",
          "state": {
            "_dom_classes": [],
            "_model_module": "@jupyter-widgets/controls",
            "_model_module_version": "1.5.0",
            "_model_name": "HTMLModel",
            "_view_count": null,
            "_view_module": "@jupyter-widgets/controls",
            "_view_module_version": "1.5.0",
            "_view_name": "HTMLView",
            "description": "",
            "description_tooltip": null,
            "layout": "IPY_MODEL_c612edac0a1a47d39fbf8625fc46025e",
            "placeholder": "​",
            "style": "IPY_MODEL_d9c6c4f02e8a42eea6a6b0eaa797e0fe",
            "value": "Downloading (…)okenizer_config.json: 100%"
          }
        },
        "eb94c34d3bdf4489920fe5439a07fcb4": {
          "model_module": "@jupyter-widgets/controls",
          "model_module_version": "1.5.0",
          "model_name": "FloatProgressModel",
          "state": {
            "_dom_classes": [],
            "_model_module": "@jupyter-widgets/controls",
            "_model_module_version": "1.5.0",
            "_model_name": "FloatProgressModel",
            "_view_count": null,
            "_view_module": "@jupyter-widgets/controls",
            "_view_module_version": "1.5.0",
            "_view_name": "ProgressView",
            "bar_style": "success",
            "description": "",
            "description_tooltip": null,
            "layout": "IPY_MODEL_3a90b9e7a9984e36807bebe08718148a",
            "max": 3,
            "min": 0,
            "orientation": "horizontal",
            "style": "IPY_MODEL_7cf306a0078b4b349f7a6e072fd93f40",
            "value": 3
          }
        },
        "f1641bb3cccb483eb0cbedcac97095cb": {
          "model_module": "@jupyter-widgets/base",
          "model_module_version": "1.2.0",
          "model_name": "LayoutModel",
          "state": {
            "_model_module": "@jupyter-widgets/base",
            "_model_module_version": "1.2.0",
            "_model_name": "LayoutModel",
            "_view_count": null,
            "_view_module": "@jupyter-widgets/base",
            "_view_module_version": "1.2.0",
            "_view_name": "LayoutView",
            "align_content": null,
            "align_items": null,
            "align_self": null,
            "border": null,
            "bottom": null,
            "display": null,
            "flex": null,
            "flex_flow": null,
            "grid_area": null,
            "grid_auto_columns": null,
            "grid_auto_flow": null,
            "grid_auto_rows": null,
            "grid_column": null,
            "grid_gap": null,
            "grid_row": null,
            "grid_template_areas": null,
            "grid_template_columns": null,
            "grid_template_rows": null,
            "height": null,
            "justify_content": null,
            "justify_items": null,
            "left": null,
            "margin": null,
            "max_height": null,
            "max_width": null,
            "min_height": null,
            "min_width": null,
            "object_fit": null,
            "object_position": null,
            "order": null,
            "overflow": null,
            "overflow_x": null,
            "overflow_y": null,
            "padding": null,
            "right": null,
            "top": null,
            "visibility": null,
            "width": null
          }
        },
        "f2a3264668254ae387a771ddae0901db": {
          "model_module": "@jupyter-widgets/base",
          "model_module_version": "1.2.0",
          "model_name": "LayoutModel",
          "state": {
            "_model_module": "@jupyter-widgets/base",
            "_model_module_version": "1.2.0",
            "_model_name": "LayoutModel",
            "_view_count": null,
            "_view_module": "@jupyter-widgets/base",
            "_view_module_version": "1.2.0",
            "_view_name": "LayoutView",
            "align_content": null,
            "align_items": null,
            "align_self": null,
            "border": null,
            "bottom": null,
            "display": null,
            "flex": null,
            "flex_flow": null,
            "grid_area": null,
            "grid_auto_columns": null,
            "grid_auto_flow": null,
            "grid_auto_rows": null,
            "grid_column": null,
            "grid_gap": null,
            "grid_row": null,
            "grid_template_areas": null,
            "grid_template_columns": null,
            "grid_template_rows": null,
            "height": null,
            "justify_content": null,
            "justify_items": null,
            "left": null,
            "margin": null,
            "max_height": null,
            "max_width": null,
            "min_height": null,
            "min_width": null,
            "object_fit": null,
            "object_position": null,
            "order": null,
            "overflow": null,
            "overflow_x": null,
            "overflow_y": null,
            "padding": null,
            "right": null,
            "top": null,
            "visibility": null,
            "width": null
          }
        },
        "f4bd0e29cfcd467889a9411c080b4b76": {
          "model_module": "@jupyter-widgets/base",
          "model_module_version": "1.2.0",
          "model_name": "LayoutModel",
          "state": {
            "_model_module": "@jupyter-widgets/base",
            "_model_module_version": "1.2.0",
            "_model_name": "LayoutModel",
            "_view_count": null,
            "_view_module": "@jupyter-widgets/base",
            "_view_module_version": "1.2.0",
            "_view_name": "LayoutView",
            "align_content": null,
            "align_items": null,
            "align_self": null,
            "border": null,
            "bottom": null,
            "display": null,
            "flex": null,
            "flex_flow": null,
            "grid_area": null,
            "grid_auto_columns": null,
            "grid_auto_flow": null,
            "grid_auto_rows": null,
            "grid_column": null,
            "grid_gap": null,
            "grid_row": null,
            "grid_template_areas": null,
            "grid_template_columns": null,
            "grid_template_rows": null,
            "height": null,
            "justify_content": null,
            "justify_items": null,
            "left": null,
            "margin": null,
            "max_height": null,
            "max_width": null,
            "min_height": null,
            "min_width": null,
            "object_fit": null,
            "object_position": null,
            "order": null,
            "overflow": null,
            "overflow_x": null,
            "overflow_y": null,
            "padding": null,
            "right": null,
            "top": null,
            "visibility": null,
            "width": null
          }
        },
        "f5acd1a2c4b94c729acd6854825d612c": {
          "model_module": "@jupyter-widgets/controls",
          "model_module_version": "1.5.0",
          "model_name": "HTMLModel",
          "state": {
            "_dom_classes": [],
            "_model_module": "@jupyter-widgets/controls",
            "_model_module_version": "1.5.0",
            "_model_name": "HTMLModel",
            "_view_count": null,
            "_view_module": "@jupyter-widgets/controls",
            "_view_module_version": "1.5.0",
            "_view_name": "HTMLView",
            "description": "",
            "description_tooltip": null,
            "layout": "IPY_MODEL_72c9b83af00c4039a66d78f61db9ce08",
            "placeholder": "​",
            "style": "IPY_MODEL_0040304047b44dd5b9f47beb646a0456",
            "value": " 3/3 [49:42&lt;00:00, 993.94s/it]"
          }
        },
        "f5dc8678b2a8471ba2ff12311ceca63f": {
          "model_module": "@jupyter-widgets/controls",
          "model_module_version": "1.5.0",
          "model_name": "DescriptionStyleModel",
          "state": {
            "_model_module": "@jupyter-widgets/controls",
            "_model_module_version": "1.5.0",
            "_model_name": "DescriptionStyleModel",
            "_view_count": null,
            "_view_module": "@jupyter-widgets/base",
            "_view_module_version": "1.2.0",
            "_view_name": "StyleView",
            "description_width": ""
          }
        },
        "f62734c8d18649b6a72e6d24f7c8eb87": {
          "model_module": "@jupyter-widgets/controls",
          "model_module_version": "1.5.0",
          "model_name": "HTMLModel",
          "state": {
            "_dom_classes": [],
            "_model_module": "@jupyter-widgets/controls",
            "_model_module_version": "1.5.0",
            "_model_name": "HTMLModel",
            "_view_count": null,
            "_view_module": "@jupyter-widgets/controls",
            "_view_module_version": "1.5.0",
            "_view_name": "HTMLView",
            "description": "",
            "description_tooltip": null,
            "layout": "IPY_MODEL_8b1e5eb683964319b5db808f0e47a369",
            "placeholder": "​",
            "style": "IPY_MODEL_9ad8b972c5994791a97a52d30dd07304",
            "value": "Iteration: 100%"
          }
        },
        "f6fd951792f746f0a852433a2335daab": {
          "model_module": "@jupyter-widgets/controls",
          "model_module_version": "1.5.0",
          "model_name": "FloatProgressModel",
          "state": {
            "_dom_classes": [],
            "_model_module": "@jupyter-widgets/controls",
            "_model_module_version": "1.5.0",
            "_model_name": "FloatProgressModel",
            "_view_count": null,
            "_view_module": "@jupyter-widgets/controls",
            "_view_module_version": "1.5.0",
            "_view_name": "ProgressView",
            "bar_style": "success",
            "description": "",
            "description_tooltip": null,
            "layout": "IPY_MODEL_a07b5674ef974090a7253e4bba4c984d",
            "max": 385,
            "min": 0,
            "orientation": "horizontal",
            "style": "IPY_MODEL_6881e4125a60441d965f5ccac0f92915",
            "value": 385
          }
        },
        "f876a32a337b42a2a9572760654c4ca6": {
          "model_module": "@jupyter-widgets/base",
          "model_module_version": "1.2.0",
          "model_name": "LayoutModel",
          "state": {
            "_model_module": "@jupyter-widgets/base",
            "_model_module_version": "1.2.0",
            "_model_name": "LayoutModel",
            "_view_count": null,
            "_view_module": "@jupyter-widgets/base",
            "_view_module_version": "1.2.0",
            "_view_name": "LayoutView",
            "align_content": null,
            "align_items": null,
            "align_self": null,
            "border": null,
            "bottom": null,
            "display": null,
            "flex": null,
            "flex_flow": null,
            "grid_area": null,
            "grid_auto_columns": null,
            "grid_auto_flow": null,
            "grid_auto_rows": null,
            "grid_column": null,
            "grid_gap": null,
            "grid_row": null,
            "grid_template_areas": null,
            "grid_template_columns": null,
            "grid_template_rows": null,
            "height": null,
            "justify_content": null,
            "justify_items": null,
            "left": null,
            "margin": null,
            "max_height": null,
            "max_width": null,
            "min_height": null,
            "min_width": null,
            "object_fit": null,
            "object_position": null,
            "order": null,
            "overflow": null,
            "overflow_x": null,
            "overflow_y": null,
            "padding": null,
            "right": null,
            "top": null,
            "visibility": null,
            "width": null
          }
        },
        "f8ea664da7334f2c861c9175f02e3216": {
          "model_module": "@jupyter-widgets/base",
          "model_module_version": "1.2.0",
          "model_name": "LayoutModel",
          "state": {
            "_model_module": "@jupyter-widgets/base",
            "_model_module_version": "1.2.0",
            "_model_name": "LayoutModel",
            "_view_count": null,
            "_view_module": "@jupyter-widgets/base",
            "_view_module_version": "1.2.0",
            "_view_name": "LayoutView",
            "align_content": null,
            "align_items": null,
            "align_self": null,
            "border": null,
            "bottom": null,
            "display": null,
            "flex": null,
            "flex_flow": null,
            "grid_area": null,
            "grid_auto_columns": null,
            "grid_auto_flow": null,
            "grid_auto_rows": null,
            "grid_column": null,
            "grid_gap": null,
            "grid_row": null,
            "grid_template_areas": null,
            "grid_template_columns": null,
            "grid_template_rows": null,
            "height": null,
            "justify_content": null,
            "justify_items": null,
            "left": null,
            "margin": null,
            "max_height": null,
            "max_width": null,
            "min_height": null,
            "min_width": null,
            "object_fit": null,
            "object_position": null,
            "order": null,
            "overflow": null,
            "overflow_x": null,
            "overflow_y": null,
            "padding": null,
            "right": null,
            "top": null,
            "visibility": null,
            "width": null
          }
        },
        "fec7fd60e8784bd2a274e758ad3d7f32": {
          "model_module": "@jupyter-widgets/base",
          "model_module_version": "1.2.0",
          "model_name": "LayoutModel",
          "state": {
            "_model_module": "@jupyter-widgets/base",
            "_model_module_version": "1.2.0",
            "_model_name": "LayoutModel",
            "_view_count": null,
            "_view_module": "@jupyter-widgets/base",
            "_view_module_version": "1.2.0",
            "_view_name": "LayoutView",
            "align_content": null,
            "align_items": null,
            "align_self": null,
            "border": null,
            "bottom": null,
            "display": null,
            "flex": null,
            "flex_flow": null,
            "grid_area": null,
            "grid_auto_columns": null,
            "grid_auto_flow": null,
            "grid_auto_rows": null,
            "grid_column": null,
            "grid_gap": null,
            "grid_row": null,
            "grid_template_areas": null,
            "grid_template_columns": null,
            "grid_template_rows": null,
            "height": null,
            "justify_content": null,
            "justify_items": null,
            "left": null,
            "margin": null,
            "max_height": null,
            "max_width": null,
            "min_height": null,
            "min_width": null,
            "object_fit": null,
            "object_position": null,
            "order": null,
            "overflow": null,
            "overflow_x": null,
            "overflow_y": null,
            "padding": null,
            "right": null,
            "top": null,
            "visibility": null,
            "width": null
          }
        },
        "feeee4a9b9a44a12b3423529ae4d86c1": {
          "model_module": "@jupyter-widgets/controls",
          "model_module_version": "1.5.0",
          "model_name": "ProgressStyleModel",
          "state": {
            "_model_module": "@jupyter-widgets/controls",
            "_model_module_version": "1.5.0",
            "_model_name": "ProgressStyleModel",
            "_view_count": null,
            "_view_module": "@jupyter-widgets/base",
            "_view_module_version": "1.2.0",
            "_view_name": "StyleView",
            "bar_color": null,
            "description_width": ""
          }
        }
      }
    }
  },
  "nbformat": 4,
  "nbformat_minor": 0
}